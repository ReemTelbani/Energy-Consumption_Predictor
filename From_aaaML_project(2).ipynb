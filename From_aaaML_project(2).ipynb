{
  "nbformat": 4,
  "nbformat_minor": 0,
  "metadata": {
    "kernelspec": {
      "language": "python",
      "display_name": "Python 3",
      "name": "python3"
    },
    "language_info": {
      "pygments_lexer": "ipython3",
      "nbconvert_exporter": "python",
      "version": "3.6.4",
      "file_extension": ".py",
      "codemirror_mode": {
        "name": "ipython",
        "version": 3
      },
      "name": "python",
      "mimetype": "text/x-python"
    },
    "colab": {
      "name": "From_aaaML_project(2).ipynb",
      "provenance": [],
      "collapsed_sections": [],
      "toc_visible": true,
      "include_colab_link": true
    },
    "accelerator": "GPU"
  },
  "cells": [
    {
      "cell_type": "markdown",
      "metadata": {
        "id": "view-in-github",
        "colab_type": "text"
      },
      "source": [
        "<a href=\"https://colab.research.google.com/github/ReemTelbani/Energy-Consumption_Predictor/blob/main/From_aaaML_project(2).ipynb\" target=\"_parent\"><img src=\"https://colab.research.google.com/assets/colab-badge.svg\" alt=\"Open In Colab\"/></a>"
      ]
    },
    {
      "cell_type": "markdown",
      "metadata": {
        "id": "1dxUsUu5D5UJ"
      },
      "source": [
        "# **1. Load data**"
      ]
    },
    {
      "cell_type": "code",
      "metadata": {
        "_uuid": "8f2839f25d086af736a60e9eeb907d3b93b6e0e5",
        "_cell_guid": "b1076dfc-b9ad-4769-8c92-a6c4dae69d19",
        "trusted": true,
        "id": "8se6-RQzCpUa",
        "colab": {
          "base_uri": "https://localhost:8080/"
        },
        "outputId": "fb6c8a93-e566-4626-c110-c15f25106bac"
      },
      "source": [
        "# Install Kaggle API\n",
        "!pip install --quiet kaggle\n",
        "\n",
        "import os\n",
        "if '.kaggle' not in os.listdir('/root'):\n",
        "    !mkdir ~/.kaggle\n",
        "\n",
        "# !mkdir -p ~/.kaggle\n",
        "!cp /content/kaggle.json ~/.kaggle/\n",
        "\n",
        "!chmod 600 /root/.kaggle/kaggle.json\n",
        "\n",
        "# Get the dataset\n",
        "!kaggle competitions download -c ashrae-energy-prediction"
      ],
      "execution_count": null,
      "outputs": [
        {
          "output_type": "stream",
          "text": [
            "Warning: Looks like you're using an outdated API Version, please consider updating (server 1.5.12 / client 1.5.4)\n",
            "Downloading weather_train.csv.zip to /content\n",
            "  0% 0.00/1.27M [00:00<?, ?B/s]\n",
            "100% 1.27M/1.27M [00:00<00:00, 85.6MB/s]\n",
            "Downloading sample_submission.csv.zip to /content\n",
            " 83% 73.0M/88.4M [00:02<00:00, 27.0MB/s]\n",
            "100% 88.4M/88.4M [00:02<00:00, 42.7MB/s]\n",
            "Downloading train.csv.zip to /content\n",
            " 94% 113M/120M [00:02<00:00, 34.2MB/s]\n",
            "100% 120M/120M [00:02<00:00, 46.2MB/s]\n",
            "Downloading test.csv.zip to /content\n",
            " 97% 162M/167M [00:03<00:00, 48.2MB/s]\n",
            "100% 167M/167M [00:03<00:00, 54.2MB/s]\n",
            "Downloading building_metadata.csv to /content\n",
            "  0% 0.00/44.5k [00:00<?, ?B/s]\n",
            "100% 44.5k/44.5k [00:00<00:00, 35.8MB/s]\n",
            "Downloading weather_test.csv.zip to /content\n",
            "  0% 0.00/2.53M [00:00<?, ?B/s]\n",
            "100% 2.53M/2.53M [00:00<00:00, 170MB/s]\n"
          ],
          "name": "stdout"
        }
      ]
    },
    {
      "cell_type": "code",
      "metadata": {
        "id": "kICwllCdDJHi"
      },
      "source": [
        "import pandas as pd"
      ],
      "execution_count": null,
      "outputs": []
    },
    {
      "cell_type": "code",
      "metadata": {
        "id": "o3gJrq3rxad4"
      },
      "source": [
        "weather = pd.read_csv('/content/weather_train.csv.zip')"
      ],
      "execution_count": null,
      "outputs": []
    },
    {
      "cell_type": "markdown",
      "metadata": {
        "id": "izsGv9gzxJ4H"
      },
      "source": [
        "lazem a2ra el weather to fill NULLs"
      ]
    },
    {
      "cell_type": "code",
      "metadata": {
        "trusted": true,
        "id": "S8e23aezCpUq"
      },
      "source": [
        "\n",
        "\n",
        "metre = pd.read_csv('/content/train.csv.zip')\n",
        "building = pd.read_csv('/content/building_metadata.csv')\n"
      ],
      "execution_count": null,
      "outputs": []
    },
    {
      "cell_type": "code",
      "metadata": {
        "id": "0oP84O6ExEeX"
      },
      "source": [
        ""
      ],
      "execution_count": null,
      "outputs": []
    },
    {
      "cell_type": "code",
      "metadata": {
        "trusted": true,
        "id": "EyLoDSyfCpUu",
        "colab": {
          "base_uri": "https://localhost:8080/",
          "height": 206
        },
        "outputId": "9d6d1d74-19f6-406b-84ef-7b7d1693418b"
      },
      "source": [
        "metre.head()"
      ],
      "execution_count": null,
      "outputs": [
        {
          "output_type": "execute_result",
          "data": {
            "text/html": [
              "<div>\n",
              "<style scoped>\n",
              "    .dataframe tbody tr th:only-of-type {\n",
              "        vertical-align: middle;\n",
              "    }\n",
              "\n",
              "    .dataframe tbody tr th {\n",
              "        vertical-align: top;\n",
              "    }\n",
              "\n",
              "    .dataframe thead th {\n",
              "        text-align: right;\n",
              "    }\n",
              "</style>\n",
              "<table border=\"1\" class=\"dataframe\">\n",
              "  <thead>\n",
              "    <tr style=\"text-align: right;\">\n",
              "      <th></th>\n",
              "      <th>building_id</th>\n",
              "      <th>meter</th>\n",
              "      <th>timestamp</th>\n",
              "      <th>meter_reading</th>\n",
              "    </tr>\n",
              "  </thead>\n",
              "  <tbody>\n",
              "    <tr>\n",
              "      <th>0</th>\n",
              "      <td>0</td>\n",
              "      <td>0</td>\n",
              "      <td>2016-01-01 00:00:00</td>\n",
              "      <td>0.0</td>\n",
              "    </tr>\n",
              "    <tr>\n",
              "      <th>1</th>\n",
              "      <td>1</td>\n",
              "      <td>0</td>\n",
              "      <td>2016-01-01 00:00:00</td>\n",
              "      <td>0.0</td>\n",
              "    </tr>\n",
              "    <tr>\n",
              "      <th>2</th>\n",
              "      <td>2</td>\n",
              "      <td>0</td>\n",
              "      <td>2016-01-01 00:00:00</td>\n",
              "      <td>0.0</td>\n",
              "    </tr>\n",
              "    <tr>\n",
              "      <th>3</th>\n",
              "      <td>3</td>\n",
              "      <td>0</td>\n",
              "      <td>2016-01-01 00:00:00</td>\n",
              "      <td>0.0</td>\n",
              "    </tr>\n",
              "    <tr>\n",
              "      <th>4</th>\n",
              "      <td>4</td>\n",
              "      <td>0</td>\n",
              "      <td>2016-01-01 00:00:00</td>\n",
              "      <td>0.0</td>\n",
              "    </tr>\n",
              "  </tbody>\n",
              "</table>\n",
              "</div>"
            ],
            "text/plain": [
              "   building_id  meter            timestamp  meter_reading\n",
              "0            0      0  2016-01-01 00:00:00            0.0\n",
              "1            1      0  2016-01-01 00:00:00            0.0\n",
              "2            2      0  2016-01-01 00:00:00            0.0\n",
              "3            3      0  2016-01-01 00:00:00            0.0\n",
              "4            4      0  2016-01-01 00:00:00            0.0"
            ]
          },
          "metadata": {
            "tags": []
          },
          "execution_count": 5
        }
      ]
    },
    {
      "cell_type": "code",
      "metadata": {
        "trusted": true,
        "id": "7GnzwIq7CpUz",
        "colab": {
          "base_uri": "https://localhost:8080/",
          "height": 206
        },
        "outputId": "2d17abe2-02ad-4095-a075-439f1d13b1e4"
      },
      "source": [
        "metre.head()"
      ],
      "execution_count": null,
      "outputs": [
        {
          "output_type": "execute_result",
          "data": {
            "text/html": [
              "<div>\n",
              "<style scoped>\n",
              "    .dataframe tbody tr th:only-of-type {\n",
              "        vertical-align: middle;\n",
              "    }\n",
              "\n",
              "    .dataframe tbody tr th {\n",
              "        vertical-align: top;\n",
              "    }\n",
              "\n",
              "    .dataframe thead th {\n",
              "        text-align: right;\n",
              "    }\n",
              "</style>\n",
              "<table border=\"1\" class=\"dataframe\">\n",
              "  <thead>\n",
              "    <tr style=\"text-align: right;\">\n",
              "      <th></th>\n",
              "      <th>building_id</th>\n",
              "      <th>meter</th>\n",
              "      <th>timestamp</th>\n",
              "      <th>meter_reading</th>\n",
              "    </tr>\n",
              "  </thead>\n",
              "  <tbody>\n",
              "    <tr>\n",
              "      <th>0</th>\n",
              "      <td>0</td>\n",
              "      <td>0</td>\n",
              "      <td>2016-01-01 00:00:00</td>\n",
              "      <td>0.0</td>\n",
              "    </tr>\n",
              "    <tr>\n",
              "      <th>1</th>\n",
              "      <td>1</td>\n",
              "      <td>0</td>\n",
              "      <td>2016-01-01 00:00:00</td>\n",
              "      <td>0.0</td>\n",
              "    </tr>\n",
              "    <tr>\n",
              "      <th>2</th>\n",
              "      <td>2</td>\n",
              "      <td>0</td>\n",
              "      <td>2016-01-01 00:00:00</td>\n",
              "      <td>0.0</td>\n",
              "    </tr>\n",
              "    <tr>\n",
              "      <th>3</th>\n",
              "      <td>3</td>\n",
              "      <td>0</td>\n",
              "      <td>2016-01-01 00:00:00</td>\n",
              "      <td>0.0</td>\n",
              "    </tr>\n",
              "    <tr>\n",
              "      <th>4</th>\n",
              "      <td>4</td>\n",
              "      <td>0</td>\n",
              "      <td>2016-01-01 00:00:00</td>\n",
              "      <td>0.0</td>\n",
              "    </tr>\n",
              "  </tbody>\n",
              "</table>\n",
              "</div>"
            ],
            "text/plain": [
              "   building_id  meter            timestamp  meter_reading\n",
              "0            0      0  2016-01-01 00:00:00            0.0\n",
              "1            1      0  2016-01-01 00:00:00            0.0\n",
              "2            2      0  2016-01-01 00:00:00            0.0\n",
              "3            3      0  2016-01-01 00:00:00            0.0\n",
              "4            4      0  2016-01-01 00:00:00            0.0"
            ]
          },
          "metadata": {
            "tags": []
          },
          "execution_count": 6
        }
      ]
    },
    {
      "cell_type": "code",
      "metadata": {
        "trusted": true,
        "id": "B6QDR_20CpUz"
      },
      "source": [
        "# import matplotlib.pyplot as plt\n",
        "# n, bins, batches  = plt.hist(x= train[\"meter_reading\"], bins=\"auto\", color = '#0504aa')\n",
        "# plt.grid(axis =\"y\")\n",
        "# plt.xlabel(\"meter_reading\")\n",
        "# plt.ylabel(\"count\")\n",
        "# plt.title(\"Sale Price distribution\")"
      ],
      "execution_count": null,
      "outputs": []
    },
    {
      "cell_type": "code",
      "metadata": {
        "id": "wdQFtTsHCpU0"
      },
      "source": [
        ""
      ],
      "execution_count": null,
      "outputs": []
    },
    {
      "cell_type": "code",
      "metadata": {
        "trusted": true,
        "id": "M6KGLsDiCpU1"
      },
      "source": [
        "# weather= pd.read_csv(\"/kaggle/input/ashrae-energy-prediction/weather_train.csv\")"
      ],
      "execution_count": null,
      "outputs": []
    },
    {
      "cell_type": "code",
      "metadata": {
        "trusted": true,
        "id": "cOxrRzfeCpU1",
        "colab": {
          "base_uri": "https://localhost:8080/",
          "height": 617
        },
        "outputId": "a725d12c-f23e-4db4-8cf0-f15d98c24cf7"
      },
      "source": [
        "weather"
      ],
      "execution_count": null,
      "outputs": [
        {
          "output_type": "execute_result",
          "data": {
            "text/html": [
              "<div>\n",
              "<style scoped>\n",
              "    .dataframe tbody tr th:only-of-type {\n",
              "        vertical-align: middle;\n",
              "    }\n",
              "\n",
              "    .dataframe tbody tr th {\n",
              "        vertical-align: top;\n",
              "    }\n",
              "\n",
              "    .dataframe thead th {\n",
              "        text-align: right;\n",
              "    }\n",
              "</style>\n",
              "<table border=\"1\" class=\"dataframe\">\n",
              "  <thead>\n",
              "    <tr style=\"text-align: right;\">\n",
              "      <th></th>\n",
              "      <th>site_id</th>\n",
              "      <th>timestamp</th>\n",
              "      <th>air_temperature</th>\n",
              "      <th>cloud_coverage</th>\n",
              "      <th>dew_temperature</th>\n",
              "      <th>precip_depth_1_hr</th>\n",
              "      <th>sea_level_pressure</th>\n",
              "      <th>wind_direction</th>\n",
              "      <th>wind_speed</th>\n",
              "    </tr>\n",
              "  </thead>\n",
              "  <tbody>\n",
              "    <tr>\n",
              "      <th>0</th>\n",
              "      <td>0</td>\n",
              "      <td>2016-01-01 00:00:00</td>\n",
              "      <td>25.0</td>\n",
              "      <td>6.0</td>\n",
              "      <td>20.0</td>\n",
              "      <td>NaN</td>\n",
              "      <td>1019.7</td>\n",
              "      <td>0.0</td>\n",
              "      <td>0.0</td>\n",
              "    </tr>\n",
              "    <tr>\n",
              "      <th>1</th>\n",
              "      <td>0</td>\n",
              "      <td>2016-01-01 01:00:00</td>\n",
              "      <td>24.4</td>\n",
              "      <td>NaN</td>\n",
              "      <td>21.1</td>\n",
              "      <td>-1.0</td>\n",
              "      <td>1020.2</td>\n",
              "      <td>70.0</td>\n",
              "      <td>1.5</td>\n",
              "    </tr>\n",
              "    <tr>\n",
              "      <th>2</th>\n",
              "      <td>0</td>\n",
              "      <td>2016-01-01 02:00:00</td>\n",
              "      <td>22.8</td>\n",
              "      <td>2.0</td>\n",
              "      <td>21.1</td>\n",
              "      <td>0.0</td>\n",
              "      <td>1020.2</td>\n",
              "      <td>0.0</td>\n",
              "      <td>0.0</td>\n",
              "    </tr>\n",
              "    <tr>\n",
              "      <th>3</th>\n",
              "      <td>0</td>\n",
              "      <td>2016-01-01 03:00:00</td>\n",
              "      <td>21.1</td>\n",
              "      <td>2.0</td>\n",
              "      <td>20.6</td>\n",
              "      <td>0.0</td>\n",
              "      <td>1020.1</td>\n",
              "      <td>0.0</td>\n",
              "      <td>0.0</td>\n",
              "    </tr>\n",
              "    <tr>\n",
              "      <th>4</th>\n",
              "      <td>0</td>\n",
              "      <td>2016-01-01 04:00:00</td>\n",
              "      <td>20.0</td>\n",
              "      <td>2.0</td>\n",
              "      <td>20.0</td>\n",
              "      <td>-1.0</td>\n",
              "      <td>1020.0</td>\n",
              "      <td>250.0</td>\n",
              "      <td>2.6</td>\n",
              "    </tr>\n",
              "    <tr>\n",
              "      <th>...</th>\n",
              "      <td>...</td>\n",
              "      <td>...</td>\n",
              "      <td>...</td>\n",
              "      <td>...</td>\n",
              "      <td>...</td>\n",
              "      <td>...</td>\n",
              "      <td>...</td>\n",
              "      <td>...</td>\n",
              "      <td>...</td>\n",
              "    </tr>\n",
              "    <tr>\n",
              "      <th>139768</th>\n",
              "      <td>15</td>\n",
              "      <td>2016-12-31 19:00:00</td>\n",
              "      <td>3.0</td>\n",
              "      <td>NaN</td>\n",
              "      <td>-8.0</td>\n",
              "      <td>NaN</td>\n",
              "      <td>NaN</td>\n",
              "      <td>180.0</td>\n",
              "      <td>5.7</td>\n",
              "    </tr>\n",
              "    <tr>\n",
              "      <th>139769</th>\n",
              "      <td>15</td>\n",
              "      <td>2016-12-31 20:00:00</td>\n",
              "      <td>2.8</td>\n",
              "      <td>2.0</td>\n",
              "      <td>-8.9</td>\n",
              "      <td>NaN</td>\n",
              "      <td>1007.4</td>\n",
              "      <td>180.0</td>\n",
              "      <td>7.7</td>\n",
              "    </tr>\n",
              "    <tr>\n",
              "      <th>139770</th>\n",
              "      <td>15</td>\n",
              "      <td>2016-12-31 21:00:00</td>\n",
              "      <td>2.8</td>\n",
              "      <td>NaN</td>\n",
              "      <td>-7.2</td>\n",
              "      <td>NaN</td>\n",
              "      <td>1007.5</td>\n",
              "      <td>180.0</td>\n",
              "      <td>5.1</td>\n",
              "    </tr>\n",
              "    <tr>\n",
              "      <th>139771</th>\n",
              "      <td>15</td>\n",
              "      <td>2016-12-31 22:00:00</td>\n",
              "      <td>2.2</td>\n",
              "      <td>NaN</td>\n",
              "      <td>-6.7</td>\n",
              "      <td>NaN</td>\n",
              "      <td>1008.0</td>\n",
              "      <td>170.0</td>\n",
              "      <td>4.6</td>\n",
              "    </tr>\n",
              "    <tr>\n",
              "      <th>139772</th>\n",
              "      <td>15</td>\n",
              "      <td>2016-12-31 23:00:00</td>\n",
              "      <td>1.7</td>\n",
              "      <td>NaN</td>\n",
              "      <td>-5.6</td>\n",
              "      <td>-1.0</td>\n",
              "      <td>1008.5</td>\n",
              "      <td>180.0</td>\n",
              "      <td>8.8</td>\n",
              "    </tr>\n",
              "  </tbody>\n",
              "</table>\n",
              "<p>139773 rows × 9 columns</p>\n",
              "</div>"
            ],
            "text/plain": [
              "        site_id            timestamp  ...  wind_direction  wind_speed\n",
              "0             0  2016-01-01 00:00:00  ...             0.0         0.0\n",
              "1             0  2016-01-01 01:00:00  ...            70.0         1.5\n",
              "2             0  2016-01-01 02:00:00  ...             0.0         0.0\n",
              "3             0  2016-01-01 03:00:00  ...             0.0         0.0\n",
              "4             0  2016-01-01 04:00:00  ...           250.0         2.6\n",
              "...         ...                  ...  ...             ...         ...\n",
              "139768       15  2016-12-31 19:00:00  ...           180.0         5.7\n",
              "139769       15  2016-12-31 20:00:00  ...           180.0         7.7\n",
              "139770       15  2016-12-31 21:00:00  ...           180.0         5.1\n",
              "139771       15  2016-12-31 22:00:00  ...           170.0         4.6\n",
              "139772       15  2016-12-31 23:00:00  ...           180.0         8.8\n",
              "\n",
              "[139773 rows x 9 columns]"
            ]
          },
          "metadata": {
            "tags": []
          },
          "execution_count": 9
        }
      ]
    },
    {
      "cell_type": "code",
      "metadata": {
        "trusted": true,
        "id": "9s451DmqCpU3"
      },
      "source": [
        ""
      ],
      "execution_count": null,
      "outputs": []
    },
    {
      "cell_type": "code",
      "metadata": {
        "trusted": true,
        "id": "KnZ149nfCpU3",
        "colab": {
          "base_uri": "https://localhost:8080/",
          "height": 424
        },
        "outputId": "da5755a0-35c7-4c48-de7b-2b5ed88ede50"
      },
      "source": [
        "building"
      ],
      "execution_count": null,
      "outputs": [
        {
          "output_type": "execute_result",
          "data": {
            "text/html": [
              "<div>\n",
              "<style scoped>\n",
              "    .dataframe tbody tr th:only-of-type {\n",
              "        vertical-align: middle;\n",
              "    }\n",
              "\n",
              "    .dataframe tbody tr th {\n",
              "        vertical-align: top;\n",
              "    }\n",
              "\n",
              "    .dataframe thead th {\n",
              "        text-align: right;\n",
              "    }\n",
              "</style>\n",
              "<table border=\"1\" class=\"dataframe\">\n",
              "  <thead>\n",
              "    <tr style=\"text-align: right;\">\n",
              "      <th></th>\n",
              "      <th>site_id</th>\n",
              "      <th>building_id</th>\n",
              "      <th>primary_use</th>\n",
              "      <th>square_feet</th>\n",
              "      <th>year_built</th>\n",
              "      <th>floor_count</th>\n",
              "    </tr>\n",
              "  </thead>\n",
              "  <tbody>\n",
              "    <tr>\n",
              "      <th>0</th>\n",
              "      <td>0</td>\n",
              "      <td>0</td>\n",
              "      <td>Education</td>\n",
              "      <td>7432</td>\n",
              "      <td>2008.0</td>\n",
              "      <td>NaN</td>\n",
              "    </tr>\n",
              "    <tr>\n",
              "      <th>1</th>\n",
              "      <td>0</td>\n",
              "      <td>1</td>\n",
              "      <td>Education</td>\n",
              "      <td>2720</td>\n",
              "      <td>2004.0</td>\n",
              "      <td>NaN</td>\n",
              "    </tr>\n",
              "    <tr>\n",
              "      <th>2</th>\n",
              "      <td>0</td>\n",
              "      <td>2</td>\n",
              "      <td>Education</td>\n",
              "      <td>5376</td>\n",
              "      <td>1991.0</td>\n",
              "      <td>NaN</td>\n",
              "    </tr>\n",
              "    <tr>\n",
              "      <th>3</th>\n",
              "      <td>0</td>\n",
              "      <td>3</td>\n",
              "      <td>Education</td>\n",
              "      <td>23685</td>\n",
              "      <td>2002.0</td>\n",
              "      <td>NaN</td>\n",
              "    </tr>\n",
              "    <tr>\n",
              "      <th>4</th>\n",
              "      <td>0</td>\n",
              "      <td>4</td>\n",
              "      <td>Education</td>\n",
              "      <td>116607</td>\n",
              "      <td>1975.0</td>\n",
              "      <td>NaN</td>\n",
              "    </tr>\n",
              "    <tr>\n",
              "      <th>...</th>\n",
              "      <td>...</td>\n",
              "      <td>...</td>\n",
              "      <td>...</td>\n",
              "      <td>...</td>\n",
              "      <td>...</td>\n",
              "      <td>...</td>\n",
              "    </tr>\n",
              "    <tr>\n",
              "      <th>1444</th>\n",
              "      <td>15</td>\n",
              "      <td>1444</td>\n",
              "      <td>Entertainment/public assembly</td>\n",
              "      <td>19619</td>\n",
              "      <td>1914.0</td>\n",
              "      <td>NaN</td>\n",
              "    </tr>\n",
              "    <tr>\n",
              "      <th>1445</th>\n",
              "      <td>15</td>\n",
              "      <td>1445</td>\n",
              "      <td>Education</td>\n",
              "      <td>4298</td>\n",
              "      <td>NaN</td>\n",
              "      <td>NaN</td>\n",
              "    </tr>\n",
              "    <tr>\n",
              "      <th>1446</th>\n",
              "      <td>15</td>\n",
              "      <td>1446</td>\n",
              "      <td>Entertainment/public assembly</td>\n",
              "      <td>11265</td>\n",
              "      <td>1997.0</td>\n",
              "      <td>NaN</td>\n",
              "    </tr>\n",
              "    <tr>\n",
              "      <th>1447</th>\n",
              "      <td>15</td>\n",
              "      <td>1447</td>\n",
              "      <td>Lodging/residential</td>\n",
              "      <td>29775</td>\n",
              "      <td>2001.0</td>\n",
              "      <td>NaN</td>\n",
              "    </tr>\n",
              "    <tr>\n",
              "      <th>1448</th>\n",
              "      <td>15</td>\n",
              "      <td>1448</td>\n",
              "      <td>Office</td>\n",
              "      <td>92271</td>\n",
              "      <td>2001.0</td>\n",
              "      <td>NaN</td>\n",
              "    </tr>\n",
              "  </tbody>\n",
              "</table>\n",
              "<p>1449 rows × 6 columns</p>\n",
              "</div>"
            ],
            "text/plain": [
              "      site_id  building_id  ... year_built  floor_count\n",
              "0           0            0  ...     2008.0          NaN\n",
              "1           0            1  ...     2004.0          NaN\n",
              "2           0            2  ...     1991.0          NaN\n",
              "3           0            3  ...     2002.0          NaN\n",
              "4           0            4  ...     1975.0          NaN\n",
              "...       ...          ...  ...        ...          ...\n",
              "1444       15         1444  ...     1914.0          NaN\n",
              "1445       15         1445  ...        NaN          NaN\n",
              "1446       15         1446  ...     1997.0          NaN\n",
              "1447       15         1447  ...     2001.0          NaN\n",
              "1448       15         1448  ...     2001.0          NaN\n",
              "\n",
              "[1449 rows x 6 columns]"
            ]
          },
          "metadata": {
            "tags": []
          },
          "execution_count": 10
        }
      ]
    },
    {
      "cell_type": "code",
      "metadata": {
        "trusted": true,
        "id": "6Fbo_KX6CpU5",
        "colab": {
          "base_uri": "https://localhost:8080/"
        },
        "outputId": "48b22486-4c3d-4813-ef1b-00d8bf44c3f4"
      },
      "source": [
        "building[\"primary_use\"].value_counts()"
      ],
      "execution_count": null,
      "outputs": [
        {
          "output_type": "execute_result",
          "data": {
            "text/plain": [
              "Education                        549\n",
              "Office                           279\n",
              "Entertainment/public assembly    184\n",
              "Public services                  156\n",
              "Lodging/residential              147\n",
              "Other                             25\n",
              "Healthcare                        23\n",
              "Parking                           22\n",
              "Warehouse/storage                 13\n",
              "Manufacturing/industrial          12\n",
              "Retail                            11\n",
              "Services                          10\n",
              "Technology/science                 6\n",
              "Food sales and service             5\n",
              "Utility                            4\n",
              "Religious worship                  3\n",
              "Name: primary_use, dtype: int64"
            ]
          },
          "metadata": {
            "tags": []
          },
          "execution_count": 11
        }
      ]
    },
    {
      "cell_type": "markdown",
      "metadata": {
        "id": "tTrWpda6EA_l"
      },
      "source": [
        "# **2. Full EDA: Data exploration and visualization**>>MORE"
      ]
    },
    {
      "cell_type": "markdown",
      "metadata": {
        "id": "v62k_ZtBEPbF"
      },
      "source": [
        "## **Check** for duplicates"
      ]
    },
    {
      "cell_type": "code",
      "metadata": {
        "id": "8ql-swkHEMKg"
      },
      "source": [
        "# train[train.duplicated()]"
      ],
      "execution_count": null,
      "outputs": []
    },
    {
      "cell_type": "markdown",
      "metadata": {
        "id": "OR_1GyagEgEo"
      },
      "source": [
        "## Visualize variables\n",
        "- per site"
      ]
    },
    {
      "cell_type": "code",
      "metadata": {
        "id": "BxirDGLsEdz2"
      },
      "source": [
        ""
      ],
      "execution_count": null,
      "outputs": []
    },
    {
      "cell_type": "code",
      "metadata": {
        "id": "qmwrUtIsyS3s"
      },
      "source": [
        ""
      ],
      "execution_count": null,
      "outputs": []
    },
    {
      "cell_type": "code",
      "metadata": {
        "id": "Uwd7wYXBy3J8"
      },
      "source": [
        "# # Converting meter to what they stand for\n",
        "\n",
        "# train_m['meter'].replace({\"electricity\":0,\"chilledwater\":1,\"steam\":2,\"hotwater\":3},inplace=True)"
      ],
      "execution_count": null,
      "outputs": []
    },
    {
      "cell_type": "code",
      "metadata": {
        "id": "MdQPYSi329q2"
      },
      "source": [
        ""
      ],
      "execution_count": null,
      "outputs": []
    },
    {
      "cell_type": "markdown",
      "metadata": {
        "id": "HhHTFkcHCpU6"
      },
      "source": [
        "# Explore and Fill NA's"
      ]
    },
    {
      "cell_type": "code",
      "metadata": {
        "trusted": true,
        "id": "0lXTFCqHCpU7",
        "colab": {
          "base_uri": "https://localhost:8080/"
        },
        "outputId": "571f0433-0059-4115-cdd7-f21503b1eaef"
      },
      "source": [
        "metre.isnull().sum() /metre.shape[0]"
      ],
      "execution_count": null,
      "outputs": [
        {
          "output_type": "execute_result",
          "data": {
            "text/plain": [
              "building_id      0.0\n",
              "meter            0.0\n",
              "timestamp        0.0\n",
              "meter_reading    0.0\n",
              "dtype: float64"
            ]
          },
          "metadata": {
            "tags": []
          },
          "execution_count": 14
        }
      ]
    },
    {
      "cell_type": "code",
      "metadata": {
        "trusted": true,
        "id": "XwsbrsZDCpU-"
      },
      "source": [
        ""
      ],
      "execution_count": null,
      "outputs": []
    },
    {
      "cell_type": "code",
      "metadata": {
        "id": "8jT6S4VaCpU_"
      },
      "source": [
        ""
      ],
      "execution_count": null,
      "outputs": []
    },
    {
      "cell_type": "code",
      "metadata": {
        "trusted": true,
        "id": "xAmbqThPCpVA",
        "colab": {
          "base_uri": "https://localhost:8080/"
        },
        "outputId": "e61a6977-df4d-4c13-afba-edd892951f39"
      },
      "source": [
        "building.isnull().sum()/1449 "
      ],
      "execution_count": null,
      "outputs": [
        {
          "output_type": "execute_result",
          "data": {
            "text/plain": [
              "site_id        0.000000\n",
              "building_id    0.000000\n",
              "primary_use    0.000000\n",
              "square_feet    0.000000\n",
              "year_built     0.534161\n",
              "floor_count    0.755003\n",
              "dtype: float64"
            ]
          },
          "metadata": {
            "tags": []
          },
          "execution_count": 15
        }
      ]
    },
    {
      "cell_type": "code",
      "metadata": {
        "trusted": true,
        "id": "xOMAtXIFCpVA"
      },
      "source": [
        "building.drop([\"floor_count\", \"year_built\"], axis=1, inplace=True)"
      ],
      "execution_count": null,
      "outputs": []
    },
    {
      "cell_type": "code",
      "metadata": {
        "id": "KHuedtdg8L6i"
      },
      "source": [
        "# weather[\"precip_depth_1_hr\"].value_counts()"
      ],
      "execution_count": null,
      "outputs": []
    },
    {
      "cell_type": "code",
      "metadata": {
        "id": "m77rMYktqYau"
      },
      "source": [
        "# cum_air"
      ],
      "execution_count": null,
      "outputs": []
    },
    {
      "cell_type": "markdown",
      "metadata": {
        "id": "8DZsh-edCpVB"
      },
      "source": [
        "Mostly, missing air_temp data isn't contigous, so this method could work."
      ]
    },
    {
      "cell_type": "markdown",
      "metadata": {
        "id": "fYJ18bORGaft"
      },
      "source": [
        "## Weather data; exploring NA's"
      ]
    },
    {
      "cell_type": "code",
      "metadata": {
        "trusted": true,
        "id": "95P5UIonCpVA",
        "colab": {
          "base_uri": "https://localhost:8080/"
        },
        "outputId": "1c2f3f97-446c-4345-cd01-bfc825614441"
      },
      "source": [
        "weather.isnull().sum()/ weather.shape[0] "
      ],
      "execution_count": null,
      "outputs": [
        {
          "output_type": "execute_result",
          "data": {
            "text/plain": [
              "site_id               0.000000\n",
              "timestamp             0.000000\n",
              "air_temperature       0.000393\n",
              "cloud_coverage        0.494895\n",
              "dew_temperature       0.000808\n",
              "precip_depth_1_hr     0.359791\n",
              "sea_level_pressure    0.075966\n",
              "wind_direction        0.044844\n",
              "wind_speed            0.002175\n",
              "dtype: float64"
            ]
          },
          "metadata": {
            "tags": []
          },
          "execution_count": 17
        }
      ]
    },
    {
      "cell_type": "code",
      "metadata": {
        "trusted": true,
        "id": "rbE6ucRnCpVB"
      },
      "source": [
        "# #cumulative difference; group by site\n",
        "# cum_air=[]\n",
        "# cum_air.append(0)\n",
        "# n= weather[weather[\"air_temperature\"].isnull()].index.shape[0]\n",
        "# for i in range(1,n):\n",
        "#   cum_air.append(weather[weather[\"air_temperature\"].isnull()].index[i] - weather[weather[\"air_temperature\"].isnull()].index[i-1])\n"
      ],
      "execution_count": null,
      "outputs": []
    },
    {
      "cell_type": "code",
      "metadata": {
        "trusted": true,
        "id": "Whgutk_SCpVC",
        "colab": {
          "base_uri": "https://localhost:8080/"
        },
        "outputId": "073522ac-3728-443f-a9ef-6921a492e96b"
      },
      "source": [
        "weather[weather[\"cloud_coverage\"].isnull()][\"site_id\"].value_counts()"
      ],
      "execution_count": null,
      "outputs": [
        {
          "output_type": "execute_result",
          "data": {
            "text/plain": [
              "11    8614\n",
              "7     8614\n",
              "1     7062\n",
              "5     6030\n",
              "15    4399\n",
              "13    4298\n",
              "4     4230\n",
              "8     3830\n",
              "0     3830\n",
              "3     3642\n",
              "9     3458\n",
              "14    3311\n",
              "6     2992\n",
              "10    2450\n",
              "2     2354\n",
              "12      59\n",
              "Name: site_id, dtype: int64"
            ]
          },
          "metadata": {
            "tags": []
          },
          "execution_count": 21
        }
      ]
    },
    {
      "cell_type": "code",
      "metadata": {
        "colab": {
          "base_uri": "https://localhost:8080/"
        },
        "id": "VIozOzFjyFZu",
        "outputId": "ceda724f-e721-4ef0-e361-45220bbeadd0"
      },
      "source": [
        "weather[\"cloud_coverage\"].value_counts()"
      ],
      "execution_count": null,
      "outputs": [
        {
          "output_type": "execute_result",
          "data": {
            "text/plain": [
              "0.0    33871\n",
              "2.0    13585\n",
              "4.0    10241\n",
              "8.0     3531\n",
              "6.0     3521\n",
              "7.0     3485\n",
              "1.0      713\n",
              "3.0      608\n",
              "5.0      526\n",
              "9.0      519\n",
              "Name: cloud_coverage, dtype: int64"
            ]
          },
          "metadata": {
            "tags": []
          },
          "execution_count": 22
        }
      ]
    },
    {
      "cell_type": "code",
      "metadata": {
        "colab": {
          "base_uri": "https://localhost:8080/",
          "height": 602
        },
        "id": "eTmqLjlewaS-",
        "outputId": "bee45688-35cb-4eb2-ee5e-9a9fb07f86ae"
      },
      "source": [
        "weather.groupby('site_id').mean()"
      ],
      "execution_count": null,
      "outputs": [
        {
          "output_type": "execute_result",
          "data": {
            "text/html": [
              "<div>\n",
              "<style scoped>\n",
              "    .dataframe tbody tr th:only-of-type {\n",
              "        vertical-align: middle;\n",
              "    }\n",
              "\n",
              "    .dataframe tbody tr th {\n",
              "        vertical-align: top;\n",
              "    }\n",
              "\n",
              "    .dataframe thead th {\n",
              "        text-align: right;\n",
              "    }\n",
              "</style>\n",
              "<table border=\"1\" class=\"dataframe\">\n",
              "  <thead>\n",
              "    <tr style=\"text-align: right;\">\n",
              "      <th></th>\n",
              "      <th>air_temperature</th>\n",
              "      <th>cloud_coverage</th>\n",
              "      <th>dew_temperature</th>\n",
              "      <th>precip_depth_1_hr</th>\n",
              "      <th>sea_level_pressure</th>\n",
              "      <th>wind_direction</th>\n",
              "      <th>wind_speed</th>\n",
              "    </tr>\n",
              "    <tr>\n",
              "      <th>site_id</th>\n",
              "      <th></th>\n",
              "      <th></th>\n",
              "      <th></th>\n",
              "      <th></th>\n",
              "      <th></th>\n",
              "      <th></th>\n",
              "      <th></th>\n",
              "    </tr>\n",
              "  </thead>\n",
              "  <tbody>\n",
              "    <tr>\n",
              "      <th>0</th>\n",
              "      <td>22.836021</td>\n",
              "      <td>3.044610</td>\n",
              "      <td>16.817880</td>\n",
              "      <td>1.382557</td>\n",
              "      <td>1017.988378</td>\n",
              "      <td>156.494024</td>\n",
              "      <td>3.375114</td>\n",
              "    </tr>\n",
              "    <tr>\n",
              "      <th>1</th>\n",
              "      <td>11.711801</td>\n",
              "      <td>0.084656</td>\n",
              "      <td>7.646473</td>\n",
              "      <td>NaN</td>\n",
              "      <td>1015.989795</td>\n",
              "      <td>195.584475</td>\n",
              "      <td>3.967043</td>\n",
              "    </tr>\n",
              "    <tr>\n",
              "      <th>2</th>\n",
              "      <td>24.940321</td>\n",
              "      <td>1.958469</td>\n",
              "      <td>4.069506</td>\n",
              "      <td>0.157738</td>\n",
              "      <td>1011.679311</td>\n",
              "      <td>152.777100</td>\n",
              "      <td>2.932764</td>\n",
              "    </tr>\n",
              "    <tr>\n",
              "      <th>3</th>\n",
              "      <td>15.520579</td>\n",
              "      <td>3.879136</td>\n",
              "      <td>8.126214</td>\n",
              "      <td>0.691868</td>\n",
              "      <td>1017.938692</td>\n",
              "      <td>185.063174</td>\n",
              "      <td>3.910893</td>\n",
              "    </tr>\n",
              "    <tr>\n",
              "      <th>4</th>\n",
              "      <td>15.236366</td>\n",
              "      <td>1.867999</td>\n",
              "      <td>9.894750</td>\n",
              "      <td>0.248594</td>\n",
              "      <td>1016.887750</td>\n",
              "      <td>207.864715</td>\n",
              "      <td>3.858226</td>\n",
              "    </tr>\n",
              "    <tr>\n",
              "      <th>5</th>\n",
              "      <td>10.867931</td>\n",
              "      <td>0.290642</td>\n",
              "      <td>8.194676</td>\n",
              "      <td>NaN</td>\n",
              "      <td>NaN</td>\n",
              "      <td>200.053191</td>\n",
              "      <td>4.768087</td>\n",
              "    </tr>\n",
              "    <tr>\n",
              "      <th>6</th>\n",
              "      <td>15.141678</td>\n",
              "      <td>0.647668</td>\n",
              "      <td>7.320691</td>\n",
              "      <td>0.797768</td>\n",
              "      <td>1017.527954</td>\n",
              "      <td>131.618143</td>\n",
              "      <td>2.197758</td>\n",
              "    </tr>\n",
              "    <tr>\n",
              "      <th>7</th>\n",
              "      <td>7.888867</td>\n",
              "      <td>NaN</td>\n",
              "      <td>1.905913</td>\n",
              "      <td>11.350205</td>\n",
              "      <td>1015.252010</td>\n",
              "      <td>208.931739</td>\n",
              "      <td>3.445565</td>\n",
              "    </tr>\n",
              "    <tr>\n",
              "      <th>8</th>\n",
              "      <td>22.836021</td>\n",
              "      <td>3.044610</td>\n",
              "      <td>16.817880</td>\n",
              "      <td>1.382557</td>\n",
              "      <td>1017.988378</td>\n",
              "      <td>156.494024</td>\n",
              "      <td>3.375114</td>\n",
              "    </tr>\n",
              "    <tr>\n",
              "      <th>9</th>\n",
              "      <td>21.367499</td>\n",
              "      <td>0.610673</td>\n",
              "      <td>14.613302</td>\n",
              "      <td>0.755158</td>\n",
              "      <td>1016.625114</td>\n",
              "      <td>116.648987</td>\n",
              "      <td>2.083658</td>\n",
              "    </tr>\n",
              "    <tr>\n",
              "      <th>10</th>\n",
              "      <td>11.644679</td>\n",
              "      <td>0.376500</td>\n",
              "      <td>0.082273</td>\n",
              "      <td>0.457453</td>\n",
              "      <td>1015.668788</td>\n",
              "      <td>179.879971</td>\n",
              "      <td>3.158677</td>\n",
              "    </tr>\n",
              "    <tr>\n",
              "      <th>11</th>\n",
              "      <td>7.888867</td>\n",
              "      <td>NaN</td>\n",
              "      <td>1.905913</td>\n",
              "      <td>11.350205</td>\n",
              "      <td>1015.252010</td>\n",
              "      <td>208.931739</td>\n",
              "      <td>3.445565</td>\n",
              "    </tr>\n",
              "    <tr>\n",
              "      <th>12</th>\n",
              "      <td>9.843232</td>\n",
              "      <td>5.723091</td>\n",
              "      <td>6.519966</td>\n",
              "      <td>NaN</td>\n",
              "      <td>1014.425474</td>\n",
              "      <td>202.774732</td>\n",
              "      <td>5.511399</td>\n",
              "    </tr>\n",
              "    <tr>\n",
              "      <th>13</th>\n",
              "      <td>9.879617</td>\n",
              "      <td>2.873133</td>\n",
              "      <td>3.401731</td>\n",
              "      <td>0.880515</td>\n",
              "      <td>1015.895371</td>\n",
              "      <td>187.969881</td>\n",
              "      <td>4.197358</td>\n",
              "    </tr>\n",
              "    <tr>\n",
              "      <th>14</th>\n",
              "      <td>13.258409</td>\n",
              "      <td>0.562203</td>\n",
              "      <td>5.775160</td>\n",
              "      <td>0.742740</td>\n",
              "      <td>1016.377985</td>\n",
              "      <td>187.723813</td>\n",
              "      <td>3.076776</td>\n",
              "    </tr>\n",
              "    <tr>\n",
              "      <th>15</th>\n",
              "      <td>9.357618</td>\n",
              "      <td>1.109988</td>\n",
              "      <td>4.140469</td>\n",
              "      <td>3.495009</td>\n",
              "      <td>1016.980579</td>\n",
              "      <td>186.525816</td>\n",
              "      <td>3.645490</td>\n",
              "    </tr>\n",
              "  </tbody>\n",
              "</table>\n",
              "</div>"
            ],
            "text/plain": [
              "         air_temperature  cloud_coverage  ...  wind_direction  wind_speed\n",
              "site_id                                   ...                            \n",
              "0              22.836021        3.044610  ...      156.494024    3.375114\n",
              "1              11.711801        0.084656  ...      195.584475    3.967043\n",
              "2              24.940321        1.958469  ...      152.777100    2.932764\n",
              "3              15.520579        3.879136  ...      185.063174    3.910893\n",
              "4              15.236366        1.867999  ...      207.864715    3.858226\n",
              "5              10.867931        0.290642  ...      200.053191    4.768087\n",
              "6              15.141678        0.647668  ...      131.618143    2.197758\n",
              "7               7.888867             NaN  ...      208.931739    3.445565\n",
              "8              22.836021        3.044610  ...      156.494024    3.375114\n",
              "9              21.367499        0.610673  ...      116.648987    2.083658\n",
              "10             11.644679        0.376500  ...      179.879971    3.158677\n",
              "11              7.888867             NaN  ...      208.931739    3.445565\n",
              "12              9.843232        5.723091  ...      202.774732    5.511399\n",
              "13              9.879617        2.873133  ...      187.969881    4.197358\n",
              "14             13.258409        0.562203  ...      187.723813    3.076776\n",
              "15              9.357618        1.109988  ...      186.525816    3.645490\n",
              "\n",
              "[16 rows x 7 columns]"
            ]
          },
          "metadata": {
            "tags": []
          },
          "execution_count": 23
        }
      ]
    },
    {
      "cell_type": "code",
      "metadata": {
        "colab": {
          "base_uri": "https://localhost:8080/"
        },
        "id": "Mu2WIaw5vmSY",
        "outputId": "fe02cc84-9172-42cf-e652-af8993264284"
      },
      "source": [
        "\n",
        "weather[weather[\"site_id\"]==0][\"cloud_coverage\"].value_counts()"
      ],
      "execution_count": null,
      "outputs": [
        {
          "output_type": "execute_result",
          "data": {
            "text/plain": [
              "4.0    1672\n",
              "2.0    1630\n",
              "0.0     880\n",
              "6.0     529\n",
              "8.0     226\n",
              "9.0      17\n",
              "Name: cloud_coverage, dtype: int64"
            ]
          },
          "metadata": {
            "tags": []
          },
          "execution_count": 24
        }
      ]
    },
    {
      "cell_type": "code",
      "metadata": {
        "id": "XhPNU1-h9I1y"
      },
      "source": [
        ""
      ],
      "execution_count": null,
      "outputs": []
    },
    {
      "cell_type": "code",
      "metadata": {
        "colab": {
          "base_uri": "https://localhost:8080/"
        },
        "id": "w1erS2EdzhsA",
        "outputId": "f8e371b0-9a4a-4fd7-beab-0627aaf1c69d"
      },
      "source": [
        "round(weather['cloud_coverage'].mean())"
      ],
      "execution_count": null,
      "outputs": [
        {
          "output_type": "execute_result",
          "data": {
            "text/plain": [
              "2"
            ]
          },
          "metadata": {
            "tags": []
          },
          "execution_count": 25
        }
      ]
    },
    {
      "cell_type": "code",
      "metadata": {
        "colab": {
          "base_uri": "https://localhost:8080/",
          "height": 617
        },
        "id": "XVYJqMPd9JfN",
        "outputId": "e6b574c0-7943-4333-c0ff-91d40ea0c4fb"
      },
      "source": [
        "\n",
        "weather[weather[\"cloud_coverage\"].isnull()==False]"
      ],
      "execution_count": null,
      "outputs": [
        {
          "output_type": "execute_result",
          "data": {
            "text/html": [
              "<div>\n",
              "<style scoped>\n",
              "    .dataframe tbody tr th:only-of-type {\n",
              "        vertical-align: middle;\n",
              "    }\n",
              "\n",
              "    .dataframe tbody tr th {\n",
              "        vertical-align: top;\n",
              "    }\n",
              "\n",
              "    .dataframe thead th {\n",
              "        text-align: right;\n",
              "    }\n",
              "</style>\n",
              "<table border=\"1\" class=\"dataframe\">\n",
              "  <thead>\n",
              "    <tr style=\"text-align: right;\">\n",
              "      <th></th>\n",
              "      <th>site_id</th>\n",
              "      <th>timestamp</th>\n",
              "      <th>air_temperature</th>\n",
              "      <th>cloud_coverage</th>\n",
              "      <th>dew_temperature</th>\n",
              "      <th>precip_depth_1_hr</th>\n",
              "      <th>sea_level_pressure</th>\n",
              "      <th>wind_direction</th>\n",
              "      <th>wind_speed</th>\n",
              "    </tr>\n",
              "  </thead>\n",
              "  <tbody>\n",
              "    <tr>\n",
              "      <th>0</th>\n",
              "      <td>0</td>\n",
              "      <td>2016-01-01 00:00:00</td>\n",
              "      <td>25.0</td>\n",
              "      <td>6.0</td>\n",
              "      <td>20.0</td>\n",
              "      <td>NaN</td>\n",
              "      <td>1019.7</td>\n",
              "      <td>0.0</td>\n",
              "      <td>0.0</td>\n",
              "    </tr>\n",
              "    <tr>\n",
              "      <th>2</th>\n",
              "      <td>0</td>\n",
              "      <td>2016-01-01 02:00:00</td>\n",
              "      <td>22.8</td>\n",
              "      <td>2.0</td>\n",
              "      <td>21.1</td>\n",
              "      <td>0.0</td>\n",
              "      <td>1020.2</td>\n",
              "      <td>0.0</td>\n",
              "      <td>0.0</td>\n",
              "    </tr>\n",
              "    <tr>\n",
              "      <th>3</th>\n",
              "      <td>0</td>\n",
              "      <td>2016-01-01 03:00:00</td>\n",
              "      <td>21.1</td>\n",
              "      <td>2.0</td>\n",
              "      <td>20.6</td>\n",
              "      <td>0.0</td>\n",
              "      <td>1020.1</td>\n",
              "      <td>0.0</td>\n",
              "      <td>0.0</td>\n",
              "    </tr>\n",
              "    <tr>\n",
              "      <th>4</th>\n",
              "      <td>0</td>\n",
              "      <td>2016-01-01 04:00:00</td>\n",
              "      <td>20.0</td>\n",
              "      <td>2.0</td>\n",
              "      <td>20.0</td>\n",
              "      <td>-1.0</td>\n",
              "      <td>1020.0</td>\n",
              "      <td>250.0</td>\n",
              "      <td>2.6</td>\n",
              "    </tr>\n",
              "    <tr>\n",
              "      <th>6</th>\n",
              "      <td>0</td>\n",
              "      <td>2016-01-01 06:00:00</td>\n",
              "      <td>21.1</td>\n",
              "      <td>6.0</td>\n",
              "      <td>21.1</td>\n",
              "      <td>-1.0</td>\n",
              "      <td>1019.4</td>\n",
              "      <td>0.0</td>\n",
              "      <td>0.0</td>\n",
              "    </tr>\n",
              "    <tr>\n",
              "      <th>...</th>\n",
              "      <td>...</td>\n",
              "      <td>...</td>\n",
              "      <td>...</td>\n",
              "      <td>...</td>\n",
              "      <td>...</td>\n",
              "      <td>...</td>\n",
              "      <td>...</td>\n",
              "      <td>...</td>\n",
              "      <td>...</td>\n",
              "    </tr>\n",
              "    <tr>\n",
              "      <th>139709</th>\n",
              "      <td>15</td>\n",
              "      <td>2016-12-29 08:00:00</td>\n",
              "      <td>-2.8</td>\n",
              "      <td>0.0</td>\n",
              "      <td>-5.6</td>\n",
              "      <td>NaN</td>\n",
              "      <td>1012.9</td>\n",
              "      <td>140.0</td>\n",
              "      <td>5.7</td>\n",
              "    </tr>\n",
              "    <tr>\n",
              "      <th>139729</th>\n",
              "      <td>15</td>\n",
              "      <td>2016-12-30 04:00:00</td>\n",
              "      <td>-1.7</td>\n",
              "      <td>0.0</td>\n",
              "      <td>-5.0</td>\n",
              "      <td>NaN</td>\n",
              "      <td>1001.0</td>\n",
              "      <td>250.0</td>\n",
              "      <td>3.1</td>\n",
              "    </tr>\n",
              "    <tr>\n",
              "      <th>139764</th>\n",
              "      <td>15</td>\n",
              "      <td>2016-12-31 15:00:00</td>\n",
              "      <td>-1.7</td>\n",
              "      <td>4.0</td>\n",
              "      <td>-7.2</td>\n",
              "      <td>NaN</td>\n",
              "      <td>1012.3</td>\n",
              "      <td>160.0</td>\n",
              "      <td>6.7</td>\n",
              "    </tr>\n",
              "    <tr>\n",
              "      <th>139765</th>\n",
              "      <td>15</td>\n",
              "      <td>2016-12-31 16:00:00</td>\n",
              "      <td>-0.6</td>\n",
              "      <td>0.0</td>\n",
              "      <td>-6.7</td>\n",
              "      <td>NaN</td>\n",
              "      <td>1011.1</td>\n",
              "      <td>170.0</td>\n",
              "      <td>7.2</td>\n",
              "    </tr>\n",
              "    <tr>\n",
              "      <th>139769</th>\n",
              "      <td>15</td>\n",
              "      <td>2016-12-31 20:00:00</td>\n",
              "      <td>2.8</td>\n",
              "      <td>2.0</td>\n",
              "      <td>-8.9</td>\n",
              "      <td>NaN</td>\n",
              "      <td>1007.4</td>\n",
              "      <td>180.0</td>\n",
              "      <td>7.7</td>\n",
              "    </tr>\n",
              "  </tbody>\n",
              "</table>\n",
              "<p>70600 rows × 9 columns</p>\n",
              "</div>"
            ],
            "text/plain": [
              "        site_id            timestamp  ...  wind_direction  wind_speed\n",
              "0             0  2016-01-01 00:00:00  ...             0.0         0.0\n",
              "2             0  2016-01-01 02:00:00  ...             0.0         0.0\n",
              "3             0  2016-01-01 03:00:00  ...             0.0         0.0\n",
              "4             0  2016-01-01 04:00:00  ...           250.0         2.6\n",
              "6             0  2016-01-01 06:00:00  ...             0.0         0.0\n",
              "...         ...                  ...  ...             ...         ...\n",
              "139709       15  2016-12-29 08:00:00  ...           140.0         5.7\n",
              "139729       15  2016-12-30 04:00:00  ...           250.0         3.1\n",
              "139764       15  2016-12-31 15:00:00  ...           160.0         6.7\n",
              "139765       15  2016-12-31 16:00:00  ...           170.0         7.2\n",
              "139769       15  2016-12-31 20:00:00  ...           180.0         7.7\n",
              "\n",
              "[70600 rows x 9 columns]"
            ]
          },
          "metadata": {
            "tags": []
          },
          "execution_count": 26
        }
      ]
    },
    {
      "cell_type": "markdown",
      "metadata": {
        "id": "7TDTYYnrAGyL"
      },
      "source": [
        "we could group by time; what is the cloud coverage everyday at this time, in this site?"
      ]
    },
    {
      "cell_type": "markdown",
      "metadata": {
        "id": "huvBYJomwH3S"
      },
      "source": [
        " we don't have any data for cloud_coverage in site_id 7 and 11. and so many other examples. We use the site_id mean  for imputation."
      ]
    },
    {
      "cell_type": "markdown",
      "metadata": {
        "id": "5sP3AfMkCpVD"
      },
      "source": [
        ""
      ]
    },
    {
      "cell_type": "markdown",
      "metadata": {
        "id": "DU6A1E8WCpVE"
      },
      "source": [
        "# cloud coverage has lots of contigous missing values\n",
        "for example, index9, 10, 11 are missing. If we use backward or forward for filling values, this could lead to inaccurate results, since clouds coverage dynamically changes every hour or less. ?? I'll fill it untill I validate this hypothesis"
      ]
    },
    {
      "cell_type": "code",
      "metadata": {
        "trusted": true,
        "id": "hCe4c1nrCpVE"
      },
      "source": [
        "# weather.drop(\"cloud_coverage\", axis=1, inplace=True)"
      ],
      "execution_count": null,
      "outputs": []
    },
    {
      "cell_type": "code",
      "metadata": {
        "trusted": true,
        "id": "-xXb_IIDCpVF",
        "colab": {
          "base_uri": "https://localhost:8080/",
          "height": 1000
        },
        "outputId": "95c30ab9-48e5-4fa7-8085-09bcc1dc303a"
      },
      "source": [
        "weather[weather[\"dew_temperature\"].isnull()].head(30) "
      ],
      "execution_count": null,
      "outputs": [
        {
          "output_type": "execute_result",
          "data": {
            "text/html": [
              "<div>\n",
              "<style scoped>\n",
              "    .dataframe tbody tr th:only-of-type {\n",
              "        vertical-align: middle;\n",
              "    }\n",
              "\n",
              "    .dataframe tbody tr th {\n",
              "        vertical-align: top;\n",
              "    }\n",
              "\n",
              "    .dataframe thead th {\n",
              "        text-align: right;\n",
              "    }\n",
              "</style>\n",
              "<table border=\"1\" class=\"dataframe\">\n",
              "  <thead>\n",
              "    <tr style=\"text-align: right;\">\n",
              "      <th></th>\n",
              "      <th>site_id</th>\n",
              "      <th>timestamp</th>\n",
              "      <th>air_temperature</th>\n",
              "      <th>cloud_coverage</th>\n",
              "      <th>dew_temperature</th>\n",
              "      <th>precip_depth_1_hr</th>\n",
              "      <th>sea_level_pressure</th>\n",
              "      <th>wind_direction</th>\n",
              "      <th>wind_speed</th>\n",
              "    </tr>\n",
              "  </thead>\n",
              "  <tbody>\n",
              "    <tr>\n",
              "      <th>368</th>\n",
              "      <td>0</td>\n",
              "      <td>2016-01-16 08:00:00</td>\n",
              "      <td>NaN</td>\n",
              "      <td>NaN</td>\n",
              "      <td>NaN</td>\n",
              "      <td>0.0</td>\n",
              "      <td>NaN</td>\n",
              "      <td>180.0</td>\n",
              "      <td>1.5</td>\n",
              "    </tr>\n",
              "    <tr>\n",
              "      <th>369</th>\n",
              "      <td>0</td>\n",
              "      <td>2016-01-16 09:00:00</td>\n",
              "      <td>NaN</td>\n",
              "      <td>2.0</td>\n",
              "      <td>NaN</td>\n",
              "      <td>0.0</td>\n",
              "      <td>NaN</td>\n",
              "      <td>190.0</td>\n",
              "      <td>1.5</td>\n",
              "    </tr>\n",
              "    <tr>\n",
              "      <th>370</th>\n",
              "      <td>0</td>\n",
              "      <td>2016-01-16 10:00:00</td>\n",
              "      <td>NaN</td>\n",
              "      <td>2.0</td>\n",
              "      <td>NaN</td>\n",
              "      <td>0.0</td>\n",
              "      <td>NaN</td>\n",
              "      <td>190.0</td>\n",
              "      <td>1.5</td>\n",
              "    </tr>\n",
              "    <tr>\n",
              "      <th>15763</th>\n",
              "      <td>1</td>\n",
              "      <td>2016-10-18 13:00:00</td>\n",
              "      <td>NaN</td>\n",
              "      <td>NaN</td>\n",
              "      <td>NaN</td>\n",
              "      <td>NaN</td>\n",
              "      <td>NaN</td>\n",
              "      <td>290.0</td>\n",
              "      <td>6.2</td>\n",
              "    </tr>\n",
              "    <tr>\n",
              "      <th>22349</th>\n",
              "      <td>2</td>\n",
              "      <td>2016-07-19 02:00:00</td>\n",
              "      <td>NaN</td>\n",
              "      <td>NaN</td>\n",
              "      <td>NaN</td>\n",
              "      <td>86.0</td>\n",
              "      <td>NaN</td>\n",
              "      <td>NaN</td>\n",
              "      <td>NaN</td>\n",
              "    </tr>\n",
              "    <tr>\n",
              "      <th>27393</th>\n",
              "      <td>3</td>\n",
              "      <td>2016-02-14 07:00:00</td>\n",
              "      <td>NaN</td>\n",
              "      <td>0.0</td>\n",
              "      <td>NaN</td>\n",
              "      <td>0.0</td>\n",
              "      <td>NaN</td>\n",
              "      <td>NaN</td>\n",
              "      <td>NaN</td>\n",
              "    </tr>\n",
              "    <tr>\n",
              "      <th>28720</th>\n",
              "      <td>3</td>\n",
              "      <td>2016-04-09 14:00:00</td>\n",
              "      <td>3.9</td>\n",
              "      <td>NaN</td>\n",
              "      <td>NaN</td>\n",
              "      <td>2.0</td>\n",
              "      <td>NaN</td>\n",
              "      <td>290.0</td>\n",
              "      <td>5.7</td>\n",
              "    </tr>\n",
              "    <tr>\n",
              "      <th>30910</th>\n",
              "      <td>3</td>\n",
              "      <td>2016-07-09 20:00:00</td>\n",
              "      <td>NaN</td>\n",
              "      <td>NaN</td>\n",
              "      <td>NaN</td>\n",
              "      <td>38.0</td>\n",
              "      <td>NaN</td>\n",
              "      <td>NaN</td>\n",
              "      <td>NaN</td>\n",
              "    </tr>\n",
              "    <tr>\n",
              "      <th>30911</th>\n",
              "      <td>3</td>\n",
              "      <td>2016-07-09 21:00:00</td>\n",
              "      <td>NaN</td>\n",
              "      <td>NaN</td>\n",
              "      <td>NaN</td>\n",
              "      <td>8.0</td>\n",
              "      <td>NaN</td>\n",
              "      <td>NaN</td>\n",
              "      <td>NaN</td>\n",
              "    </tr>\n",
              "    <tr>\n",
              "      <th>30914</th>\n",
              "      <td>3</td>\n",
              "      <td>2016-07-10 00:00:00</td>\n",
              "      <td>NaN</td>\n",
              "      <td>4.0</td>\n",
              "      <td>NaN</td>\n",
              "      <td>NaN</td>\n",
              "      <td>NaN</td>\n",
              "      <td>NaN</td>\n",
              "      <td>NaN</td>\n",
              "    </tr>\n",
              "    <tr>\n",
              "      <th>30959</th>\n",
              "      <td>3</td>\n",
              "      <td>2016-07-12 00:00:00</td>\n",
              "      <td>27.2</td>\n",
              "      <td>2.0</td>\n",
              "      <td>NaN</td>\n",
              "      <td>0.0</td>\n",
              "      <td>1018.3</td>\n",
              "      <td>140.0</td>\n",
              "      <td>4.1</td>\n",
              "    </tr>\n",
              "    <tr>\n",
              "      <th>39976</th>\n",
              "      <td>4</td>\n",
              "      <td>2016-07-21 19:00:00</td>\n",
              "      <td>19.4</td>\n",
              "      <td>2.0</td>\n",
              "      <td>NaN</td>\n",
              "      <td>0.0</td>\n",
              "      <td>1019.8</td>\n",
              "      <td>250.0</td>\n",
              "      <td>4.6</td>\n",
              "    </tr>\n",
              "    <tr>\n",
              "      <th>41557</th>\n",
              "      <td>4</td>\n",
              "      <td>2016-09-25 16:00:00</td>\n",
              "      <td>26.7</td>\n",
              "      <td>0.0</td>\n",
              "      <td>NaN</td>\n",
              "      <td>0.0</td>\n",
              "      <td>1017.4</td>\n",
              "      <td>280.0</td>\n",
              "      <td>2.6</td>\n",
              "    </tr>\n",
              "    <tr>\n",
              "      <th>50108</th>\n",
              "      <td>5</td>\n",
              "      <td>2016-09-17 00:00:00</td>\n",
              "      <td>NaN</td>\n",
              "      <td>NaN</td>\n",
              "      <td>NaN</td>\n",
              "      <td>NaN</td>\n",
              "      <td>NaN</td>\n",
              "      <td>310.0</td>\n",
              "      <td>4.6</td>\n",
              "    </tr>\n",
              "    <tr>\n",
              "      <th>51626</th>\n",
              "      <td>5</td>\n",
              "      <td>2016-11-19 07:00:00</td>\n",
              "      <td>NaN</td>\n",
              "      <td>NaN</td>\n",
              "      <td>NaN</td>\n",
              "      <td>NaN</td>\n",
              "      <td>NaN</td>\n",
              "      <td>10.0</td>\n",
              "      <td>1.0</td>\n",
              "    </tr>\n",
              "    <tr>\n",
              "      <th>57294</th>\n",
              "      <td>6</td>\n",
              "      <td>2016-07-12 15:00:00</td>\n",
              "      <td>NaN</td>\n",
              "      <td>NaN</td>\n",
              "      <td>NaN</td>\n",
              "      <td>0.0</td>\n",
              "      <td>NaN</td>\n",
              "      <td>170.0</td>\n",
              "      <td>3.1</td>\n",
              "    </tr>\n",
              "    <tr>\n",
              "      <th>60248</th>\n",
              "      <td>6</td>\n",
              "      <td>2016-11-12 18:00:00</td>\n",
              "      <td>NaN</td>\n",
              "      <td>NaN</td>\n",
              "      <td>NaN</td>\n",
              "      <td>0.0</td>\n",
              "      <td>NaN</td>\n",
              "      <td>NaN</td>\n",
              "      <td>2.1</td>\n",
              "    </tr>\n",
              "    <tr>\n",
              "      <th>60250</th>\n",
              "      <td>6</td>\n",
              "      <td>2016-11-12 20:00:00</td>\n",
              "      <td>NaN</td>\n",
              "      <td>0.0</td>\n",
              "      <td>NaN</td>\n",
              "      <td>0.0</td>\n",
              "      <td>NaN</td>\n",
              "      <td>0.0</td>\n",
              "      <td>0.0</td>\n",
              "    </tr>\n",
              "    <tr>\n",
              "      <th>60251</th>\n",
              "      <td>6</td>\n",
              "      <td>2016-11-12 21:00:00</td>\n",
              "      <td>NaN</td>\n",
              "      <td>0.0</td>\n",
              "      <td>NaN</td>\n",
              "      <td>0.0</td>\n",
              "      <td>NaN</td>\n",
              "      <td>150.0</td>\n",
              "      <td>2.1</td>\n",
              "    </tr>\n",
              "    <tr>\n",
              "      <th>60649</th>\n",
              "      <td>6</td>\n",
              "      <td>2016-11-29 11:00:00</td>\n",
              "      <td>NaN</td>\n",
              "      <td>NaN</td>\n",
              "      <td>NaN</td>\n",
              "      <td>5.0</td>\n",
              "      <td>NaN</td>\n",
              "      <td>30.0</td>\n",
              "      <td>2.6</td>\n",
              "    </tr>\n",
              "    <tr>\n",
              "      <th>60650</th>\n",
              "      <td>6</td>\n",
              "      <td>2016-11-29 12:00:00</td>\n",
              "      <td>NaN</td>\n",
              "      <td>NaN</td>\n",
              "      <td>NaN</td>\n",
              "      <td>10.0</td>\n",
              "      <td>NaN</td>\n",
              "      <td>30.0</td>\n",
              "      <td>1.5</td>\n",
              "    </tr>\n",
              "    <tr>\n",
              "      <th>61149</th>\n",
              "      <td>6</td>\n",
              "      <td>2016-12-20 07:00:00</td>\n",
              "      <td>NaN</td>\n",
              "      <td>0.0</td>\n",
              "      <td>NaN</td>\n",
              "      <td>0.0</td>\n",
              "      <td>NaN</td>\n",
              "      <td>0.0</td>\n",
              "      <td>0.0</td>\n",
              "    </tr>\n",
              "    <tr>\n",
              "      <th>61150</th>\n",
              "      <td>6</td>\n",
              "      <td>2016-12-20 08:00:00</td>\n",
              "      <td>NaN</td>\n",
              "      <td>0.0</td>\n",
              "      <td>NaN</td>\n",
              "      <td>0.0</td>\n",
              "      <td>NaN</td>\n",
              "      <td>20.0</td>\n",
              "      <td>1.5</td>\n",
              "    </tr>\n",
              "    <tr>\n",
              "      <th>61151</th>\n",
              "      <td>6</td>\n",
              "      <td>2016-12-20 09:00:00</td>\n",
              "      <td>NaN</td>\n",
              "      <td>0.0</td>\n",
              "      <td>NaN</td>\n",
              "      <td>0.0</td>\n",
              "      <td>NaN</td>\n",
              "      <td>0.0</td>\n",
              "      <td>0.0</td>\n",
              "    </tr>\n",
              "    <tr>\n",
              "      <th>61152</th>\n",
              "      <td>6</td>\n",
              "      <td>2016-12-20 10:00:00</td>\n",
              "      <td>NaN</td>\n",
              "      <td>0.0</td>\n",
              "      <td>NaN</td>\n",
              "      <td>0.0</td>\n",
              "      <td>NaN</td>\n",
              "      <td>0.0</td>\n",
              "      <td>0.0</td>\n",
              "    </tr>\n",
              "    <tr>\n",
              "      <th>61533</th>\n",
              "      <td>7</td>\n",
              "      <td>2016-01-07 09:00:00</td>\n",
              "      <td>-7.8</td>\n",
              "      <td>NaN</td>\n",
              "      <td>NaN</td>\n",
              "      <td>NaN</td>\n",
              "      <td>1025.7</td>\n",
              "      <td>180.0</td>\n",
              "      <td>1.5</td>\n",
              "    </tr>\n",
              "    <tr>\n",
              "      <th>62550</th>\n",
              "      <td>7</td>\n",
              "      <td>2016-02-20 07:00:00</td>\n",
              "      <td>-1.5</td>\n",
              "      <td>NaN</td>\n",
              "      <td>NaN</td>\n",
              "      <td>2.0</td>\n",
              "      <td>1002.3</td>\n",
              "      <td>140.0</td>\n",
              "      <td>4.6</td>\n",
              "    </tr>\n",
              "    <tr>\n",
              "      <th>62656</th>\n",
              "      <td>7</td>\n",
              "      <td>2016-02-24 17:00:00</td>\n",
              "      <td>-1.6</td>\n",
              "      <td>NaN</td>\n",
              "      <td>NaN</td>\n",
              "      <td>3.0</td>\n",
              "      <td>1015.8</td>\n",
              "      <td>50.0</td>\n",
              "      <td>4.6</td>\n",
              "    </tr>\n",
              "    <tr>\n",
              "      <th>62673</th>\n",
              "      <td>7</td>\n",
              "      <td>2016-02-25 15:00:00</td>\n",
              "      <td>0.5</td>\n",
              "      <td>NaN</td>\n",
              "      <td>NaN</td>\n",
              "      <td>NaN</td>\n",
              "      <td>987.9</td>\n",
              "      <td>300.0</td>\n",
              "      <td>2.1</td>\n",
              "    </tr>\n",
              "    <tr>\n",
              "      <th>63099</th>\n",
              "      <td>7</td>\n",
              "      <td>2016-03-14 23:00:00</td>\n",
              "      <td>1.5</td>\n",
              "      <td>NaN</td>\n",
              "      <td>NaN</td>\n",
              "      <td>NaN</td>\n",
              "      <td>1013.4</td>\n",
              "      <td>90.0</td>\n",
              "      <td>5.1</td>\n",
              "    </tr>\n",
              "  </tbody>\n",
              "</table>\n",
              "</div>"
            ],
            "text/plain": [
              "       site_id            timestamp  ...  wind_direction  wind_speed\n",
              "368          0  2016-01-16 08:00:00  ...           180.0         1.5\n",
              "369          0  2016-01-16 09:00:00  ...           190.0         1.5\n",
              "370          0  2016-01-16 10:00:00  ...           190.0         1.5\n",
              "15763        1  2016-10-18 13:00:00  ...           290.0         6.2\n",
              "22349        2  2016-07-19 02:00:00  ...             NaN         NaN\n",
              "27393        3  2016-02-14 07:00:00  ...             NaN         NaN\n",
              "28720        3  2016-04-09 14:00:00  ...           290.0         5.7\n",
              "30910        3  2016-07-09 20:00:00  ...             NaN         NaN\n",
              "30911        3  2016-07-09 21:00:00  ...             NaN         NaN\n",
              "30914        3  2016-07-10 00:00:00  ...             NaN         NaN\n",
              "30959        3  2016-07-12 00:00:00  ...           140.0         4.1\n",
              "39976        4  2016-07-21 19:00:00  ...           250.0         4.6\n",
              "41557        4  2016-09-25 16:00:00  ...           280.0         2.6\n",
              "50108        5  2016-09-17 00:00:00  ...           310.0         4.6\n",
              "51626        5  2016-11-19 07:00:00  ...            10.0         1.0\n",
              "57294        6  2016-07-12 15:00:00  ...           170.0         3.1\n",
              "60248        6  2016-11-12 18:00:00  ...             NaN         2.1\n",
              "60250        6  2016-11-12 20:00:00  ...             0.0         0.0\n",
              "60251        6  2016-11-12 21:00:00  ...           150.0         2.1\n",
              "60649        6  2016-11-29 11:00:00  ...            30.0         2.6\n",
              "60650        6  2016-11-29 12:00:00  ...            30.0         1.5\n",
              "61149        6  2016-12-20 07:00:00  ...             0.0         0.0\n",
              "61150        6  2016-12-20 08:00:00  ...            20.0         1.5\n",
              "61151        6  2016-12-20 09:00:00  ...             0.0         0.0\n",
              "61152        6  2016-12-20 10:00:00  ...             0.0         0.0\n",
              "61533        7  2016-01-07 09:00:00  ...           180.0         1.5\n",
              "62550        7  2016-02-20 07:00:00  ...           140.0         4.6\n",
              "62656        7  2016-02-24 17:00:00  ...            50.0         4.6\n",
              "62673        7  2016-02-25 15:00:00  ...           300.0         2.1\n",
              "63099        7  2016-03-14 23:00:00  ...            90.0         5.1\n",
              "\n",
              "[30 rows x 9 columns]"
            ]
          },
          "metadata": {
            "tags": []
          },
          "execution_count": 28
        }
      ]
    },
    {
      "cell_type": "markdown",
      "metadata": {
        "id": "DqnN-z0vCpVF"
      },
      "source": [
        "When filling the missing weather data, using previous or future measurements can be good provided they are not too far in the future or past. We will start with forward/back filling weather data up to 24 hours for each site."
      ]
    },
    {
      "cell_type": "markdown",
      "metadata": {
        "id": "6_b8CnOdGP7Z"
      },
      "source": [
        "# Weather data, filling NA's"
      ]
    },
    {
      "cell_type": "code",
      "metadata": {
        "id": "Ml6fA6eAovBq"
      },
      "source": [
        ""
      ],
      "execution_count": null,
      "outputs": []
    },
    {
      "cell_type": "code",
      "metadata": {
        "trusted": true,
        "id": "9dhsVsMhCpVF"
      },
      "source": [
        "#Forward filling missing data in the weather dataset +-24 hours\n",
        "#Train weather\n",
        "weather_train_f = weather.copy()\n",
        "weather_train_f[\"timestamp\"] = pd.to_datetime(weather_train_f[\"timestamp\"])\n",
        "weather_train_f = weather_train_f.sort_values(by = [\"site_id\", \"timestamp\"])\n",
        "\n",
        "weather_train_f.fillna(method= \"ffill\", inplace=True, limit=12)\n",
        "weather_train_f.fillna(method = \"bfill\", inplace=True, limit=12)\n",
        "\n",
        "#same for test"
      ],
      "execution_count": null,
      "outputs": []
    },
    {
      "cell_type": "code",
      "metadata": {
        "colab": {
          "base_uri": "https://localhost:8080/"
        },
        "id": "asdCFmFBqx_t",
        "outputId": "ef6d54c1-b9b8-4642-cb7d-08f7fb57dcc0"
      },
      "source": [
        "weather_train_f[\"cloud_coverage\"].head()"
      ],
      "execution_count": null,
      "outputs": [
        {
          "output_type": "execute_result",
          "data": {
            "text/plain": [
              "0    6.0\n",
              "1    6.0\n",
              "2    2.0\n",
              "3    2.0\n",
              "4    2.0\n",
              "Name: cloud_coverage, dtype: float64"
            ]
          },
          "metadata": {
            "tags": []
          },
          "execution_count": 30
        }
      ]
    },
    {
      "cell_type": "code",
      "metadata": {
        "colab": {
          "base_uri": "https://localhost:8080/",
          "height": 372
        },
        "id": "07O4WV5uIGZb",
        "outputId": "e0537c62-7e91-4f3a-85dc-bf4ea2126503"
      },
      "source": [
        "import seaborn as sns\n",
        "sns.heatmap(weather_train_f.corr(), linewidths = 0.5, cmap = \"YlGnBu\")"
      ],
      "execution_count": null,
      "outputs": [
        {
          "output_type": "execute_result",
          "data": {
            "text/plain": [
              "<matplotlib.axes._subplots.AxesSubplot at 0x7fe294bf6bd0>"
            ]
          },
          "metadata": {
            "tags": []
          },
          "execution_count": 31
        },
        {
          "output_type": "display_data",
          "data": {
            "image/png": "[encoded data removed]",
            "text/plain": [
              "<Figure size 432x288 with 2 Axes>"
            ]
          },
          "metadata": {
            "tags": [],
            "needs_background": "light"
          }
        }
      ]
    },
    {
      "cell_type": "markdown",
      "metadata": {
        "id": "GOymYHhOIVjZ"
      },
      "source": [
        "There's a strong corr. between dew_temp and air_temp>> drop 1 of them if using linear reg."
      ]
    },
    {
      "cell_type": "code",
      "metadata": {
        "id": "YLJ1b3LZIUwX"
      },
      "source": [
        ""
      ],
      "execution_count": null,
      "outputs": []
    },
    {
      "cell_type": "markdown",
      "metadata": {
        "id": "LqXkpvCqCpVG"
      },
      "source": [
        "precip_depth is a dynamically changing column; forward filling wouldn't make any sense.???"
      ]
    },
    {
      "cell_type": "markdown",
      "metadata": {
        "id": "8dWvqjdVCpVG"
      },
      "source": [
        "to save memory"
      ]
    },
    {
      "cell_type": "code",
      "metadata": {
        "trusted": true,
        "id": "zi_1LOXqCpVH"
      },
      "source": [
        "del weather"
      ],
      "execution_count": null,
      "outputs": []
    },
    {
      "cell_type": "code",
      "metadata": {
        "id": "lV7aK1_lCpVI"
      },
      "source": [
        ""
      ],
      "execution_count": null,
      "outputs": []
    },
    {
      "cell_type": "code",
      "metadata": {
        "trusted": true,
        "id": "75x39ibxCpVG",
        "colab": {
          "base_uri": "https://localhost:8080/"
        },
        "outputId": "19a03161-2415-4ff1-f3d6-d403c8ea0730"
      },
      "source": [
        "weather_train_f.isnull().sum()/weather_train_f.shape[0]"
      ],
      "execution_count": null,
      "outputs": [
        {
          "output_type": "execute_result",
          "data": {
            "text/plain": [
              "site_id               0.000000\n",
              "timestamp             0.000000\n",
              "air_temperature       0.000000\n",
              "cloud_coverage        0.181752\n",
              "dew_temperature       0.000000\n",
              "precip_depth_1_hr     0.287352\n",
              "sea_level_pressure    0.063224\n",
              "wind_direction        0.000000\n",
              "wind_speed            0.000000\n",
              "dtype: float64"
            ]
          },
          "metadata": {
            "tags": []
          },
          "execution_count": 33
        }
      ]
    },
    {
      "cell_type": "markdown",
      "metadata": {
        "id": "X7ohyTeTCpVI"
      },
      "source": [
        "\n",
        "\n",
        "As seen above, there are still blocks of data missing over long periods of time. For these we will fill with the mean values for the given site.\n"
      ]
    },
    {
      "cell_type": "code",
      "metadata": {
        "id": "NgXcpL1wJ0mR"
      },
      "source": [
        "# weather.groupby(\"site_id\").mean()"
      ],
      "execution_count": null,
      "outputs": []
    },
    {
      "cell_type": "markdown",
      "metadata": {
        "id": "iz4s7efAbWm7"
      },
      "source": [
        "we could drop site 5 since it's missing both percep and air(but won't do it for now)"
      ]
    },
    {
      "cell_type": "code",
      "metadata": {
        "id": "bDGqQOIYd4Qn"
      },
      "source": [
        ""
      ],
      "execution_count": null,
      "outputs": []
    },
    {
      "cell_type": "code",
      "metadata": {
        "colab": {
          "base_uri": "https://localhost:8080/",
          "height": 617
        },
        "id": "7W5q9LpwJ72E",
        "outputId": "02f5b9e9-293e-422c-8153-3e35653ccb21"
      },
      "source": [
        "weather_train_f[weather_train_f[\"site_id\"]==7]"
      ],
      "execution_count": null,
      "outputs": [
        {
          "output_type": "execute_result",
          "data": {
            "text/html": [
              "<div>\n",
              "<style scoped>\n",
              "    .dataframe tbody tr th:only-of-type {\n",
              "        vertical-align: middle;\n",
              "    }\n",
              "\n",
              "    .dataframe tbody tr th {\n",
              "        vertical-align: top;\n",
              "    }\n",
              "\n",
              "    .dataframe thead th {\n",
              "        text-align: right;\n",
              "    }\n",
              "</style>\n",
              "<table border=\"1\" class=\"dataframe\">\n",
              "  <thead>\n",
              "    <tr style=\"text-align: right;\">\n",
              "      <th></th>\n",
              "      <th>site_id</th>\n",
              "      <th>timestamp</th>\n",
              "      <th>air_temperature</th>\n",
              "      <th>cloud_coverage</th>\n",
              "      <th>dew_temperature</th>\n",
              "      <th>precip_depth_1_hr</th>\n",
              "      <th>sea_level_pressure</th>\n",
              "      <th>wind_direction</th>\n",
              "      <th>wind_speed</th>\n",
              "    </tr>\n",
              "  </thead>\n",
              "  <tbody>\n",
              "    <tr>\n",
              "      <th>61430</th>\n",
              "      <td>7</td>\n",
              "      <td>2016-01-01 00:00:00</td>\n",
              "      <td>-1.8</td>\n",
              "      <td>0.0</td>\n",
              "      <td>-3.2</td>\n",
              "      <td>0.0</td>\n",
              "      <td>1016.0</td>\n",
              "      <td>280.0</td>\n",
              "      <td>1.5</td>\n",
              "    </tr>\n",
              "    <tr>\n",
              "      <th>61431</th>\n",
              "      <td>7</td>\n",
              "      <td>2016-01-01 01:00:00</td>\n",
              "      <td>-1.7</td>\n",
              "      <td>0.0</td>\n",
              "      <td>-2.8</td>\n",
              "      <td>0.0</td>\n",
              "      <td>1016.1</td>\n",
              "      <td>260.0</td>\n",
              "      <td>1.0</td>\n",
              "    </tr>\n",
              "    <tr>\n",
              "      <th>61432</th>\n",
              "      <td>7</td>\n",
              "      <td>2016-01-01 02:00:00</td>\n",
              "      <td>-2.7</td>\n",
              "      <td>0.0</td>\n",
              "      <td>-3.3</td>\n",
              "      <td>0.0</td>\n",
              "      <td>1015.8</td>\n",
              "      <td>350.0</td>\n",
              "      <td>0.5</td>\n",
              "    </tr>\n",
              "    <tr>\n",
              "      <th>61433</th>\n",
              "      <td>7</td>\n",
              "      <td>2016-01-01 03:00:00</td>\n",
              "      <td>-2.3</td>\n",
              "      <td>0.0</td>\n",
              "      <td>-3.2</td>\n",
              "      <td>0.0</td>\n",
              "      <td>1015.4</td>\n",
              "      <td>280.0</td>\n",
              "      <td>1.5</td>\n",
              "    </tr>\n",
              "    <tr>\n",
              "      <th>61434</th>\n",
              "      <td>7</td>\n",
              "      <td>2016-01-01 04:00:00</td>\n",
              "      <td>-2.6</td>\n",
              "      <td>0.0</td>\n",
              "      <td>-3.3</td>\n",
              "      <td>0.0</td>\n",
              "      <td>1015.1</td>\n",
              "      <td>310.0</td>\n",
              "      <td>2.1</td>\n",
              "    </tr>\n",
              "    <tr>\n",
              "      <th>...</th>\n",
              "      <td>...</td>\n",
              "      <td>...</td>\n",
              "      <td>...</td>\n",
              "      <td>...</td>\n",
              "      <td>...</td>\n",
              "      <td>...</td>\n",
              "      <td>...</td>\n",
              "      <td>...</td>\n",
              "      <td>...</td>\n",
              "    </tr>\n",
              "    <tr>\n",
              "      <th>70039</th>\n",
              "      <td>7</td>\n",
              "      <td>2016-12-31 19:00:00</td>\n",
              "      <td>-10.3</td>\n",
              "      <td>6.0</td>\n",
              "      <td>-11.9</td>\n",
              "      <td>2.0</td>\n",
              "      <td>1007.2</td>\n",
              "      <td>70.0</td>\n",
              "      <td>5.1</td>\n",
              "    </tr>\n",
              "    <tr>\n",
              "      <th>70040</th>\n",
              "      <td>7</td>\n",
              "      <td>2016-12-31 20:00:00</td>\n",
              "      <td>-9.9</td>\n",
              "      <td>6.0</td>\n",
              "      <td>-11.5</td>\n",
              "      <td>2.0</td>\n",
              "      <td>1006.3</td>\n",
              "      <td>70.0</td>\n",
              "      <td>5.7</td>\n",
              "    </tr>\n",
              "    <tr>\n",
              "      <th>70041</th>\n",
              "      <td>7</td>\n",
              "      <td>2016-12-31 21:00:00</td>\n",
              "      <td>-9.9</td>\n",
              "      <td>6.0</td>\n",
              "      <td>-11.5</td>\n",
              "      <td>2.0</td>\n",
              "      <td>1005.8</td>\n",
              "      <td>70.0</td>\n",
              "      <td>5.1</td>\n",
              "    </tr>\n",
              "    <tr>\n",
              "      <th>70042</th>\n",
              "      <td>7</td>\n",
              "      <td>2016-12-31 22:00:00</td>\n",
              "      <td>-9.8</td>\n",
              "      <td>6.0</td>\n",
              "      <td>-11.1</td>\n",
              "      <td>3.0</td>\n",
              "      <td>1005.3</td>\n",
              "      <td>60.0</td>\n",
              "      <td>5.1</td>\n",
              "    </tr>\n",
              "    <tr>\n",
              "      <th>70043</th>\n",
              "      <td>7</td>\n",
              "      <td>2016-12-31 23:00:00</td>\n",
              "      <td>-9.6</td>\n",
              "      <td>6.0</td>\n",
              "      <td>-10.8</td>\n",
              "      <td>5.0</td>\n",
              "      <td>1004.7</td>\n",
              "      <td>70.0</td>\n",
              "      <td>4.1</td>\n",
              "    </tr>\n",
              "  </tbody>\n",
              "</table>\n",
              "<p>8614 rows × 9 columns</p>\n",
              "</div>"
            ],
            "text/plain": [
              "       site_id           timestamp  ...  wind_direction  wind_speed\n",
              "61430        7 2016-01-01 00:00:00  ...           280.0         1.5\n",
              "61431        7 2016-01-01 01:00:00  ...           260.0         1.0\n",
              "61432        7 2016-01-01 02:00:00  ...           350.0         0.5\n",
              "61433        7 2016-01-01 03:00:00  ...           280.0         1.5\n",
              "61434        7 2016-01-01 04:00:00  ...           310.0         2.1\n",
              "...        ...                 ...  ...             ...         ...\n",
              "70039        7 2016-12-31 19:00:00  ...            70.0         5.1\n",
              "70040        7 2016-12-31 20:00:00  ...            70.0         5.7\n",
              "70041        7 2016-12-31 21:00:00  ...            70.0         5.1\n",
              "70042        7 2016-12-31 22:00:00  ...            60.0         5.1\n",
              "70043        7 2016-12-31 23:00:00  ...            70.0         4.1\n",
              "\n",
              "[8614 rows x 9 columns]"
            ]
          },
          "metadata": {
            "tags": []
          },
          "execution_count": 35
        }
      ]
    },
    {
      "cell_type": "markdown",
      "metadata": {
        "id": "AoU1xCrRKWKP"
      },
      "source": [
        "**cloud_coverage still has lots of contigous missing values; if filling with mean per cite, ana keda ha-fill values kteera awy be nafs el value!**"
      ]
    },
    {
      "cell_type": "markdown",
      "metadata": {
        "id": "gRqKGa5vXopL"
      },
      "source": [
        "Sol; for site 7 and  11;  fill with   a single number. \n",
        "For other sites fill with mean per day(rounded,since cloud_coverage only takes discrete values between 0 and 9)"
      ]
    },
    {
      "cell_type": "markdown",
      "metadata": {
        "id": "gyzgw_4EK_B4"
      },
      "source": [
        "filling with the average of the day will give more diverse values?"
      ]
    },
    {
      "cell_type": "code",
      "metadata": {
        "id": "fV5FQYimW0Po"
      },
      "source": [
        "weather_train_f[\"day\"] = weather_train_f[\"timestamp\"].dt.day"
      ],
      "execution_count": null,
      "outputs": []
    },
    {
      "cell_type": "code",
      "metadata": {
        "colab": {
          "base_uri": "https://localhost:8080/"
        },
        "id": "nRdrKzCXW867",
        "outputId": "060334a3-99ac-4b15-933a-2d2bb092c7ad"
      },
      "source": [
        "weather_train_f.isnull().sum() /weather_train_f.shape[0] *100"
      ],
      "execution_count": null,
      "outputs": [
        {
          "output_type": "execute_result",
          "data": {
            "text/plain": [
              "site_id                0.000000\n",
              "timestamp              0.000000\n",
              "air_temperature        0.000000\n",
              "cloud_coverage        18.175184\n",
              "dew_temperature        0.000000\n",
              "precip_depth_1_hr     28.735163\n",
              "sea_level_pressure     6.322394\n",
              "wind_direction         0.000000\n",
              "wind_speed             0.000000\n",
              "day                    0.000000\n",
              "dtype: float64"
            ]
          },
          "metadata": {
            "tags": []
          },
          "execution_count": 37
        }
      ]
    },
    {
      "cell_type": "code",
      "metadata": {
        "id": "_D2bDWyJXIPm"
      },
      "source": [
        "# weather_train_f.groupby([\"site_id\"]).mean()"
      ],
      "execution_count": null,
      "outputs": []
    },
    {
      "cell_type": "code",
      "metadata": {
        "id": "uCe2dZXSJYz2"
      },
      "source": [
        "# weather_train_f.groupby([\"site_id\",\"day\"]).mean()"
      ],
      "execution_count": null,
      "outputs": []
    },
    {
      "cell_type": "code",
      "metadata": {
        "colab": {
          "base_uri": "https://localhost:8080/",
          "height": 475
        },
        "id": "UTQKtOOgZcik",
        "outputId": "f22ac645-925e-49bb-e175-3f2f4a0c5d6f"
      },
      "source": [
        "round(weather_train_f.groupby([\"site_id\",\"day\"]).mean())"
      ],
      "execution_count": null,
      "outputs": [
        {
          "output_type": "execute_result",
          "data": {
            "text/html": [
              "<div>\n",
              "<style scoped>\n",
              "    .dataframe tbody tr th:only-of-type {\n",
              "        vertical-align: middle;\n",
              "    }\n",
              "\n",
              "    .dataframe tbody tr th {\n",
              "        vertical-align: top;\n",
              "    }\n",
              "\n",
              "    .dataframe thead th {\n",
              "        text-align: right;\n",
              "    }\n",
              "</style>\n",
              "<table border=\"1\" class=\"dataframe\">\n",
              "  <thead>\n",
              "    <tr style=\"text-align: right;\">\n",
              "      <th></th>\n",
              "      <th></th>\n",
              "      <th>air_temperature</th>\n",
              "      <th>cloud_coverage</th>\n",
              "      <th>dew_temperature</th>\n",
              "      <th>precip_depth_1_hr</th>\n",
              "      <th>sea_level_pressure</th>\n",
              "      <th>wind_direction</th>\n",
              "      <th>wind_speed</th>\n",
              "    </tr>\n",
              "    <tr>\n",
              "      <th>site_id</th>\n",
              "      <th>day</th>\n",
              "      <th></th>\n",
              "      <th></th>\n",
              "      <th></th>\n",
              "      <th></th>\n",
              "      <th></th>\n",
              "      <th></th>\n",
              "      <th></th>\n",
              "    </tr>\n",
              "  </thead>\n",
              "  <tbody>\n",
              "    <tr>\n",
              "      <th rowspan=\"5\" valign=\"top\">0</th>\n",
              "      <th>1</th>\n",
              "      <td>24.0</td>\n",
              "      <td>5.0</td>\n",
              "      <td>19.0</td>\n",
              "      <td>2.0</td>\n",
              "      <td>1017.0</td>\n",
              "      <td>132.0</td>\n",
              "      <td>3.0</td>\n",
              "    </tr>\n",
              "    <tr>\n",
              "      <th>2</th>\n",
              "      <td>24.0</td>\n",
              "      <td>4.0</td>\n",
              "      <td>19.0</td>\n",
              "      <td>1.0</td>\n",
              "      <td>1017.0</td>\n",
              "      <td>154.0</td>\n",
              "      <td>4.0</td>\n",
              "    </tr>\n",
              "    <tr>\n",
              "      <th>3</th>\n",
              "      <td>23.0</td>\n",
              "      <td>5.0</td>\n",
              "      <td>18.0</td>\n",
              "      <td>1.0</td>\n",
              "      <td>1017.0</td>\n",
              "      <td>172.0</td>\n",
              "      <td>4.0</td>\n",
              "    </tr>\n",
              "    <tr>\n",
              "      <th>4</th>\n",
              "      <td>23.0</td>\n",
              "      <td>5.0</td>\n",
              "      <td>17.0</td>\n",
              "      <td>3.0</td>\n",
              "      <td>1016.0</td>\n",
              "      <td>175.0</td>\n",
              "      <td>3.0</td>\n",
              "    </tr>\n",
              "    <tr>\n",
              "      <th>5</th>\n",
              "      <td>22.0</td>\n",
              "      <td>3.0</td>\n",
              "      <td>16.0</td>\n",
              "      <td>2.0</td>\n",
              "      <td>1017.0</td>\n",
              "      <td>187.0</td>\n",
              "      <td>4.0</td>\n",
              "    </tr>\n",
              "    <tr>\n",
              "      <th>...</th>\n",
              "      <th>...</th>\n",
              "      <td>...</td>\n",
              "      <td>...</td>\n",
              "      <td>...</td>\n",
              "      <td>...</td>\n",
              "      <td>...</td>\n",
              "      <td>...</td>\n",
              "      <td>...</td>\n",
              "    </tr>\n",
              "    <tr>\n",
              "      <th rowspan=\"5\" valign=\"top\">15</th>\n",
              "      <th>27</th>\n",
              "      <td>10.0</td>\n",
              "      <td>2.0</td>\n",
              "      <td>5.0</td>\n",
              "      <td>1.0</td>\n",
              "      <td>1018.0</td>\n",
              "      <td>179.0</td>\n",
              "      <td>4.0</td>\n",
              "    </tr>\n",
              "    <tr>\n",
              "      <th>28</th>\n",
              "      <td>11.0</td>\n",
              "      <td>2.0</td>\n",
              "      <td>5.0</td>\n",
              "      <td>5.0</td>\n",
              "      <td>1016.0</td>\n",
              "      <td>157.0</td>\n",
              "      <td>4.0</td>\n",
              "    </tr>\n",
              "    <tr>\n",
              "      <th>29</th>\n",
              "      <td>11.0</td>\n",
              "      <td>2.0</td>\n",
              "      <td>6.0</td>\n",
              "      <td>3.0</td>\n",
              "      <td>1014.0</td>\n",
              "      <td>185.0</td>\n",
              "      <td>4.0</td>\n",
              "    </tr>\n",
              "    <tr>\n",
              "      <th>30</th>\n",
              "      <td>11.0</td>\n",
              "      <td>1.0</td>\n",
              "      <td>6.0</td>\n",
              "      <td>1.0</td>\n",
              "      <td>1017.0</td>\n",
              "      <td>157.0</td>\n",
              "      <td>3.0</td>\n",
              "    </tr>\n",
              "    <tr>\n",
              "      <th>31</th>\n",
              "      <td>12.0</td>\n",
              "      <td>2.0</td>\n",
              "      <td>6.0</td>\n",
              "      <td>-1.0</td>\n",
              "      <td>1015.0</td>\n",
              "      <td>171.0</td>\n",
              "      <td>4.0</td>\n",
              "    </tr>\n",
              "  </tbody>\n",
              "</table>\n",
              "<p>496 rows × 7 columns</p>\n",
              "</div>"
            ],
            "text/plain": [
              "             air_temperature  cloud_coverage  ...  wind_direction  wind_speed\n",
              "site_id day                                   ...                            \n",
              "0       1               24.0             5.0  ...           132.0         3.0\n",
              "        2               24.0             4.0  ...           154.0         4.0\n",
              "        3               23.0             5.0  ...           172.0         4.0\n",
              "        4               23.0             5.0  ...           175.0         3.0\n",
              "        5               22.0             3.0  ...           187.0         4.0\n",
              "...                      ...             ...  ...             ...         ...\n",
              "15      27              10.0             2.0  ...           179.0         4.0\n",
              "        28              11.0             2.0  ...           157.0         4.0\n",
              "        29              11.0             2.0  ...           185.0         4.0\n",
              "        30              11.0             1.0  ...           157.0         3.0\n",
              "        31              12.0             2.0  ...           171.0         4.0\n",
              "\n",
              "[496 rows x 7 columns]"
            ]
          },
          "metadata": {
            "tags": []
          },
          "execution_count": 40
        }
      ]
    },
    {
      "cell_type": "code",
      "metadata": {
        "id": "9gIQoMXjZLx8"
      },
      "source": [
        "\n",
        "# missing_cols = [col for col in weather_train_f.columns if weather_train_f[col].isna().any()  and col!=   \"cloud_coverage\"]\n",
        "# missing_cols"
      ],
      "execution_count": null,
      "outputs": []
    },
    {
      "cell_type": "markdown",
      "metadata": {
        "id": "QIk-kzNmeEOw"
      },
      "source": [
        "HERE YA MARIAAAAAM:"
      ]
    },
    {
      "cell_type": "code",
      "metadata": {
        "id": "dqJvKhNPZvXx"
      },
      "source": [
        "#Train data\n",
        "\n",
        "fill_lib = round(weather_train_f.groupby([\"site_id\",\"day\"])[\"cloud_coverage\"].transform(\"mean\") )\n",
        "weather_train_f[\"cloud_coverage\"].fillna(fill_lib, inplace=True)\n",
        "\n",
        "#mean of day, per site id\n",
        "#Test data\n"
      ],
      "execution_count": null,
      "outputs": []
    },
    {
      "cell_type": "code",
      "metadata": {
        "trusted": true,
        "id": "tIdVLP4_CpVJ"
      },
      "source": [
        "\n",
        "\n",
        "missing_cols = [col for col in weather_train_f.columns if weather_train_f[col].isna().any()  and col!=   \"cloud_coverage\"]\n",
        "fill_lib = weather_train_f.groupby([\"site_id\",\"day\"])[missing_cols].transform(\"mean\") \n",
        "weather_train_f.fillna(fill_lib, inplace=True)\n",
        "\n",
        "#mean of site id, mean of day\n",
        "#Test data\n"
      ],
      "execution_count": null,
      "outputs": []
    },
    {
      "cell_type": "code",
      "metadata": {
        "id": "iYqg5czoZ75u"
      },
      "source": [
        "del fill_lib"
      ],
      "execution_count": null,
      "outputs": []
    },
    {
      "cell_type": "code",
      "metadata": {
        "colab": {
          "base_uri": "https://localhost:8080/"
        },
        "id": "6YwJUUveJJ8A",
        "outputId": "96296116-3712-499e-c35a-0dff2b932b5f"
      },
      "source": [
        "weather_train_f.isnull().sum() /weather_train_f.shape[0] *100"
      ],
      "execution_count": null,
      "outputs": [
        {
          "output_type": "execute_result",
          "data": {
            "text/plain": [
              "site_id                0.000000\n",
              "timestamp              0.000000\n",
              "air_temperature        0.000000\n",
              "cloud_coverage        11.686091\n",
              "dew_temperature        0.000000\n",
              "precip_depth_1_hr     17.818892\n",
              "sea_level_pressure     5.938200\n",
              "wind_direction         0.000000\n",
              "wind_speed             0.000000\n",
              "day                    0.000000\n",
              "dtype: float64"
            ]
          },
          "metadata": {
            "tags": []
          },
          "execution_count": 45
        }
      ]
    },
    {
      "cell_type": "code",
      "metadata": {
        "colab": {
          "base_uri": "https://localhost:8080/",
          "height": 1000
        },
        "id": "1AamVfxhbB0I",
        "outputId": "d2d9b6e6-65c2-4841-b9e1-994eb1ed74d0"
      },
      "source": [
        "weather_train_f.head(30)"
      ],
      "execution_count": null,
      "outputs": [
        {
          "output_type": "execute_result",
          "data": {
            "text/html": [
              "<div>\n",
              "<style scoped>\n",
              "    .dataframe tbody tr th:only-of-type {\n",
              "        vertical-align: middle;\n",
              "    }\n",
              "\n",
              "    .dataframe tbody tr th {\n",
              "        vertical-align: top;\n",
              "    }\n",
              "\n",
              "    .dataframe thead th {\n",
              "        text-align: right;\n",
              "    }\n",
              "</style>\n",
              "<table border=\"1\" class=\"dataframe\">\n",
              "  <thead>\n",
              "    <tr style=\"text-align: right;\">\n",
              "      <th></th>\n",
              "      <th>site_id</th>\n",
              "      <th>timestamp</th>\n",
              "      <th>air_temperature</th>\n",
              "      <th>cloud_coverage</th>\n",
              "      <th>dew_temperature</th>\n",
              "      <th>precip_depth_1_hr</th>\n",
              "      <th>sea_level_pressure</th>\n",
              "      <th>wind_direction</th>\n",
              "      <th>wind_speed</th>\n",
              "      <th>day</th>\n",
              "    </tr>\n",
              "  </thead>\n",
              "  <tbody>\n",
              "    <tr>\n",
              "      <th>0</th>\n",
              "      <td>0</td>\n",
              "      <td>2016-01-01 00:00:00</td>\n",
              "      <td>25.0</td>\n",
              "      <td>6.0</td>\n",
              "      <td>20.0</td>\n",
              "      <td>-1.0</td>\n",
              "      <td>1019.7</td>\n",
              "      <td>0.0</td>\n",
              "      <td>0.0</td>\n",
              "      <td>1</td>\n",
              "    </tr>\n",
              "    <tr>\n",
              "      <th>1</th>\n",
              "      <td>0</td>\n",
              "      <td>2016-01-01 01:00:00</td>\n",
              "      <td>24.4</td>\n",
              "      <td>6.0</td>\n",
              "      <td>21.1</td>\n",
              "      <td>-1.0</td>\n",
              "      <td>1020.2</td>\n",
              "      <td>70.0</td>\n",
              "      <td>1.5</td>\n",
              "      <td>1</td>\n",
              "    </tr>\n",
              "    <tr>\n",
              "      <th>2</th>\n",
              "      <td>0</td>\n",
              "      <td>2016-01-01 02:00:00</td>\n",
              "      <td>22.8</td>\n",
              "      <td>2.0</td>\n",
              "      <td>21.1</td>\n",
              "      <td>0.0</td>\n",
              "      <td>1020.2</td>\n",
              "      <td>0.0</td>\n",
              "      <td>0.0</td>\n",
              "      <td>1</td>\n",
              "    </tr>\n",
              "    <tr>\n",
              "      <th>3</th>\n",
              "      <td>0</td>\n",
              "      <td>2016-01-01 03:00:00</td>\n",
              "      <td>21.1</td>\n",
              "      <td>2.0</td>\n",
              "      <td>20.6</td>\n",
              "      <td>0.0</td>\n",
              "      <td>1020.1</td>\n",
              "      <td>0.0</td>\n",
              "      <td>0.0</td>\n",
              "      <td>1</td>\n",
              "    </tr>\n",
              "    <tr>\n",
              "      <th>4</th>\n",
              "      <td>0</td>\n",
              "      <td>2016-01-01 04:00:00</td>\n",
              "      <td>20.0</td>\n",
              "      <td>2.0</td>\n",
              "      <td>20.0</td>\n",
              "      <td>-1.0</td>\n",
              "      <td>1020.0</td>\n",
              "      <td>250.0</td>\n",
              "      <td>2.6</td>\n",
              "      <td>1</td>\n",
              "    </tr>\n",
              "    <tr>\n",
              "      <th>5</th>\n",
              "      <td>0</td>\n",
              "      <td>2016-01-01 05:00:00</td>\n",
              "      <td>19.4</td>\n",
              "      <td>2.0</td>\n",
              "      <td>19.4</td>\n",
              "      <td>0.0</td>\n",
              "      <td>1020.0</td>\n",
              "      <td>0.0</td>\n",
              "      <td>0.0</td>\n",
              "      <td>1</td>\n",
              "    </tr>\n",
              "    <tr>\n",
              "      <th>6</th>\n",
              "      <td>0</td>\n",
              "      <td>2016-01-01 06:00:00</td>\n",
              "      <td>21.1</td>\n",
              "      <td>6.0</td>\n",
              "      <td>21.1</td>\n",
              "      <td>-1.0</td>\n",
              "      <td>1019.4</td>\n",
              "      <td>0.0</td>\n",
              "      <td>0.0</td>\n",
              "      <td>1</td>\n",
              "    </tr>\n",
              "    <tr>\n",
              "      <th>7</th>\n",
              "      <td>0</td>\n",
              "      <td>2016-01-01 07:00:00</td>\n",
              "      <td>21.1</td>\n",
              "      <td>6.0</td>\n",
              "      <td>21.1</td>\n",
              "      <td>0.0</td>\n",
              "      <td>1018.8</td>\n",
              "      <td>210.0</td>\n",
              "      <td>1.5</td>\n",
              "      <td>1</td>\n",
              "    </tr>\n",
              "    <tr>\n",
              "      <th>8</th>\n",
              "      <td>0</td>\n",
              "      <td>2016-01-01 08:00:00</td>\n",
              "      <td>20.6</td>\n",
              "      <td>6.0</td>\n",
              "      <td>20.0</td>\n",
              "      <td>0.0</td>\n",
              "      <td>1018.1</td>\n",
              "      <td>0.0</td>\n",
              "      <td>0.0</td>\n",
              "      <td>1</td>\n",
              "    </tr>\n",
              "    <tr>\n",
              "      <th>9</th>\n",
              "      <td>0</td>\n",
              "      <td>2016-01-01 09:00:00</td>\n",
              "      <td>21.1</td>\n",
              "      <td>6.0</td>\n",
              "      <td>20.6</td>\n",
              "      <td>0.0</td>\n",
              "      <td>1019.0</td>\n",
              "      <td>290.0</td>\n",
              "      <td>1.5</td>\n",
              "      <td>1</td>\n",
              "    </tr>\n",
              "    <tr>\n",
              "      <th>10</th>\n",
              "      <td>0</td>\n",
              "      <td>2016-01-01 10:00:00</td>\n",
              "      <td>21.1</td>\n",
              "      <td>6.0</td>\n",
              "      <td>20.6</td>\n",
              "      <td>-1.0</td>\n",
              "      <td>1018.4</td>\n",
              "      <td>0.0</td>\n",
              "      <td>0.0</td>\n",
              "      <td>1</td>\n",
              "    </tr>\n",
              "    <tr>\n",
              "      <th>11</th>\n",
              "      <td>0</td>\n",
              "      <td>2016-01-01 11:00:00</td>\n",
              "      <td>20.6</td>\n",
              "      <td>6.0</td>\n",
              "      <td>20.0</td>\n",
              "      <td>0.0</td>\n",
              "      <td>1018.9</td>\n",
              "      <td>0.0</td>\n",
              "      <td>0.0</td>\n",
              "      <td>1</td>\n",
              "    </tr>\n",
              "    <tr>\n",
              "      <th>12</th>\n",
              "      <td>0</td>\n",
              "      <td>2016-01-01 12:00:00</td>\n",
              "      <td>18.9</td>\n",
              "      <td>6.0</td>\n",
              "      <td>18.9</td>\n",
              "      <td>0.0</td>\n",
              "      <td>1019.2</td>\n",
              "      <td>210.0</td>\n",
              "      <td>1.5</td>\n",
              "      <td>1</td>\n",
              "    </tr>\n",
              "    <tr>\n",
              "      <th>13</th>\n",
              "      <td>0</td>\n",
              "      <td>2016-01-01 13:00:00</td>\n",
              "      <td>20.0</td>\n",
              "      <td>6.0</td>\n",
              "      <td>20.0</td>\n",
              "      <td>0.0</td>\n",
              "      <td>1019.6</td>\n",
              "      <td>0.0</td>\n",
              "      <td>0.0</td>\n",
              "      <td>1</td>\n",
              "    </tr>\n",
              "    <tr>\n",
              "      <th>14</th>\n",
              "      <td>0</td>\n",
              "      <td>2016-01-01 14:00:00</td>\n",
              "      <td>21.7</td>\n",
              "      <td>6.0</td>\n",
              "      <td>21.1</td>\n",
              "      <td>0.0</td>\n",
              "      <td>1020.1</td>\n",
              "      <td>0.0</td>\n",
              "      <td>0.0</td>\n",
              "      <td>1</td>\n",
              "    </tr>\n",
              "    <tr>\n",
              "      <th>15</th>\n",
              "      <td>0</td>\n",
              "      <td>2016-01-01 15:00:00</td>\n",
              "      <td>23.9</td>\n",
              "      <td>6.0</td>\n",
              "      <td>21.1</td>\n",
              "      <td>0.0</td>\n",
              "      <td>1020.3</td>\n",
              "      <td>210.0</td>\n",
              "      <td>3.1</td>\n",
              "      <td>1</td>\n",
              "    </tr>\n",
              "    <tr>\n",
              "      <th>16</th>\n",
              "      <td>0</td>\n",
              "      <td>2016-01-01 16:00:00</td>\n",
              "      <td>26.1</td>\n",
              "      <td>6.0</td>\n",
              "      <td>20.0</td>\n",
              "      <td>0.0</td>\n",
              "      <td>1020.2</td>\n",
              "      <td>210.0</td>\n",
              "      <td>4.1</td>\n",
              "      <td>1</td>\n",
              "    </tr>\n",
              "    <tr>\n",
              "      <th>17</th>\n",
              "      <td>0</td>\n",
              "      <td>2016-01-01 17:00:00</td>\n",
              "      <td>26.7</td>\n",
              "      <td>6.0</td>\n",
              "      <td>20.6</td>\n",
              "      <td>0.0</td>\n",
              "      <td>1019.5</td>\n",
              "      <td>230.0</td>\n",
              "      <td>3.6</td>\n",
              "      <td>1</td>\n",
              "    </tr>\n",
              "    <tr>\n",
              "      <th>18</th>\n",
              "      <td>0</td>\n",
              "      <td>2016-01-01 18:00:00</td>\n",
              "      <td>27.8</td>\n",
              "      <td>6.0</td>\n",
              "      <td>20.0</td>\n",
              "      <td>0.0</td>\n",
              "      <td>1018.2</td>\n",
              "      <td>200.0</td>\n",
              "      <td>5.1</td>\n",
              "      <td>1</td>\n",
              "    </tr>\n",
              "    <tr>\n",
              "      <th>19</th>\n",
              "      <td>0</td>\n",
              "      <td>2016-01-01 19:00:00</td>\n",
              "      <td>28.3</td>\n",
              "      <td>6.0</td>\n",
              "      <td>19.4</td>\n",
              "      <td>0.0</td>\n",
              "      <td>1017.2</td>\n",
              "      <td>180.0</td>\n",
              "      <td>5.1</td>\n",
              "      <td>1</td>\n",
              "    </tr>\n",
              "    <tr>\n",
              "      <th>20</th>\n",
              "      <td>0</td>\n",
              "      <td>2016-01-01 20:00:00</td>\n",
              "      <td>28.3</td>\n",
              "      <td>6.0</td>\n",
              "      <td>18.9</td>\n",
              "      <td>0.0</td>\n",
              "      <td>1017.0</td>\n",
              "      <td>210.0</td>\n",
              "      <td>4.1</td>\n",
              "      <td>1</td>\n",
              "    </tr>\n",
              "    <tr>\n",
              "      <th>21</th>\n",
              "      <td>0</td>\n",
              "      <td>2016-01-01 21:00:00</td>\n",
              "      <td>27.8</td>\n",
              "      <td>6.0</td>\n",
              "      <td>18.3</td>\n",
              "      <td>0.0</td>\n",
              "      <td>1016.8</td>\n",
              "      <td>220.0</td>\n",
              "      <td>4.6</td>\n",
              "      <td>1</td>\n",
              "    </tr>\n",
              "    <tr>\n",
              "      <th>22</th>\n",
              "      <td>0</td>\n",
              "      <td>2016-01-01 22:00:00</td>\n",
              "      <td>26.7</td>\n",
              "      <td>6.0</td>\n",
              "      <td>18.3</td>\n",
              "      <td>0.0</td>\n",
              "      <td>1016.9</td>\n",
              "      <td>230.0</td>\n",
              "      <td>3.1</td>\n",
              "      <td>1</td>\n",
              "    </tr>\n",
              "    <tr>\n",
              "      <th>23</th>\n",
              "      <td>0</td>\n",
              "      <td>2016-01-01 23:00:00</td>\n",
              "      <td>25.6</td>\n",
              "      <td>6.0</td>\n",
              "      <td>18.3</td>\n",
              "      <td>0.0</td>\n",
              "      <td>1017.5</td>\n",
              "      <td>230.0</td>\n",
              "      <td>3.1</td>\n",
              "      <td>1</td>\n",
              "    </tr>\n",
              "    <tr>\n",
              "      <th>24</th>\n",
              "      <td>0</td>\n",
              "      <td>2016-01-02 00:00:00</td>\n",
              "      <td>24.4</td>\n",
              "      <td>6.0</td>\n",
              "      <td>18.9</td>\n",
              "      <td>-1.0</td>\n",
              "      <td>1018.1</td>\n",
              "      <td>270.0</td>\n",
              "      <td>2.6</td>\n",
              "      <td>2</td>\n",
              "    </tr>\n",
              "    <tr>\n",
              "      <th>25</th>\n",
              "      <td>0</td>\n",
              "      <td>2016-01-02 01:00:00</td>\n",
              "      <td>23.9</td>\n",
              "      <td>4.0</td>\n",
              "      <td>18.3</td>\n",
              "      <td>0.0</td>\n",
              "      <td>1018.5</td>\n",
              "      <td>300.0</td>\n",
              "      <td>2.1</td>\n",
              "      <td>2</td>\n",
              "    </tr>\n",
              "    <tr>\n",
              "      <th>26</th>\n",
              "      <td>0</td>\n",
              "      <td>2016-01-02 02:00:00</td>\n",
              "      <td>22.2</td>\n",
              "      <td>4.0</td>\n",
              "      <td>19.4</td>\n",
              "      <td>0.0</td>\n",
              "      <td>1018.5</td>\n",
              "      <td>360.0</td>\n",
              "      <td>5.7</td>\n",
              "      <td>2</td>\n",
              "    </tr>\n",
              "    <tr>\n",
              "      <th>27</th>\n",
              "      <td>0</td>\n",
              "      <td>2016-01-02 03:00:00</td>\n",
              "      <td>21.1</td>\n",
              "      <td>4.0</td>\n",
              "      <td>18.9</td>\n",
              "      <td>0.0</td>\n",
              "      <td>1019.5</td>\n",
              "      <td>20.0</td>\n",
              "      <td>5.1</td>\n",
              "      <td>2</td>\n",
              "    </tr>\n",
              "    <tr>\n",
              "      <th>28</th>\n",
              "      <td>0</td>\n",
              "      <td>2016-01-02 04:00:00</td>\n",
              "      <td>20.6</td>\n",
              "      <td>4.0</td>\n",
              "      <td>17.8</td>\n",
              "      <td>0.0</td>\n",
              "      <td>1019.4</td>\n",
              "      <td>30.0</td>\n",
              "      <td>4.6</td>\n",
              "      <td>2</td>\n",
              "    </tr>\n",
              "    <tr>\n",
              "      <th>29</th>\n",
              "      <td>0</td>\n",
              "      <td>2016-01-02 05:00:00</td>\n",
              "      <td>19.4</td>\n",
              "      <td>4.0</td>\n",
              "      <td>17.2</td>\n",
              "      <td>0.0</td>\n",
              "      <td>1019.3</td>\n",
              "      <td>20.0</td>\n",
              "      <td>2.6</td>\n",
              "      <td>2</td>\n",
              "    </tr>\n",
              "  </tbody>\n",
              "</table>\n",
              "</div>"
            ],
            "text/plain": [
              "    site_id           timestamp  ...  wind_speed  day\n",
              "0         0 2016-01-01 00:00:00  ...         0.0    1\n",
              "1         0 2016-01-01 01:00:00  ...         1.5    1\n",
              "2         0 2016-01-01 02:00:00  ...         0.0    1\n",
              "3         0 2016-01-01 03:00:00  ...         0.0    1\n",
              "4         0 2016-01-01 04:00:00  ...         2.6    1\n",
              "5         0 2016-01-01 05:00:00  ...         0.0    1\n",
              "6         0 2016-01-01 06:00:00  ...         0.0    1\n",
              "7         0 2016-01-01 07:00:00  ...         1.5    1\n",
              "8         0 2016-01-01 08:00:00  ...         0.0    1\n",
              "9         0 2016-01-01 09:00:00  ...         1.5    1\n",
              "10        0 2016-01-01 10:00:00  ...         0.0    1\n",
              "11        0 2016-01-01 11:00:00  ...         0.0    1\n",
              "12        0 2016-01-01 12:00:00  ...         1.5    1\n",
              "13        0 2016-01-01 13:00:00  ...         0.0    1\n",
              "14        0 2016-01-01 14:00:00  ...         0.0    1\n",
              "15        0 2016-01-01 15:00:00  ...         3.1    1\n",
              "16        0 2016-01-01 16:00:00  ...         4.1    1\n",
              "17        0 2016-01-01 17:00:00  ...         3.6    1\n",
              "18        0 2016-01-01 18:00:00  ...         5.1    1\n",
              "19        0 2016-01-01 19:00:00  ...         5.1    1\n",
              "20        0 2016-01-01 20:00:00  ...         4.1    1\n",
              "21        0 2016-01-01 21:00:00  ...         4.6    1\n",
              "22        0 2016-01-01 22:00:00  ...         3.1    1\n",
              "23        0 2016-01-01 23:00:00  ...         3.1    1\n",
              "24        0 2016-01-02 00:00:00  ...         2.6    2\n",
              "25        0 2016-01-02 01:00:00  ...         2.1    2\n",
              "26        0 2016-01-02 02:00:00  ...         5.7    2\n",
              "27        0 2016-01-02 03:00:00  ...         5.1    2\n",
              "28        0 2016-01-02 04:00:00  ...         4.6    2\n",
              "29        0 2016-01-02 05:00:00  ...         2.6    2\n",
              "\n",
              "[30 rows x 10 columns]"
            ]
          },
          "metadata": {
            "tags": []
          },
          "execution_count": 46
        }
      ]
    },
    {
      "cell_type": "markdown",
      "metadata": {
        "id": "hi6_p4gVbzN3"
      },
      "source": [
        "**There are still some missing values. Finally, for those cells which are missing during the entire day, fill with the mean of the site_id :@@@**"
      ]
    },
    {
      "cell_type": "code",
      "metadata": {
        "id": "XTvRFwsgcPKs"
      },
      "source": [
        "#Train data\n",
        "\n",
        "missing_cols = [col for col in weather_train_f.columns if weather_train_f[col].isna().any() ]\n",
        "fill_lib = weather_train_f.groupby([\"site_id\"])[missing_cols].transform(\"mean\") \n",
        "weather_train_f.fillna(fill_lib, inplace=True)\n",
        "\n",
        "#mean of site id, mean of day\n",
        "#Test data\n"
      ],
      "execution_count": null,
      "outputs": []
    },
    {
      "cell_type": "code",
      "metadata": {
        "colab": {
          "base_uri": "https://localhost:8080/"
        },
        "id": "Eea8I74fHUM3",
        "outputId": "6eaac412-9f00-4f02-b978-c01663d75e30"
      },
      "source": [
        "weather.isna().sum() /weather.shape[0] *100"
      ],
      "execution_count": null,
      "outputs": [
        {
          "output_type": "execute_result",
          "data": {
            "text/plain": [
              "site_id                0.000000\n",
              "timestamp              0.000000\n",
              "air_temperature        0.039350\n",
              "cloud_coverage        49.489529\n",
              "dew_temperature        0.080845\n",
              "precip_depth_1_hr     35.979052\n",
              "sea_level_pressure     7.596603\n",
              "wind_direction         4.484414\n",
              "wind_speed             0.217496\n",
              "day                    0.000000\n",
              "dtype: float64"
            ]
          },
          "metadata": {
            "tags": []
          },
          "execution_count": 63
        }
      ]
    },
    {
      "cell_type": "code",
      "metadata": {
        "id": "-P4NjtCnFkaF"
      },
      "source": [
        "def fill_na_num_weather(weather_f):\n",
        "    \n",
        "    #Forward filling missing data in the weather dataset +-24 hours\n",
        "   \n",
        "    weather_f[\"timestamp\"] = pd.to_datetime(weather_f[\"timestamp\"])\n",
        "    weather_f[\"day\"] = weather_f[\"timestamp\"].dt.day\n",
        "    weather_f = weather_f.sort_values(by = [\"site_id\", \"timestamp\"])\n",
        "\n",
        "    weather_f.fillna(method= \"ffill\", inplace=True, limit=12)\n",
        "    weather_f.fillna(method = \"bfill\", inplace=True, limit=12)\n",
        "    # mean per site id, per day\n",
        "    # for cloud coverage, values must be discrete\n",
        "    fill_lib = round(weather_f.groupby([\"site_id\",\"day\"])[\"cloud_coverage\"].transform(\"mean\") )\n",
        "    weather_f[\"cloud_coverage\"].fillna(fill_lib, inplace=True)\n",
        "    \n",
        "    #for other columns\n",
        "    missing_cols = [col for col in weather_f.columns if weather_f[col].isna().any()  and col!=   \"cloud_coverage\"]\n",
        "    fill_lib = weather_f.groupby([\"site_id\",\"day\"])[missing_cols].transform(\"mean\") \n",
        "    weather_f.fillna(fill_lib, inplace=True)\n",
        "\n",
        "    ##for sites with missing data during day, fill with mean of site\n",
        "    missing_cols = [col for col in weather_f.columns if weather_f[col].isna().any() ]\n",
        "    fill_lib = weather_f.groupby([\"site_id\"])[missing_cols].transform(\"mean\") \n",
        "    weather_f.fillna(fill_lib, inplace=True)\n",
        "    return weather_f\n",
        "        \n",
        "\n"
      ],
      "execution_count": null,
      "outputs": []
    },
    {
      "cell_type": "code",
      "metadata": {
        "id": "svH8Aq3FFnBx"
      },
      "source": [
        "weather_fill = fill_na_num_weather(weather)"
      ],
      "execution_count": null,
      "outputs": []
    },
    {
      "cell_type": "code",
      "metadata": {
        "trusted": true,
        "id": "hmGCMLjPCpVK",
        "colab": {
          "base_uri": "https://localhost:8080/"
        },
        "outputId": "529e90a4-fa3d-4583-bc5d-1e8b020116fa"
      },
      "source": [
        "weather_fill.isnull().sum()/weather.shape[0] *100"
      ],
      "execution_count": null,
      "outputs": [
        {
          "output_type": "execute_result",
          "data": {
            "text/plain": [
              "site_id               0.0\n",
              "timestamp             0.0\n",
              "air_temperature       0.0\n",
              "cloud_coverage        0.0\n",
              "dew_temperature       0.0\n",
              "precip_depth_1_hr     0.0\n",
              "sea_level_pressure    0.0\n",
              "wind_direction        0.0\n",
              "wind_speed            0.0\n",
              "day                   0.0\n",
              "dtype: float64"
            ]
          },
          "metadata": {
            "tags": []
          },
          "execution_count": 75
        }
      ]
    },
    {
      "cell_type": "code",
      "metadata": {
        "colab": {
          "base_uri": "https://localhost:8080/",
          "height": 243
        },
        "id": "an1lpXVxJ664",
        "outputId": "c018c9c4-afec-4ed1-dad3-e9a7d53c6a7b"
      },
      "source": [
        "from sklearn.pipeline import Pipeline\n",
        "from sklearn.preprocessing import StandardScaler\n",
        "\n",
        "\n",
        "num_pipeline = Pipeline([\n",
        "                         (\"imputer\", fill_na_num_weather() )\n",
        "])\n",
        "\n",
        "weather_tr = num_pipeline([(\n",
        "                \"imputer\", fill_na_num_weather())\n",
        "])"
      ],
      "execution_count": null,
      "outputs": [
        {
          "output_type": "error",
          "ename": "TypeError",
          "evalue": "ignored",
          "traceback": [
            "\u001b[0;31m---------------------------------------------------------------------------\u001b[0m",
            "\u001b[0;31mTypeError\u001b[0m                                 Traceback (most recent call last)",
            "\u001b[0;32m<ipython-input-76-0fb8c3cd9d3f>\u001b[0m in \u001b[0;36m<module>\u001b[0;34m()\u001b[0m\n\u001b[1;32m      4\u001b[0m \u001b[0;34m\u001b[0m\u001b[0m\n\u001b[1;32m      5\u001b[0m num_pipeline = Pipeline([\n\u001b[0;32m----> 6\u001b[0;31m                          \u001b[0;34m(\u001b[0m\u001b[0;34m\"imputer\"\u001b[0m\u001b[0;34m,\u001b[0m \u001b[0mfill_na_num_weather\u001b[0m\u001b[0;34m(\u001b[0m\u001b[0;34m)\u001b[0m  \u001b[0;34m)\u001b[0m\u001b[0;34m\u001b[0m\u001b[0;34m\u001b[0m\u001b[0m\n\u001b[0m\u001b[1;32m      7\u001b[0m ])\n\u001b[1;32m      8\u001b[0m \u001b[0;34m\u001b[0m\u001b[0m\n",
            "\u001b[0;31mTypeError\u001b[0m: fill_na_num_weather() missing 1 required positional argument: 'weather_f'"
          ]
        }
      ]
    },
    {
      "cell_type": "markdown",
      "metadata": {
        "id": "jQRoBT2OCpVL"
      },
      "source": [
        ""
      ]
    },
    {
      "cell_type": "markdown",
      "metadata": {
        "id": "oWXp3zalCpVL"
      },
      "source": [
        "# Corr matrix; variable selection for linear regression"
      ]
    },
    {
      "cell_type": "markdown",
      "metadata": {
        "id": "xd6KBAcnCpVN"
      },
      "source": [
        "# Merge"
      ]
    },
    {
      "cell_type": "code",
      "metadata": {
        "trusted": true,
        "id": "Dt7v94ufCpVO"
      },
      "source": [
        "metre[\"timestamp\"] = pd.to_datetime(metre[\"timestamp\"])"
      ],
      "execution_count": null,
      "outputs": []
    },
    {
      "cell_type": "code",
      "metadata": {
        "trusted": true,
        "id": "q-2q4k9kCpVP"
      },
      "source": [
        "building_metres = pd.merge(metre, building, how = \"left\", on=\"building_id\")"
      ],
      "execution_count": null,
      "outputs": []
    },
    {
      "cell_type": "code",
      "metadata": {
        "trusted": true,
        "id": "9Jx8u0vECpVP"
      },
      "source": [
        "train = pd.merge(building_metres, weather_train_f, how= \"left\", on=[\"site_id\", \"timestamp\"], validate=\"many_to_one\")"
      ],
      "execution_count": null,
      "outputs": []
    },
    {
      "cell_type": "code",
      "metadata": {
        "trusted": true,
        "id": "uGG2lwDrCpVP"
      },
      "source": [
        "del building\n",
        "del metre\n",
        "del weather_train_f"
      ],
      "execution_count": null,
      "outputs": []
    },
    {
      "cell_type": "code",
      "metadata": {
        "trusted": true,
        "id": "ADa7FVRMCpVQ",
        "colab": {
          "base_uri": "https://localhost:8080/"
        },
        "outputId": "d288605c-f60b-4e0a-e595-c1d2543f0026"
      },
      "source": [
        "train.shape"
      ],
      "execution_count": null,
      "outputs": [
        {
          "output_type": "execute_result",
          "data": {
            "text/plain": [
              "(20216100, 15)"
            ]
          },
          "metadata": {
            "tags": []
          },
          "execution_count": 53
        }
      ]
    },
    {
      "cell_type": "markdown",
      "metadata": {
        "id": "tDaFhNRUCpVQ"
      },
      "source": [
        "# Check NA's after merge"
      ]
    },
    {
      "cell_type": "code",
      "metadata": {
        "trusted": true,
        "id": "QQMmx6XgCpVQ",
        "colab": {
          "base_uri": "https://localhost:8080/"
        },
        "outputId": "1adfbd8b-ca87-4db2-b244-aff4c69fe658"
      },
      "source": [
        "train.isnull().sum()/train.shape[0]*100"
      ],
      "execution_count": null,
      "outputs": [
        {
          "output_type": "execute_result",
          "data": {
            "text/plain": [
              "building_id           0.000000\n",
              "meter                 0.000000\n",
              "timestamp             0.000000\n",
              "meter_reading         0.000000\n",
              "site_id               0.000000\n",
              "primary_use           0.000000\n",
              "square_feet           0.000000\n",
              "air_temperature       0.447638\n",
              "cloud_coverage        0.447638\n",
              "dew_temperature       0.447638\n",
              "precip_depth_1_hr     0.447638\n",
              "sea_level_pressure    0.447638\n",
              "wind_direction        0.447638\n",
              "wind_speed            0.447638\n",
              "day                   0.447638\n",
              "dtype: float64"
            ]
          },
          "metadata": {
            "tags": []
          },
          "execution_count": 54
        }
      ]
    },
    {
      "cell_type": "markdown",
      "metadata": {
        "id": "di1E54_Jl9t7"
      },
      "source": [
        "We can now see some additional missing data in the merged datasets from timestamps present in the train/test sets that were not in the weather data. We will forward fill this data for each building."
      ]
    },
    {
      "cell_type": "markdown",
      "metadata": {
        "id": "qR0tsxZLltfc"
      },
      "source": [
        "## missing values after merge"
      ]
    },
    {
      "cell_type": "code",
      "metadata": {
        "colab": {
          "base_uri": "https://localhost:8080/"
        },
        "id": "lYhz4DmusSoc",
        "outputId": "f126580a-1504-4793-dead-5dedeb39ca6f"
      },
      "source": [
        "train[\"timestamp\"].dt.day.head()"
      ],
      "execution_count": null,
      "outputs": [
        {
          "output_type": "execute_result",
          "data": {
            "text/plain": [
              "0    1\n",
              "1    1\n",
              "2    1\n",
              "3    1\n",
              "4    1\n",
              "Name: timestamp, dtype: int64"
            ]
          },
          "metadata": {
            "tags": []
          },
          "execution_count": 55
        }
      ]
    },
    {
      "cell_type": "code",
      "metadata": {
        "colab": {
          "base_uri": "https://localhost:8080/",
          "height": 1000
        },
        "id": "oNNHZp0IcsMO",
        "outputId": "51344976-0ac0-4f6d-f1e6-b8ad2b55ffe7"
      },
      "source": [
        "train[train[\"cloud_coverage\"].isnull()].head(30)"
      ],
      "execution_count": null,
      "outputs": [
        {
          "output_type": "execute_result",
          "data": {
            "text/html": [
              "<div>\n",
              "<style scoped>\n",
              "    .dataframe tbody tr th:only-of-type {\n",
              "        vertical-align: middle;\n",
              "    }\n",
              "\n",
              "    .dataframe tbody tr th {\n",
              "        vertical-align: top;\n",
              "    }\n",
              "\n",
              "    .dataframe thead th {\n",
              "        text-align: right;\n",
              "    }\n",
              "</style>\n",
              "<table border=\"1\" class=\"dataframe\">\n",
              "  <thead>\n",
              "    <tr style=\"text-align: right;\">\n",
              "      <th></th>\n",
              "      <th>building_id</th>\n",
              "      <th>meter</th>\n",
              "      <th>timestamp</th>\n",
              "      <th>meter_reading</th>\n",
              "      <th>site_id</th>\n",
              "      <th>primary_use</th>\n",
              "      <th>square_feet</th>\n",
              "      <th>air_temperature</th>\n",
              "      <th>cloud_coverage</th>\n",
              "      <th>dew_temperature</th>\n",
              "      <th>precip_depth_1_hr</th>\n",
              "      <th>sea_level_pressure</th>\n",
              "      <th>wind_direction</th>\n",
              "      <th>wind_speed</th>\n",
              "      <th>day</th>\n",
              "    </tr>\n",
              "  </thead>\n",
              "  <tbody>\n",
              "    <tr>\n",
              "      <th>722</th>\n",
              "      <td>565</td>\n",
              "      <td>0</td>\n",
              "      <td>2016-01-01</td>\n",
              "      <td>7.2500</td>\n",
              "      <td>4</td>\n",
              "      <td>Education</td>\n",
              "      <td>15326</td>\n",
              "      <td>NaN</td>\n",
              "      <td>NaN</td>\n",
              "      <td>NaN</td>\n",
              "      <td>NaN</td>\n",
              "      <td>NaN</td>\n",
              "      <td>NaN</td>\n",
              "      <td>NaN</td>\n",
              "      <td>NaN</td>\n",
              "    </tr>\n",
              "    <tr>\n",
              "      <th>723</th>\n",
              "      <td>566</td>\n",
              "      <td>0</td>\n",
              "      <td>2016-01-01</td>\n",
              "      <td>0.5190</td>\n",
              "      <td>4</td>\n",
              "      <td>Education</td>\n",
              "      <td>2010</td>\n",
              "      <td>NaN</td>\n",
              "      <td>NaN</td>\n",
              "      <td>NaN</td>\n",
              "      <td>NaN</td>\n",
              "      <td>NaN</td>\n",
              "      <td>NaN</td>\n",
              "      <td>NaN</td>\n",
              "      <td>NaN</td>\n",
              "    </tr>\n",
              "    <tr>\n",
              "      <th>724</th>\n",
              "      <td>569</td>\n",
              "      <td>0</td>\n",
              "      <td>2016-01-01</td>\n",
              "      <td>246.0000</td>\n",
              "      <td>4</td>\n",
              "      <td>Education</td>\n",
              "      <td>86091</td>\n",
              "      <td>NaN</td>\n",
              "      <td>NaN</td>\n",
              "      <td>NaN</td>\n",
              "      <td>NaN</td>\n",
              "      <td>NaN</td>\n",
              "      <td>NaN</td>\n",
              "      <td>NaN</td>\n",
              "      <td>NaN</td>\n",
              "    </tr>\n",
              "    <tr>\n",
              "      <th>725</th>\n",
              "      <td>570</td>\n",
              "      <td>0</td>\n",
              "      <td>2016-01-01</td>\n",
              "      <td>79.4880</td>\n",
              "      <td>4</td>\n",
              "      <td>Education</td>\n",
              "      <td>193202</td>\n",
              "      <td>NaN</td>\n",
              "      <td>NaN</td>\n",
              "      <td>NaN</td>\n",
              "      <td>NaN</td>\n",
              "      <td>NaN</td>\n",
              "      <td>NaN</td>\n",
              "      <td>NaN</td>\n",
              "      <td>NaN</td>\n",
              "    </tr>\n",
              "    <tr>\n",
              "      <th>726</th>\n",
              "      <td>571</td>\n",
              "      <td>0</td>\n",
              "      <td>2016-01-01</td>\n",
              "      <td>17.0000</td>\n",
              "      <td>4</td>\n",
              "      <td>Education</td>\n",
              "      <td>47954</td>\n",
              "      <td>NaN</td>\n",
              "      <td>NaN</td>\n",
              "      <td>NaN</td>\n",
              "      <td>NaN</td>\n",
              "      <td>NaN</td>\n",
              "      <td>NaN</td>\n",
              "      <td>NaN</td>\n",
              "      <td>NaN</td>\n",
              "    </tr>\n",
              "    <tr>\n",
              "      <th>727</th>\n",
              "      <td>572</td>\n",
              "      <td>0</td>\n",
              "      <td>2016-01-01</td>\n",
              "      <td>310.6750</td>\n",
              "      <td>4</td>\n",
              "      <td>Education</td>\n",
              "      <td>94175</td>\n",
              "      <td>NaN</td>\n",
              "      <td>NaN</td>\n",
              "      <td>NaN</td>\n",
              "      <td>NaN</td>\n",
              "      <td>NaN</td>\n",
              "      <td>NaN</td>\n",
              "      <td>NaN</td>\n",
              "      <td>NaN</td>\n",
              "    </tr>\n",
              "    <tr>\n",
              "      <th>728</th>\n",
              "      <td>573</td>\n",
              "      <td>0</td>\n",
              "      <td>2016-01-01</td>\n",
              "      <td>8.8828</td>\n",
              "      <td>4</td>\n",
              "      <td>Education</td>\n",
              "      <td>23815</td>\n",
              "      <td>NaN</td>\n",
              "      <td>NaN</td>\n",
              "      <td>NaN</td>\n",
              "      <td>NaN</td>\n",
              "      <td>NaN</td>\n",
              "      <td>NaN</td>\n",
              "      <td>NaN</td>\n",
              "      <td>NaN</td>\n",
              "    </tr>\n",
              "    <tr>\n",
              "      <th>729</th>\n",
              "      <td>574</td>\n",
              "      <td>0</td>\n",
              "      <td>2016-01-01</td>\n",
              "      <td>21.0625</td>\n",
              "      <td>4</td>\n",
              "      <td>Education</td>\n",
              "      <td>56343</td>\n",
              "      <td>NaN</td>\n",
              "      <td>NaN</td>\n",
              "      <td>NaN</td>\n",
              "      <td>NaN</td>\n",
              "      <td>NaN</td>\n",
              "      <td>NaN</td>\n",
              "      <td>NaN</td>\n",
              "      <td>NaN</td>\n",
              "    </tr>\n",
              "    <tr>\n",
              "      <th>730</th>\n",
              "      <td>575</td>\n",
              "      <td>0</td>\n",
              "      <td>2016-01-01</td>\n",
              "      <td>22.5750</td>\n",
              "      <td>4</td>\n",
              "      <td>Technology/science</td>\n",
              "      <td>33167</td>\n",
              "      <td>NaN</td>\n",
              "      <td>NaN</td>\n",
              "      <td>NaN</td>\n",
              "      <td>NaN</td>\n",
              "      <td>NaN</td>\n",
              "      <td>NaN</td>\n",
              "      <td>NaN</td>\n",
              "      <td>NaN</td>\n",
              "    </tr>\n",
              "    <tr>\n",
              "      <th>731</th>\n",
              "      <td>576</td>\n",
              "      <td>0</td>\n",
              "      <td>2016-01-01</td>\n",
              "      <td>117.2500</td>\n",
              "      <td>4</td>\n",
              "      <td>Education</td>\n",
              "      <td>86465</td>\n",
              "      <td>NaN</td>\n",
              "      <td>NaN</td>\n",
              "      <td>NaN</td>\n",
              "      <td>NaN</td>\n",
              "      <td>NaN</td>\n",
              "      <td>NaN</td>\n",
              "      <td>NaN</td>\n",
              "      <td>NaN</td>\n",
              "    </tr>\n",
              "    <tr>\n",
              "      <th>732</th>\n",
              "      <td>577</td>\n",
              "      <td>0</td>\n",
              "      <td>2016-01-01</td>\n",
              "      <td>44.6000</td>\n",
              "      <td>4</td>\n",
              "      <td>Education</td>\n",
              "      <td>113589</td>\n",
              "      <td>NaN</td>\n",
              "      <td>NaN</td>\n",
              "      <td>NaN</td>\n",
              "      <td>NaN</td>\n",
              "      <td>NaN</td>\n",
              "      <td>NaN</td>\n",
              "      <td>NaN</td>\n",
              "      <td>NaN</td>\n",
              "    </tr>\n",
              "    <tr>\n",
              "      <th>733</th>\n",
              "      <td>578</td>\n",
              "      <td>0</td>\n",
              "      <td>2016-01-01</td>\n",
              "      <td>66.9298</td>\n",
              "      <td>4</td>\n",
              "      <td>Lodging/residential</td>\n",
              "      <td>71994</td>\n",
              "      <td>NaN</td>\n",
              "      <td>NaN</td>\n",
              "      <td>NaN</td>\n",
              "      <td>NaN</td>\n",
              "      <td>NaN</td>\n",
              "      <td>NaN</td>\n",
              "      <td>NaN</td>\n",
              "      <td>NaN</td>\n",
              "    </tr>\n",
              "    <tr>\n",
              "      <th>734</th>\n",
              "      <td>579</td>\n",
              "      <td>0</td>\n",
              "      <td>2016-01-01</td>\n",
              "      <td>3.1702</td>\n",
              "      <td>4</td>\n",
              "      <td>Education</td>\n",
              "      <td>7781</td>\n",
              "      <td>NaN</td>\n",
              "      <td>NaN</td>\n",
              "      <td>NaN</td>\n",
              "      <td>NaN</td>\n",
              "      <td>NaN</td>\n",
              "      <td>NaN</td>\n",
              "      <td>NaN</td>\n",
              "      <td>NaN</td>\n",
              "    </tr>\n",
              "    <tr>\n",
              "      <th>735</th>\n",
              "      <td>580</td>\n",
              "      <td>0</td>\n",
              "      <td>2016-01-01</td>\n",
              "      <td>69.7500</td>\n",
              "      <td>4</td>\n",
              "      <td>Education</td>\n",
              "      <td>104016</td>\n",
              "      <td>NaN</td>\n",
              "      <td>NaN</td>\n",
              "      <td>NaN</td>\n",
              "      <td>NaN</td>\n",
              "      <td>NaN</td>\n",
              "      <td>NaN</td>\n",
              "      <td>NaN</td>\n",
              "      <td>NaN</td>\n",
              "    </tr>\n",
              "    <tr>\n",
              "      <th>736</th>\n",
              "      <td>581</td>\n",
              "      <td>0</td>\n",
              "      <td>2016-01-01</td>\n",
              "      <td>5.3500</td>\n",
              "      <td>4</td>\n",
              "      <td>Lodging/residential</td>\n",
              "      <td>23012</td>\n",
              "      <td>NaN</td>\n",
              "      <td>NaN</td>\n",
              "      <td>NaN</td>\n",
              "      <td>NaN</td>\n",
              "      <td>NaN</td>\n",
              "      <td>NaN</td>\n",
              "      <td>NaN</td>\n",
              "      <td>NaN</td>\n",
              "    </tr>\n",
              "    <tr>\n",
              "      <th>737</th>\n",
              "      <td>582</td>\n",
              "      <td>0</td>\n",
              "      <td>2016-01-01</td>\n",
              "      <td>5.8000</td>\n",
              "      <td>4</td>\n",
              "      <td>Education</td>\n",
              "      <td>14542</td>\n",
              "      <td>NaN</td>\n",
              "      <td>NaN</td>\n",
              "      <td>NaN</td>\n",
              "      <td>NaN</td>\n",
              "      <td>NaN</td>\n",
              "      <td>NaN</td>\n",
              "      <td>NaN</td>\n",
              "      <td>NaN</td>\n",
              "    </tr>\n",
              "    <tr>\n",
              "      <th>738</th>\n",
              "      <td>583</td>\n",
              "      <td>0</td>\n",
              "      <td>2016-01-01</td>\n",
              "      <td>445.7510</td>\n",
              "      <td>4</td>\n",
              "      <td>Education</td>\n",
              "      <td>206054</td>\n",
              "      <td>NaN</td>\n",
              "      <td>NaN</td>\n",
              "      <td>NaN</td>\n",
              "      <td>NaN</td>\n",
              "      <td>NaN</td>\n",
              "      <td>NaN</td>\n",
              "      <td>NaN</td>\n",
              "      <td>NaN</td>\n",
              "    </tr>\n",
              "    <tr>\n",
              "      <th>739</th>\n",
              "      <td>584</td>\n",
              "      <td>0</td>\n",
              "      <td>2016-01-01</td>\n",
              "      <td>98.3360</td>\n",
              "      <td>4</td>\n",
              "      <td>Education</td>\n",
              "      <td>137806</td>\n",
              "      <td>NaN</td>\n",
              "      <td>NaN</td>\n",
              "      <td>NaN</td>\n",
              "      <td>NaN</td>\n",
              "      <td>NaN</td>\n",
              "      <td>NaN</td>\n",
              "      <td>NaN</td>\n",
              "      <td>NaN</td>\n",
              "    </tr>\n",
              "    <tr>\n",
              "      <th>740</th>\n",
              "      <td>585</td>\n",
              "      <td>0</td>\n",
              "      <td>2016-01-01</td>\n",
              "      <td>158.2500</td>\n",
              "      <td>4</td>\n",
              "      <td>Public services</td>\n",
              "      <td>132394</td>\n",
              "      <td>NaN</td>\n",
              "      <td>NaN</td>\n",
              "      <td>NaN</td>\n",
              "      <td>NaN</td>\n",
              "      <td>NaN</td>\n",
              "      <td>NaN</td>\n",
              "      <td>NaN</td>\n",
              "      <td>NaN</td>\n",
              "    </tr>\n",
              "    <tr>\n",
              "      <th>741</th>\n",
              "      <td>586</td>\n",
              "      <td>0</td>\n",
              "      <td>2016-01-01</td>\n",
              "      <td>48.2000</td>\n",
              "      <td>4</td>\n",
              "      <td>Public services</td>\n",
              "      <td>166514</td>\n",
              "      <td>NaN</td>\n",
              "      <td>NaN</td>\n",
              "      <td>NaN</td>\n",
              "      <td>NaN</td>\n",
              "      <td>NaN</td>\n",
              "      <td>NaN</td>\n",
              "      <td>NaN</td>\n",
              "      <td>NaN</td>\n",
              "    </tr>\n",
              "    <tr>\n",
              "      <th>742</th>\n",
              "      <td>587</td>\n",
              "      <td>0</td>\n",
              "      <td>2016-01-01</td>\n",
              "      <td>77.2000</td>\n",
              "      <td>4</td>\n",
              "      <td>Technology/science</td>\n",
              "      <td>53234</td>\n",
              "      <td>NaN</td>\n",
              "      <td>NaN</td>\n",
              "      <td>NaN</td>\n",
              "      <td>NaN</td>\n",
              "      <td>NaN</td>\n",
              "      <td>NaN</td>\n",
              "      <td>NaN</td>\n",
              "      <td>NaN</td>\n",
              "    </tr>\n",
              "    <tr>\n",
              "      <th>743</th>\n",
              "      <td>588</td>\n",
              "      <td>0</td>\n",
              "      <td>2016-01-01</td>\n",
              "      <td>11.4750</td>\n",
              "      <td>4</td>\n",
              "      <td>Education</td>\n",
              "      <td>21866</td>\n",
              "      <td>NaN</td>\n",
              "      <td>NaN</td>\n",
              "      <td>NaN</td>\n",
              "      <td>NaN</td>\n",
              "      <td>NaN</td>\n",
              "      <td>NaN</td>\n",
              "      <td>NaN</td>\n",
              "      <td>NaN</td>\n",
              "    </tr>\n",
              "    <tr>\n",
              "      <th>744</th>\n",
              "      <td>589</td>\n",
              "      <td>0</td>\n",
              "      <td>2016-01-01</td>\n",
              "      <td>75.2022</td>\n",
              "      <td>4</td>\n",
              "      <td>Education</td>\n",
              "      <td>305268</td>\n",
              "      <td>NaN</td>\n",
              "      <td>NaN</td>\n",
              "      <td>NaN</td>\n",
              "      <td>NaN</td>\n",
              "      <td>NaN</td>\n",
              "      <td>NaN</td>\n",
              "      <td>NaN</td>\n",
              "      <td>NaN</td>\n",
              "    </tr>\n",
              "    <tr>\n",
              "      <th>745</th>\n",
              "      <td>590</td>\n",
              "      <td>0</td>\n",
              "      <td>2016-01-01</td>\n",
              "      <td>1.5000</td>\n",
              "      <td>4</td>\n",
              "      <td>Education</td>\n",
              "      <td>8516</td>\n",
              "      <td>NaN</td>\n",
              "      <td>NaN</td>\n",
              "      <td>NaN</td>\n",
              "      <td>NaN</td>\n",
              "      <td>NaN</td>\n",
              "      <td>NaN</td>\n",
              "      <td>NaN</td>\n",
              "      <td>NaN</td>\n",
              "    </tr>\n",
              "    <tr>\n",
              "      <th>746</th>\n",
              "      <td>592</td>\n",
              "      <td>0</td>\n",
              "      <td>2016-01-01</td>\n",
              "      <td>334.0800</td>\n",
              "      <td>4</td>\n",
              "      <td>Education</td>\n",
              "      <td>120694</td>\n",
              "      <td>NaN</td>\n",
              "      <td>NaN</td>\n",
              "      <td>NaN</td>\n",
              "      <td>NaN</td>\n",
              "      <td>NaN</td>\n",
              "      <td>NaN</td>\n",
              "      <td>NaN</td>\n",
              "      <td>NaN</td>\n",
              "    </tr>\n",
              "    <tr>\n",
              "      <th>747</th>\n",
              "      <td>594</td>\n",
              "      <td>0</td>\n",
              "      <td>2016-01-01</td>\n",
              "      <td>354.4130</td>\n",
              "      <td>4</td>\n",
              "      <td>Education</td>\n",
              "      <td>177281</td>\n",
              "      <td>NaN</td>\n",
              "      <td>NaN</td>\n",
              "      <td>NaN</td>\n",
              "      <td>NaN</td>\n",
              "      <td>NaN</td>\n",
              "      <td>NaN</td>\n",
              "      <td>NaN</td>\n",
              "      <td>NaN</td>\n",
              "    </tr>\n",
              "    <tr>\n",
              "      <th>748</th>\n",
              "      <td>595</td>\n",
              "      <td>0</td>\n",
              "      <td>2016-01-01</td>\n",
              "      <td>146.1000</td>\n",
              "      <td>4</td>\n",
              "      <td>Education</td>\n",
              "      <td>270413</td>\n",
              "      <td>NaN</td>\n",
              "      <td>NaN</td>\n",
              "      <td>NaN</td>\n",
              "      <td>NaN</td>\n",
              "      <td>NaN</td>\n",
              "      <td>NaN</td>\n",
              "      <td>NaN</td>\n",
              "      <td>NaN</td>\n",
              "    </tr>\n",
              "    <tr>\n",
              "      <th>749</th>\n",
              "      <td>596</td>\n",
              "      <td>0</td>\n",
              "      <td>2016-01-01</td>\n",
              "      <td>6.0000</td>\n",
              "      <td>4</td>\n",
              "      <td>Education</td>\n",
              "      <td>18474</td>\n",
              "      <td>NaN</td>\n",
              "      <td>NaN</td>\n",
              "      <td>NaN</td>\n",
              "      <td>NaN</td>\n",
              "      <td>NaN</td>\n",
              "      <td>NaN</td>\n",
              "      <td>NaN</td>\n",
              "      <td>NaN</td>\n",
              "    </tr>\n",
              "    <tr>\n",
              "      <th>750</th>\n",
              "      <td>597</td>\n",
              "      <td>0</td>\n",
              "      <td>2016-01-01</td>\n",
              "      <td>74.0000</td>\n",
              "      <td>4</td>\n",
              "      <td>Public services</td>\n",
              "      <td>189425</td>\n",
              "      <td>NaN</td>\n",
              "      <td>NaN</td>\n",
              "      <td>NaN</td>\n",
              "      <td>NaN</td>\n",
              "      <td>NaN</td>\n",
              "      <td>NaN</td>\n",
              "      <td>NaN</td>\n",
              "      <td>NaN</td>\n",
              "    </tr>\n",
              "    <tr>\n",
              "      <th>751</th>\n",
              "      <td>598</td>\n",
              "      <td>0</td>\n",
              "      <td>2016-01-01</td>\n",
              "      <td>45.5725</td>\n",
              "      <td>4</td>\n",
              "      <td>Public services</td>\n",
              "      <td>68701</td>\n",
              "      <td>NaN</td>\n",
              "      <td>NaN</td>\n",
              "      <td>NaN</td>\n",
              "      <td>NaN</td>\n",
              "      <td>NaN</td>\n",
              "      <td>NaN</td>\n",
              "      <td>NaN</td>\n",
              "      <td>NaN</td>\n",
              "    </tr>\n",
              "  </tbody>\n",
              "</table>\n",
              "</div>"
            ],
            "text/plain": [
              "     building_id  meter  timestamp  ...  wind_direction  wind_speed day\n",
              "722          565      0 2016-01-01  ...             NaN         NaN NaN\n",
              "723          566      0 2016-01-01  ...             NaN         NaN NaN\n",
              "724          569      0 2016-01-01  ...             NaN         NaN NaN\n",
              "725          570      0 2016-01-01  ...             NaN         NaN NaN\n",
              "726          571      0 2016-01-01  ...             NaN         NaN NaN\n",
              "727          572      0 2016-01-01  ...             NaN         NaN NaN\n",
              "728          573      0 2016-01-01  ...             NaN         NaN NaN\n",
              "729          574      0 2016-01-01  ...             NaN         NaN NaN\n",
              "730          575      0 2016-01-01  ...             NaN         NaN NaN\n",
              "731          576      0 2016-01-01  ...             NaN         NaN NaN\n",
              "732          577      0 2016-01-01  ...             NaN         NaN NaN\n",
              "733          578      0 2016-01-01  ...             NaN         NaN NaN\n",
              "734          579      0 2016-01-01  ...             NaN         NaN NaN\n",
              "735          580      0 2016-01-01  ...             NaN         NaN NaN\n",
              "736          581      0 2016-01-01  ...             NaN         NaN NaN\n",
              "737          582      0 2016-01-01  ...             NaN         NaN NaN\n",
              "738          583      0 2016-01-01  ...             NaN         NaN NaN\n",
              "739          584      0 2016-01-01  ...             NaN         NaN NaN\n",
              "740          585      0 2016-01-01  ...             NaN         NaN NaN\n",
              "741          586      0 2016-01-01  ...             NaN         NaN NaN\n",
              "742          587      0 2016-01-01  ...             NaN         NaN NaN\n",
              "743          588      0 2016-01-01  ...             NaN         NaN NaN\n",
              "744          589      0 2016-01-01  ...             NaN         NaN NaN\n",
              "745          590      0 2016-01-01  ...             NaN         NaN NaN\n",
              "746          592      0 2016-01-01  ...             NaN         NaN NaN\n",
              "747          594      0 2016-01-01  ...             NaN         NaN NaN\n",
              "748          595      0 2016-01-01  ...             NaN         NaN NaN\n",
              "749          596      0 2016-01-01  ...             NaN         NaN NaN\n",
              "750          597      0 2016-01-01  ...             NaN         NaN NaN\n",
              "751          598      0 2016-01-01  ...             NaN         NaN NaN\n",
              "\n",
              "[30 rows x 15 columns]"
            ]
          },
          "metadata": {
            "tags": []
          },
          "execution_count": 56
        }
      ]
    },
    {
      "cell_type": "markdown",
      "metadata": {
        "id": "wghXNVWeXx8U"
      },
      "source": [
        "# Optimize meory usage"
      ]
    },
    {
      "cell_type": "code",
      "metadata": {
        "id": "O-Q_GeT8pGW-"
      },
      "source": [
        "# train.groupby(by=[\"building_id\", \"timestamp\"]).head()"
      ],
      "execution_count": null,
      "outputs": []
    },
    {
      "cell_type": "code",
      "metadata": {
        "colab": {
          "base_uri": "https://localhost:8080/"
        },
        "id": "zdgfulF-Xwc-",
        "outputId": "094309bf-1a23-4eca-9dca-502b9bffda8f"
      },
      "source": [
        "import numpy as np\n",
        "def reduce_mem_usage(df, verbose=True):\n",
        "    numerics = ['int16', 'int32', 'int64', 'float16', 'float32', 'float64']\n",
        "    start_mem = df.memory_usage().sum() / 1024**2    \n",
        "    for col in df.columns:\n",
        "        col_type = df[col].dtypes\n",
        "        if col_type in numerics:\n",
        "            c_min = df[col].min()\n",
        "            c_max = df[col].max()\n",
        "            if str(col_type)[:3] == 'int':\n",
        "                if c_min > np.iinfo(np.int8).min and c_max < np.iinfo(np.int8).max:\n",
        "                    df[col] = df[col].astype(np.int8)\n",
        "                elif c_min > np.iinfo(np.int16).min and c_max < np.iinfo(np.int16).max:\n",
        "                    df[col] = df[col].astype(np.int16)\n",
        "                elif c_min > np.iinfo(np.int32).min and c_max < np.iinfo(np.int32).max:\n",
        "                    df[col] = df[col].astype(np.int32)\n",
        "                elif c_min > np.iinfo(np.int64).min and c_max < np.iinfo(np.int64).max:\n",
        "                    df[col] = df[col].astype(np.int64)  \n",
        "            else:\n",
        "                if c_min > np.finfo(np.float16).min and c_max < np.finfo(np.float16).max:\n",
        "                    df[col] = df[col].astype(np.float16)\n",
        "                elif c_min > np.finfo(np.float32).min and c_max < np.finfo(np.float32).max:\n",
        "                    df[col] = df[col].astype(np.float32)\n",
        "                else:\n",
        "                    df[col] = df[col].astype(np.float64)    \n",
        "    end_mem = df.memory_usage().sum() / 1024**2\n",
        "    if verbose: print('Mem. usage decreased to {:5.2f} Mb ({:.1f}% reduction)'.format(end_mem, 100 * (start_mem - end_mem) / start_mem))\n",
        "    return df\n",
        "\n",
        "train = reduce_mem_usage(train)"
      ],
      "execution_count": null,
      "outputs": [
        {
          "output_type": "stream",
          "text": [
            "Mem. usage decreased to 1002.54 Mb (59.4% reduction)\n"
          ],
          "name": "stdout"
        }
      ]
    },
    {
      "cell_type": "code",
      "metadata": {
        "id": "r5EF_D8vtPNC"
      },
      "source": [
        "train_m = train.sort_values(by=[\"building_id\", \"timestamp\"])"
      ],
      "execution_count": null,
      "outputs": []
    },
    {
      "cell_type": "code",
      "metadata": {
        "id": "iW0LGCpovhgL"
      },
      "source": [
        "del train"
      ],
      "execution_count": null,
      "outputs": []
    },
    {
      "cell_type": "code",
      "metadata": {
        "colab": {
          "base_uri": "https://localhost:8080/"
        },
        "id": "VTgIXwTaZJS5",
        "outputId": "3e1c6566-a0c2-4e6a-ab43-22cf286ee91c"
      },
      "source": [
        "train_m = reduce_mem_usage(train_m)"
      ],
      "execution_count": null,
      "outputs": [
        {
          "output_type": "stream",
          "text": [
            "Mem. usage decreased to 1002.54 Mb (0.0% reduction)\n"
          ],
          "name": "stdout"
        }
      ]
    },
    {
      "cell_type": "code",
      "metadata": {
        "id": "Ug2urlFWv9Ml"
      },
      "source": [
        "train_m.reset_index(drop=True, inplace=True)"
      ],
      "execution_count": null,
      "outputs": []
    },
    {
      "cell_type": "code",
      "metadata": {
        "id": "jHKTKVI5wMrL",
        "colab": {
          "base_uri": "https://localhost:8080/",
          "height": 171
        },
        "outputId": "44ce3262-902a-4e41-be37-bc96e841020b"
      },
      "source": [
        "a"
      ],
      "execution_count": null,
      "outputs": [
        {
          "output_type": "error",
          "ename": "NameError",
          "evalue": "ignored",
          "traceback": [
            "\u001b[0;31m---------------------------------------------------------------------------\u001b[0m",
            "\u001b[0;31mNameError\u001b[0m                                 Traceback (most recent call last)",
            "\u001b[0;32m<ipython-input-63-3f786850e387>\u001b[0m in \u001b[0;36m<module>\u001b[0;34m()\u001b[0m\n\u001b[0;32m----> 1\u001b[0;31m \u001b[0ma\u001b[0m\u001b[0;34m\u001b[0m\u001b[0;34m\u001b[0m\u001b[0m\n\u001b[0m",
            "\u001b[0;31mNameError\u001b[0m: name 'a' is not defined"
          ]
        }
      ]
    },
    {
      "cell_type": "code",
      "metadata": {
        "id": "I1UkRJEevibu"
      },
      "source": [
        "train_m[train_m[\"air_temperature\"].isnull()].head(30)"
      ],
      "execution_count": null,
      "outputs": []
    },
    {
      "cell_type": "markdown",
      "metadata": {
        "id": "Tp-Q0S__cMOR"
      },
      "source": [
        "Looking at building 105, the missing observations lied between 14:00PM untill 17:00PM, since the data isn't entirely missing during the whole day(assuming this is the case for all buildings) it would make sense to use the average of each day, per builidng"
      ]
    },
    {
      "cell_type": "code",
      "metadata": {
        "id": "EFTlZ9KgpaYJ"
      },
      "source": [
        "# train_m.head(30) #nulls where"
      ],
      "execution_count": null,
      "outputs": []
    },
    {
      "cell_type": "markdown",
      "metadata": {
        "id": "9_etSFdvCpVR"
      },
      "source": [
        ""
      ]
    },
    {
      "cell_type": "code",
      "metadata": {
        "id": "bDZkCmWlxa_D"
      },
      "source": [
        "train_m.info()"
      ],
      "execution_count": null,
      "outputs": []
    },
    {
      "cell_type": "markdown",
      "metadata": {
        "id": "lbYp5_elamXL"
      },
      "source": [
        "Using the same  approach, discussed above, to fill those nulls"
      ]
    },
    {
      "cell_type": "markdown",
      "metadata": {
        "id": "kOoH4lvlCpVU"
      },
      "source": [
        "# Feature engineering; time of day; peak times?"
      ]
    },
    {
      "cell_type": "code",
      "metadata": {
        "trusted": true,
        "id": "Bt8Iq7PACpVV",
        "colab": {
          "base_uri": "https://localhost:8080/",
          "height": 617
        },
        "outputId": "1300b3f4-c25a-4f53-8fb0-700eb6dc4968"
      },
      "source": [
        "\n",
        "\n",
        "#Add hour, time of year, and weekend columns\n",
        "#Train\n",
        "\n",
        "\n",
        "train_m[\"hour\"] = train_m[\"timestamp\"].dt.hour\n",
        "train_m[\"day\"] = train_m[\"timestamp\"].dt.day\n",
        "train_m[\"month\"] = train_m[\"timestamp\"].dt.month\n",
        "train_m[\"day_of_year\"] = (train_m[\"timestamp\"] - pd.Timestamp(\"2016-01-01\")).dt.days%365\n",
        "train_m[\"is_weekend\"] = train_m[\"timestamp\"].dt.weekday.isin([5, 6]).astype(int)\n",
        "#Test\n",
        "####\n",
        "train_m"
      ],
      "execution_count": null,
      "outputs": [
        {
          "output_type": "execute_result",
          "data": {
            "text/html": [
              "<div>\n",
              "<style scoped>\n",
              "    .dataframe tbody tr th:only-of-type {\n",
              "        vertical-align: middle;\n",
              "    }\n",
              "\n",
              "    .dataframe tbody tr th {\n",
              "        vertical-align: top;\n",
              "    }\n",
              "\n",
              "    .dataframe thead th {\n",
              "        text-align: right;\n",
              "    }\n",
              "</style>\n",
              "<table border=\"1\" class=\"dataframe\">\n",
              "  <thead>\n",
              "    <tr style=\"text-align: right;\">\n",
              "      <th></th>\n",
              "      <th>building_id</th>\n",
              "      <th>meter</th>\n",
              "      <th>timestamp</th>\n",
              "      <th>meter_reading</th>\n",
              "      <th>site_id</th>\n",
              "      <th>primary_use</th>\n",
              "      <th>square_feet</th>\n",
              "      <th>air_temperature</th>\n",
              "      <th>cloud_coverage</th>\n",
              "      <th>dew_temperature</th>\n",
              "      <th>precip_depth_1_hr</th>\n",
              "      <th>sea_level_pressure</th>\n",
              "      <th>wind_direction</th>\n",
              "      <th>wind_speed</th>\n",
              "      <th>day</th>\n",
              "      <th>hour</th>\n",
              "      <th>month</th>\n",
              "      <th>day_of_year</th>\n",
              "      <th>is_weekend</th>\n",
              "    </tr>\n",
              "  </thead>\n",
              "  <tbody>\n",
              "    <tr>\n",
              "      <th>0</th>\n",
              "      <td>0</td>\n",
              "      <td>0</td>\n",
              "      <td>2016-01-01 00:00:00</td>\n",
              "      <td>0.000</td>\n",
              "      <td>0</td>\n",
              "      <td>Education</td>\n",
              "      <td>7432</td>\n",
              "      <td>25.000000</td>\n",
              "      <td>6.0</td>\n",
              "      <td>20.000000</td>\n",
              "      <td>-1.0</td>\n",
              "      <td>1019.5</td>\n",
              "      <td>0.0</td>\n",
              "      <td>0.000000</td>\n",
              "      <td>1</td>\n",
              "      <td>0</td>\n",
              "      <td>1</td>\n",
              "      <td>0</td>\n",
              "      <td>0</td>\n",
              "    </tr>\n",
              "    <tr>\n",
              "      <th>1</th>\n",
              "      <td>0</td>\n",
              "      <td>0</td>\n",
              "      <td>2016-01-01 01:00:00</td>\n",
              "      <td>0.000</td>\n",
              "      <td>0</td>\n",
              "      <td>Education</td>\n",
              "      <td>7432</td>\n",
              "      <td>24.406250</td>\n",
              "      <td>6.0</td>\n",
              "      <td>21.093750</td>\n",
              "      <td>-1.0</td>\n",
              "      <td>1020.0</td>\n",
              "      <td>70.0</td>\n",
              "      <td>1.500000</td>\n",
              "      <td>1</td>\n",
              "      <td>1</td>\n",
              "      <td>1</td>\n",
              "      <td>0</td>\n",
              "      <td>0</td>\n",
              "    </tr>\n",
              "    <tr>\n",
              "      <th>2</th>\n",
              "      <td>0</td>\n",
              "      <td>0</td>\n",
              "      <td>2016-01-01 02:00:00</td>\n",
              "      <td>0.000</td>\n",
              "      <td>0</td>\n",
              "      <td>Education</td>\n",
              "      <td>7432</td>\n",
              "      <td>22.796875</td>\n",
              "      <td>2.0</td>\n",
              "      <td>21.093750</td>\n",
              "      <td>0.0</td>\n",
              "      <td>1020.0</td>\n",
              "      <td>0.0</td>\n",
              "      <td>0.000000</td>\n",
              "      <td>1</td>\n",
              "      <td>2</td>\n",
              "      <td>1</td>\n",
              "      <td>0</td>\n",
              "      <td>0</td>\n",
              "    </tr>\n",
              "    <tr>\n",
              "      <th>3</th>\n",
              "      <td>0</td>\n",
              "      <td>0</td>\n",
              "      <td>2016-01-01 03:00:00</td>\n",
              "      <td>0.000</td>\n",
              "      <td>0</td>\n",
              "      <td>Education</td>\n",
              "      <td>7432</td>\n",
              "      <td>21.093750</td>\n",
              "      <td>2.0</td>\n",
              "      <td>20.593750</td>\n",
              "      <td>0.0</td>\n",
              "      <td>1020.0</td>\n",
              "      <td>0.0</td>\n",
              "      <td>0.000000</td>\n",
              "      <td>1</td>\n",
              "      <td>3</td>\n",
              "      <td>1</td>\n",
              "      <td>0</td>\n",
              "      <td>0</td>\n",
              "    </tr>\n",
              "    <tr>\n",
              "      <th>4</th>\n",
              "      <td>0</td>\n",
              "      <td>0</td>\n",
              "      <td>2016-01-01 04:00:00</td>\n",
              "      <td>0.000</td>\n",
              "      <td>0</td>\n",
              "      <td>Education</td>\n",
              "      <td>7432</td>\n",
              "      <td>20.000000</td>\n",
              "      <td>2.0</td>\n",
              "      <td>20.000000</td>\n",
              "      <td>-1.0</td>\n",
              "      <td>1020.0</td>\n",
              "      <td>250.0</td>\n",
              "      <td>2.599609</td>\n",
              "      <td>1</td>\n",
              "      <td>4</td>\n",
              "      <td>1</td>\n",
              "      <td>0</td>\n",
              "      <td>0</td>\n",
              "    </tr>\n",
              "    <tr>\n",
              "      <th>...</th>\n",
              "      <td>...</td>\n",
              "      <td>...</td>\n",
              "      <td>...</td>\n",
              "      <td>...</td>\n",
              "      <td>...</td>\n",
              "      <td>...</td>\n",
              "      <td>...</td>\n",
              "      <td>...</td>\n",
              "      <td>...</td>\n",
              "      <td>...</td>\n",
              "      <td>...</td>\n",
              "      <td>...</td>\n",
              "      <td>...</td>\n",
              "      <td>...</td>\n",
              "      <td>...</td>\n",
              "      <td>...</td>\n",
              "      <td>...</td>\n",
              "      <td>...</td>\n",
              "      <td>...</td>\n",
              "    </tr>\n",
              "    <tr>\n",
              "      <th>20216095</th>\n",
              "      <td>1448</td>\n",
              "      <td>0</td>\n",
              "      <td>2016-12-31 19:00:00</td>\n",
              "      <td>3.400</td>\n",
              "      <td>15</td>\n",
              "      <td>Office</td>\n",
              "      <td>92271</td>\n",
              "      <td>3.000000</td>\n",
              "      <td>0.0</td>\n",
              "      <td>-8.000000</td>\n",
              "      <td>-1.0</td>\n",
              "      <td>1007.5</td>\n",
              "      <td>180.0</td>\n",
              "      <td>5.699219</td>\n",
              "      <td>31</td>\n",
              "      <td>19</td>\n",
              "      <td>12</td>\n",
              "      <td>0</td>\n",
              "      <td>1</td>\n",
              "    </tr>\n",
              "    <tr>\n",
              "      <th>20216096</th>\n",
              "      <td>1448</td>\n",
              "      <td>0</td>\n",
              "      <td>2016-12-31 20:00:00</td>\n",
              "      <td>2.700</td>\n",
              "      <td>15</td>\n",
              "      <td>Office</td>\n",
              "      <td>92271</td>\n",
              "      <td>2.800781</td>\n",
              "      <td>2.0</td>\n",
              "      <td>-8.898438</td>\n",
              "      <td>-1.0</td>\n",
              "      <td>1007.5</td>\n",
              "      <td>180.0</td>\n",
              "      <td>7.699219</td>\n",
              "      <td>31</td>\n",
              "      <td>20</td>\n",
              "      <td>12</td>\n",
              "      <td>0</td>\n",
              "      <td>1</td>\n",
              "    </tr>\n",
              "    <tr>\n",
              "      <th>20216097</th>\n",
              "      <td>1448</td>\n",
              "      <td>0</td>\n",
              "      <td>2016-12-31 21:00:00</td>\n",
              "      <td>3.050</td>\n",
              "      <td>15</td>\n",
              "      <td>Office</td>\n",
              "      <td>92271</td>\n",
              "      <td>2.800781</td>\n",
              "      <td>2.0</td>\n",
              "      <td>-7.199219</td>\n",
              "      <td>-1.0</td>\n",
              "      <td>1007.5</td>\n",
              "      <td>180.0</td>\n",
              "      <td>5.101562</td>\n",
              "      <td>31</td>\n",
              "      <td>21</td>\n",
              "      <td>12</td>\n",
              "      <td>0</td>\n",
              "      <td>1</td>\n",
              "    </tr>\n",
              "    <tr>\n",
              "      <th>20216098</th>\n",
              "      <td>1448</td>\n",
              "      <td>0</td>\n",
              "      <td>2016-12-31 22:00:00</td>\n",
              "      <td>3.125</td>\n",
              "      <td>15</td>\n",
              "      <td>Office</td>\n",
              "      <td>92271</td>\n",
              "      <td>2.199219</td>\n",
              "      <td>2.0</td>\n",
              "      <td>-6.699219</td>\n",
              "      <td>-1.0</td>\n",
              "      <td>1008.0</td>\n",
              "      <td>170.0</td>\n",
              "      <td>4.601562</td>\n",
              "      <td>31</td>\n",
              "      <td>22</td>\n",
              "      <td>12</td>\n",
              "      <td>0</td>\n",
              "      <td>1</td>\n",
              "    </tr>\n",
              "    <tr>\n",
              "      <th>20216099</th>\n",
              "      <td>1448</td>\n",
              "      <td>0</td>\n",
              "      <td>2016-12-31 23:00:00</td>\n",
              "      <td>2.850</td>\n",
              "      <td>15</td>\n",
              "      <td>Office</td>\n",
              "      <td>92271</td>\n",
              "      <td>1.700195</td>\n",
              "      <td>2.0</td>\n",
              "      <td>-5.601562</td>\n",
              "      <td>-1.0</td>\n",
              "      <td>1008.5</td>\n",
              "      <td>180.0</td>\n",
              "      <td>8.796875</td>\n",
              "      <td>31</td>\n",
              "      <td>23</td>\n",
              "      <td>12</td>\n",
              "      <td>0</td>\n",
              "      <td>1</td>\n",
              "    </tr>\n",
              "  </tbody>\n",
              "</table>\n",
              "<p>20216100 rows × 19 columns</p>\n",
              "</div>"
            ],
            "text/plain": [
              "          building_id  meter  ... day_of_year  is_weekend\n",
              "0                   0      0  ...           0           0\n",
              "1                   0      0  ...           0           0\n",
              "2                   0      0  ...           0           0\n",
              "3                   0      0  ...           0           0\n",
              "4                   0      0  ...           0           0\n",
              "...               ...    ...  ...         ...         ...\n",
              "20216095         1448      0  ...           0           1\n",
              "20216096         1448      0  ...           0           1\n",
              "20216097         1448      0  ...           0           1\n",
              "20216098         1448      0  ...           0           1\n",
              "20216099         1448      0  ...           0           1\n",
              "\n",
              "[20216100 rows x 19 columns]"
            ]
          },
          "metadata": {
            "tags": []
          },
          "execution_count": 64
        }
      ]
    },
    {
      "cell_type": "markdown",
      "metadata": {
        "id": "0donit_iCpVV"
      },
      "source": [
        "## Extract hour, day, month, year from timestamp"
      ]
    },
    {
      "cell_type": "code",
      "metadata": {
        "trusted": true,
        "id": "CzuW3NTOCpVW"
      },
      "source": [
        "\n",
        "#bucketing hours into 6 buckets\n",
        "train_m[\"part_of_day\"] = (train_m[\"hour\"] %24 +4 ) //4\n"
      ],
      "execution_count": null,
      "outputs": []
    },
    {
      "cell_type": "code",
      "metadata": {
        "colab": {
          "base_uri": "https://localhost:8080/"
        },
        "id": "kxF-BC1-fxGf",
        "outputId": "8b086a51-04a0-476b-e41c-8405a0f482c9"
      },
      "source": [
        "train_m = reduce_mem_usage(train_m)"
      ],
      "execution_count": null,
      "outputs": [
        {
          "output_type": "stream",
          "text": [
            "Mem. usage decreased to 944.70 Mb (45.6% reduction)\n"
          ],
          "name": "stdout"
        }
      ]
    },
    {
      "cell_type": "code",
      "metadata": {
        "id": "-Kqiu_TBf2F1"
      },
      "source": [
        "train_m[train_m[\"air_temperature\"].isnull()].head(30)"
      ],
      "execution_count": null,
      "outputs": []
    },
    {
      "cell_type": "code",
      "metadata": {
        "id": "b970GhU5xU9x"
      },
      "source": [
        "\n",
        "\n",
        "fill_lib = round(train_m.groupby([\"building_id\",\"day\"])[\"cloud_coverage\"].transform(\"mean\") )\n",
        "train_m[\"cloud_coverage\"].fillna(fill_lib, inplace=True)\n",
        "\n",
        "missing_cols = [col for col in train_m.columns if train_m[col].isna().any()  and col!=   \"cloud_coverage\"]\n",
        "fill_lib = train_m.groupby([\"building_id\",\"day\"])[missing_cols].transform(\"mean\") \n",
        "train_m.fillna(fill_lib, inplace=True)"
      ],
      "execution_count": null,
      "outputs": []
    },
    {
      "cell_type": "code",
      "metadata": {
        "id": "lAKfbmlwXY_2"
      },
      "source": [
        "del fill_lib"
      ],
      "execution_count": null,
      "outputs": []
    },
    {
      "cell_type": "code",
      "metadata": {
        "id": "DbGpsZ7ba286"
      },
      "source": [
        "train_m.isnull().sum()/train_m.shape[0]*100"
      ],
      "execution_count": null,
      "outputs": []
    },
    {
      "cell_type": "markdown",
      "metadata": {
        "id": "2gwixQbHgCSC"
      },
      "source": [
        "WOHHHHHOOOOOOO!! BYE BYE NULLLLSSSS"
      ]
    },
    {
      "cell_type": "code",
      "metadata": {
        "id": "f4TKCFlLtNoj"
      },
      "source": [
        ""
      ],
      "execution_count": null,
      "outputs": []
    },
    {
      "cell_type": "code",
      "metadata": {
        "trusted": true,
        "id": "dTW5aftcCpVS"
      },
      "source": [
        "# # train.columns(include = \"float64\")\n",
        "# train_float = train.select_dtypes(include = \"float64\")\n",
        "# #train_float.columns.tolist()"
      ],
      "execution_count": null,
      "outputs": []
    },
    {
      "cell_type": "code",
      "metadata": {
        "trusted": true,
        "id": "F7hXVBC6CpVT"
      },
      "source": [
        "train.info()"
      ],
      "execution_count": null,
      "outputs": []
    },
    {
      "cell_type": "code",
      "metadata": {
        "trusted": true,
        "id": "rzh_Gy8rCpVU"
      },
      "source": [
        "# float_cols = ['square_feet', 'air_temperature',\n",
        "#               'dew_temperature', 'precip_depth_1_hr',\n",
        "#               'sea_level_pressure', 'wind_direction', 'wind_speed',\n",
        "#               'meter_reading']\n",
        "\n",
        "# int_cols = ['building_id', 'meter', 'site_id', 'square_feet']\n",
        "\n",
        "# for column in float_cols:\n",
        "#     train_m[column] = pd.to_numeric(train_m[column], downcast = 'float')\n",
        "\n",
        "# for column in int_cols:\n",
        "#     train_m[column] = pd.to_numeric(train_m[column], downcast = 'integer')"
      ],
      "execution_count": null,
      "outputs": []
    },
    {
      "cell_type": "code",
      "metadata": {
        "trusted": true,
        "id": "WXwgRswHCpVU"
      },
      "source": [
        "# train"
      ],
      "execution_count": null,
      "outputs": []
    },
    {
      "cell_type": "code",
      "metadata": {
        "trusted": true,
        "id": "WGm2oJEXCpVU"
      },
      "source": [
        "# "
      ],
      "execution_count": null,
      "outputs": []
    },
    {
      "cell_type": "code",
      "metadata": {
        "trusted": true,
        "id": "zGTUCX6zCpVV"
      },
      "source": [
        "# train_m[\"year\"].value_counts()"
      ],
      "execution_count": null,
      "outputs": []
    },
    {
      "cell_type": "code",
      "metadata": {
        "trusted": true,
        "id": "3ktzbyf8CpVW"
      },
      "source": [
        "# train_m[\"part_of_day\"].replace({1: \"Late Night\",\n",
        "#                                2: \"Early Morning\", \n",
        "#                                3: \"Morning\", \n",
        "#                                4: \"Noon\", \n",
        "#                                5: \"Evening\", \n",
        "#                                6: \"Night\"}, inplace = True)"
      ],
      "execution_count": null,
      "outputs": []
    },
    {
      "cell_type": "code",
      "metadata": {
        "trusted": true,
        "id": "a4Ax3qjkCpVX"
      },
      "source": [
        "# train_m.drop(\"year\", axis=1, inplace=True)"
      ],
      "execution_count": null,
      "outputs": []
    },
    {
      "cell_type": "code",
      "metadata": {
        "trusted": true,
        "id": "rejyskyoCpVX"
      },
      "source": [
        "train_m.reset_index(drop=True)"
      ],
      "execution_count": null,
      "outputs": []
    },
    {
      "cell_type": "markdown",
      "metadata": {
        "id": "9NfIwVOCaNcU"
      },
      "source": [
        "#Zero readings\n"
      ]
    },
    {
      "cell_type": "code",
      "metadata": {
        "id": "LIEaKKdUaPzs",
        "colab": {
          "base_uri": "https://localhost:8080/"
        },
        "outputId": "f874c5c4-8282-4f4a-e1a8-2c215eb56d2e"
      },
      "source": [
        "zeros = train_m[train_m[\"meter_reading\"] == 0].shape[0] / train_m.shape[0]\n",
        "print(\"zero reading percentage:{}\".format(round(zeros, 3)))"
      ],
      "execution_count": null,
      "outputs": [
        {
          "output_type": "stream",
          "text": [
            "zero reading percentage:0.093\n"
          ],
          "name": "stdout"
        }
      ]
    },
    {
      "cell_type": "markdown",
      "metadata": {
        "id": "CexkXbooaXt4"
      },
      "source": [
        "9% of the reading value is zero.We have the information that some buildings have more than one meter type and we can consider as usage of seasonal energy meters may cause zeros. For example,we don't need to use chilled water at cold days.Likewise,hotwater usage can be change time to time.\n",
        "But let's dive deeper to understand if this is a normal behavior or not!"
      ]
    },
    {
      "cell_type": "code",
      "metadata": {
        "id": "cqclyPerzaCB"
      },
      "source": [
        "import seaborn as sns \n",
        "import matplotlib.pyplot as plt\n",
        "meter_dict = {}\n",
        "for i in metre[\"meter\"].unique():\n",
        "    percent = round(metre[metre['meter_reading']== 0][\"meter\"].value_counts()[i] /metre[\"meter\"].value_counts()[i],2)\n",
        "    meter_dict[i] = percent\n",
        "zero_meter = pd.Series(meter_dict)\n",
        "sns.barplot(x=zero_meter.index, y= zero_meter,palette =\"Set2\")\n",
        "plt.title(\"Meters percentage having zero readings\")"
      ],
      "execution_count": null,
      "outputs": []
    },
    {
      "cell_type": "markdown",
      "metadata": {
        "id": "ZjxTs6Q6CpVX"
      },
      "source": [
        "# Per stie 0's plot by mariam\n",
        "\n",
        "Site 0 had zero meter reading until March 2016. It could be that the site did not come into use until the time. This means that we might need to discard the zeros when training our models. The same may be true to Site 15, where between Feburary and March there is zero meter readings for about a month.\n",
        "https://www.kaggle.com/xinchangli/cee-498ds-project-11-eda"
      ]
    },
    {
      "cell_type": "code",
      "metadata": {
        "id": "i-TnZOu16UI8"
      },
      "source": [
        "pd.set_option('display.max_rows', None)"
      ],
      "execution_count": null,
      "outputs": []
    },
    {
      "cell_type": "code",
      "metadata": {
        "id": "pJqHYBMi4r1N",
        "colab": {
          "base_uri": "https://localhost:8080/",
          "height": 617
        },
        "outputId": "6227aa83-4475-43f3-8e64-1f574293762d"
      },
      "source": [
        "train_m[(train_m[\"site_id\"]==0) & (train_m[\"month\"]<= 5)  &(train_m[\"meter\"]==0) & train_m[\"meter_reading\"]!=0  ]"
      ],
      "execution_count": null,
      "outputs": [
        {
          "output_type": "execute_result",
          "data": {
            "text/html": [
              "<div>\n",
              "<style scoped>\n",
              "    .dataframe tbody tr th:only-of-type {\n",
              "        vertical-align: middle;\n",
              "    }\n",
              "\n",
              "    .dataframe tbody tr th {\n",
              "        vertical-align: top;\n",
              "    }\n",
              "\n",
              "    .dataframe thead th {\n",
              "        text-align: right;\n",
              "    }\n",
              "</style>\n",
              "<table border=\"1\" class=\"dataframe\">\n",
              "  <thead>\n",
              "    <tr style=\"text-align: right;\">\n",
              "      <th></th>\n",
              "      <th>building_id</th>\n",
              "      <th>meter</th>\n",
              "      <th>timestamp</th>\n",
              "      <th>meter_reading</th>\n",
              "      <th>site_id</th>\n",
              "      <th>primary_use</th>\n",
              "      <th>square_feet</th>\n",
              "      <th>air_temperature</th>\n",
              "      <th>cloud_coverage</th>\n",
              "      <th>dew_temperature</th>\n",
              "      <th>precip_depth_1_hr</th>\n",
              "      <th>sea_level_pressure</th>\n",
              "      <th>wind_direction</th>\n",
              "      <th>wind_speed</th>\n",
              "      <th>day</th>\n",
              "      <th>hour</th>\n",
              "      <th>month</th>\n",
              "      <th>day_of_year</th>\n",
              "      <th>is_weekend</th>\n",
              "      <th>part_of_day</th>\n",
              "    </tr>\n",
              "  </thead>\n",
              "  <tbody>\n",
              "    <tr>\n",
              "      <th>704</th>\n",
              "      <td>0</td>\n",
              "      <td>0</td>\n",
              "      <td>2016-01-30 08:00:00</td>\n",
              "      <td>43.683899</td>\n",
              "      <td>0</td>\n",
              "      <td>Education</td>\n",
              "      <td>7432</td>\n",
              "      <td>8.296875</td>\n",
              "      <td>8.0</td>\n",
              "      <td>6.101562</td>\n",
              "      <td>0.0</td>\n",
              "      <td>1019.0</td>\n",
              "      <td>220.0</td>\n",
              "      <td>2.099609</td>\n",
              "      <td>30</td>\n",
              "      <td>8</td>\n",
              "      <td>1</td>\n",
              "      <td>29</td>\n",
              "      <td>1</td>\n",
              "      <td>3</td>\n",
              "    </tr>\n",
              "    <tr>\n",
              "      <th>725</th>\n",
              "      <td>0</td>\n",
              "      <td>0</td>\n",
              "      <td>2016-01-31 05:00:00</td>\n",
              "      <td>37.540798</td>\n",
              "      <td>0</td>\n",
              "      <td>Education</td>\n",
              "      <td>7432</td>\n",
              "      <td>12.796875</td>\n",
              "      <td>8.0</td>\n",
              "      <td>10.000000</td>\n",
              "      <td>0.0</td>\n",
              "      <td>1022.0</td>\n",
              "      <td>0.0</td>\n",
              "      <td>0.000000</td>\n",
              "      <td>31</td>\n",
              "      <td>5</td>\n",
              "      <td>1</td>\n",
              "      <td>30</td>\n",
              "      <td>1</td>\n",
              "      <td>2</td>\n",
              "    </tr>\n",
              "    <tr>\n",
              "      <th>737</th>\n",
              "      <td>0</td>\n",
              "      <td>0</td>\n",
              "      <td>2016-01-31 17:00:00</td>\n",
              "      <td>52.557098</td>\n",
              "      <td>0</td>\n",
              "      <td>Education</td>\n",
              "      <td>7432</td>\n",
              "      <td>20.593750</td>\n",
              "      <td>8.0</td>\n",
              "      <td>11.703125</td>\n",
              "      <td>0.0</td>\n",
              "      <td>1021.0</td>\n",
              "      <td>110.0</td>\n",
              "      <td>1.500000</td>\n",
              "      <td>31</td>\n",
              "      <td>17</td>\n",
              "      <td>1</td>\n",
              "      <td>30</td>\n",
              "      <td>1</td>\n",
              "      <td>5</td>\n",
              "    </tr>\n",
              "    <tr>\n",
              "      <th>2366</th>\n",
              "      <td>0</td>\n",
              "      <td>0</td>\n",
              "      <td>2016-04-08 14:00:00</td>\n",
              "      <td>59.382702</td>\n",
              "      <td>0</td>\n",
              "      <td>Education</td>\n",
              "      <td>7432</td>\n",
              "      <td>21.703125</td>\n",
              "      <td>2.0</td>\n",
              "      <td>14.398438</td>\n",
              "      <td>0.0</td>\n",
              "      <td>1015.0</td>\n",
              "      <td>250.0</td>\n",
              "      <td>3.099609</td>\n",
              "      <td>8</td>\n",
              "      <td>14</td>\n",
              "      <td>4</td>\n",
              "      <td>98</td>\n",
              "      <td>0</td>\n",
              "      <td>4</td>\n",
              "    </tr>\n",
              "    <tr>\n",
              "      <th>2923</th>\n",
              "      <td>0</td>\n",
              "      <td>0</td>\n",
              "      <td>2016-05-01 19:00:00</td>\n",
              "      <td>448.000000</td>\n",
              "      <td>0</td>\n",
              "      <td>Education</td>\n",
              "      <td>7432</td>\n",
              "      <td>31.093750</td>\n",
              "      <td>6.0</td>\n",
              "      <td>17.203125</td>\n",
              "      <td>0.0</td>\n",
              "      <td>1016.0</td>\n",
              "      <td>100.0</td>\n",
              "      <td>4.101562</td>\n",
              "      <td>1</td>\n",
              "      <td>19</td>\n",
              "      <td>5</td>\n",
              "      <td>121</td>\n",
              "      <td>1</td>\n",
              "      <td>5</td>\n",
              "    </tr>\n",
              "    <tr>\n",
              "      <th>...</th>\n",
              "      <td>...</td>\n",
              "      <td>...</td>\n",
              "      <td>...</td>\n",
              "      <td>...</td>\n",
              "      <td>...</td>\n",
              "      <td>...</td>\n",
              "      <td>...</td>\n",
              "      <td>...</td>\n",
              "      <td>...</td>\n",
              "      <td>...</td>\n",
              "      <td>...</td>\n",
              "      <td>...</td>\n",
              "      <td>...</td>\n",
              "      <td>...</td>\n",
              "      <td>...</td>\n",
              "      <td>...</td>\n",
              "      <td>...</td>\n",
              "      <td>...</td>\n",
              "      <td>...</td>\n",
              "      <td>...</td>\n",
              "    </tr>\n",
              "    <tr>\n",
              "      <th>1071521</th>\n",
              "      <td>104</td>\n",
              "      <td>0</td>\n",
              "      <td>2016-05-31 19:00:00</td>\n",
              "      <td>379.502991</td>\n",
              "      <td>0</td>\n",
              "      <td>Office</td>\n",
              "      <td>45330</td>\n",
              "      <td>32.187500</td>\n",
              "      <td>4.0</td>\n",
              "      <td>18.296875</td>\n",
              "      <td>0.0</td>\n",
              "      <td>1013.0</td>\n",
              "      <td>300.0</td>\n",
              "      <td>2.099609</td>\n",
              "      <td>31</td>\n",
              "      <td>19</td>\n",
              "      <td>5</td>\n",
              "      <td>151</td>\n",
              "      <td>0</td>\n",
              "      <td>5</td>\n",
              "    </tr>\n",
              "    <tr>\n",
              "      <th>1071522</th>\n",
              "      <td>104</td>\n",
              "      <td>0</td>\n",
              "      <td>2016-05-31 20:00:00</td>\n",
              "      <td>366.535004</td>\n",
              "      <td>0</td>\n",
              "      <td>Office</td>\n",
              "      <td>45330</td>\n",
              "      <td>33.906250</td>\n",
              "      <td>4.0</td>\n",
              "      <td>17.796875</td>\n",
              "      <td>0.0</td>\n",
              "      <td>1012.5</td>\n",
              "      <td>300.0</td>\n",
              "      <td>1.500000</td>\n",
              "      <td>31</td>\n",
              "      <td>20</td>\n",
              "      <td>5</td>\n",
              "      <td>151</td>\n",
              "      <td>0</td>\n",
              "      <td>6</td>\n",
              "    </tr>\n",
              "    <tr>\n",
              "      <th>1071523</th>\n",
              "      <td>104</td>\n",
              "      <td>0</td>\n",
              "      <td>2016-05-31 21:00:00</td>\n",
              "      <td>368.240997</td>\n",
              "      <td>0</td>\n",
              "      <td>Office</td>\n",
              "      <td>45330</td>\n",
              "      <td>32.812500</td>\n",
              "      <td>4.0</td>\n",
              "      <td>17.796875</td>\n",
              "      <td>0.0</td>\n",
              "      <td>1011.5</td>\n",
              "      <td>210.0</td>\n",
              "      <td>2.599609</td>\n",
              "      <td>31</td>\n",
              "      <td>21</td>\n",
              "      <td>5</td>\n",
              "      <td>151</td>\n",
              "      <td>0</td>\n",
              "      <td>6</td>\n",
              "    </tr>\n",
              "    <tr>\n",
              "      <th>1071524</th>\n",
              "      <td>104</td>\n",
              "      <td>0</td>\n",
              "      <td>2016-05-31 22:00:00</td>\n",
              "      <td>367.899994</td>\n",
              "      <td>0</td>\n",
              "      <td>Office</td>\n",
              "      <td>45330</td>\n",
              "      <td>31.703125</td>\n",
              "      <td>4.0</td>\n",
              "      <td>17.203125</td>\n",
              "      <td>0.0</td>\n",
              "      <td>1012.0</td>\n",
              "      <td>160.0</td>\n",
              "      <td>2.599609</td>\n",
              "      <td>31</td>\n",
              "      <td>22</td>\n",
              "      <td>5</td>\n",
              "      <td>151</td>\n",
              "      <td>0</td>\n",
              "      <td>6</td>\n",
              "    </tr>\n",
              "    <tr>\n",
              "      <th>1071525</th>\n",
              "      <td>104</td>\n",
              "      <td>0</td>\n",
              "      <td>2016-05-31 23:00:00</td>\n",
              "      <td>395.885010</td>\n",
              "      <td>0</td>\n",
              "      <td>Office</td>\n",
              "      <td>45330</td>\n",
              "      <td>29.406250</td>\n",
              "      <td>4.0</td>\n",
              "      <td>20.593750</td>\n",
              "      <td>0.0</td>\n",
              "      <td>1011.5</td>\n",
              "      <td>120.0</td>\n",
              "      <td>5.699219</td>\n",
              "      <td>31</td>\n",
              "      <td>23</td>\n",
              "      <td>5</td>\n",
              "      <td>151</td>\n",
              "      <td>0</td>\n",
              "      <td>6</td>\n",
              "    </tr>\n",
              "  </tbody>\n",
              "</table>\n",
              "<p>30634 rows × 20 columns</p>\n",
              "</div>"
            ],
            "text/plain": [
              "         building_id  meter  ... is_weekend  part_of_day\n",
              "704                0      0  ...          1            3\n",
              "725                0      0  ...          1            2\n",
              "737                0      0  ...          1            5\n",
              "2366               0      0  ...          0            4\n",
              "2923               0      0  ...          1            5\n",
              "...              ...    ...  ...        ...          ...\n",
              "1071521          104      0  ...          0            5\n",
              "1071522          104      0  ...          0            6\n",
              "1071523          104      0  ...          0            6\n",
              "1071524          104      0  ...          0            6\n",
              "1071525          104      0  ...          0            6\n",
              "\n",
              "[30634 rows x 20 columns]"
            ]
          },
          "metadata": {
            "tags": []
          },
          "execution_count": 70
        }
      ]
    },
    {
      "cell_type": "markdown",
      "metadata": {
        "id": "qsgCakvG76OW"
      },
      "source": [
        "### All electricity meter is 0 until May 20 for site_id == 0. I will remove these data from training data. We can also note that non zero  values for electricity meter is distributed over records(not contigous) per building, this could indicate that the electricity meter wasn't functioning properly during these 3 months;fluctuating between 0 and any other number is NOT  a normal behavior. \n",
        "\n",
        "https://www.kaggle.com/zeynepkurban/ashrae-great-energy-predictor-iii"
      ]
    },
    {
      "cell_type": "code",
      "metadata": {
        "trusted": true,
        "id": "t-5w3tiwCpVX"
      },
      "source": [
        "train_m.drop(train_m[(train_m[\"site_id\"]==0) & (train_m[\"timestamp\"]< \"2016-05-20 00:00:00\")  &(train_m[\"meter\"]==0) ].index, inplace=True)"
      ],
      "execution_count": null,
      "outputs": []
    },
    {
      "cell_type": "code",
      "metadata": {
        "id": "IQPIUSf7Mub1"
      },
      "source": [
        ""
      ],
      "execution_count": null,
      "outputs": []
    },
    {
      "cell_type": "code",
      "metadata": {
        "id": "NTLzAIU-NacU"
      },
      "source": [
        "a"
      ],
      "execution_count": null,
      "outputs": []
    },
    {
      "cell_type": "code",
      "metadata": {
        "id": "q0rjFr9fNwWz"
      },
      "source": [
        "import  pickle\n",
        "# #we need to temporarily remove the train_m datset from memory here so we do not run out of memory\n",
        "pickle.dump( train_m, open( \"train_m.p\", \"wb\" ) )\n",
        "del train_m\n",
        "\n",
        "\n",
        "train_m = pickle.load( open('train_m.p', 'rb')) #load back in the train data"
      ],
      "execution_count": null,
      "outputs": []
    },
    {
      "cell_type": "code",
      "metadata": {
        "trusted": true,
        "id": "Wp8-D7ExCpVY"
      },
      "source": [
        "train_m.shape"
      ],
      "execution_count": null,
      "outputs": []
    },
    {
      "cell_type": "code",
      "metadata": {
        "id": "Q-gdvSLcVlnO"
      },
      "source": [
        "train_m[(train_m[\"site_id\"]==0) &(train_m[\"meter\"]==0) ]"
      ],
      "execution_count": null,
      "outputs": []
    },
    {
      "cell_type": "markdown",
      "metadata": {
        "id": "cj3HmOgECpVY"
      },
      "source": [
        "# Visualize target variable"
      ]
    },
    {
      "cell_type": "code",
      "metadata": {
        "trusted": true,
        "id": "_D2gHmfYCpVY"
      },
      "source": [
        "import matplotlib.pyplot as plt\n",
        "n, bins, batches  = plt.hist(x= train_m[\"meter_reading\"], bins=\"auto\", color = '#0504aa')\n",
        "plt.grid(axis =\"y\")\n",
        "plt.xlabel(\"meter_reading\")\n",
        "plt.ylabel(\"count\")\n",
        "plt.title(\"Sale Price distribution\")"
      ],
      "execution_count": null,
      "outputs": []
    },
    {
      "cell_type": "markdown",
      "metadata": {
        "id": "5SQsQGBiCpVY"
      },
      "source": [
        "__3 years later__"
      ]
    },
    {
      "cell_type": "markdown",
      "metadata": {
        "id": "7yxIYcEkCpVZ"
      },
      "source": [
        "the target variable is skewed>> __take log__\n",
        "BUT do we need to take log when using RMSLE????"
      ]
    },
    {
      "cell_type": "markdown",
      "metadata": {
        "id": "ztKMR21ECpVZ"
      },
      "source": [
        "# Convert units"
      ]
    },
    {
      "cell_type": "code",
      "metadata": {
        "id": "7ieWjdfuAxon"
      },
      "source": [
        "a"
      ],
      "execution_count": null,
      "outputs": []
    },
    {
      "cell_type": "code",
      "metadata": {
        "trusted": true,
        "id": "J8QUobuQCpVZ"
      },
      "source": [
        "#do't goi there\n",
        "train_m['meter_reading']=train_m[['site_id','meter','meter_reading']].apply(\n",
        "    lambda x: x['meter_reading']*0.2931 \n",
        "    if x['meter']==0 and x['site_id']==0 \n",
        "    else x['meter_reading'], axis=1)"
      ],
      "execution_count": null,
      "outputs": []
    },
    {
      "cell_type": "code",
      "metadata": {
        "id": "suCGTw5oHagk"
      },
      "source": [
        "import  pickle\n",
        "# #we need to temporarily remove the train_m datset from memory here so we do not run out of memory\n",
        "pickle.dump( train_m, open( \"train_m_prepro.p\", \"wb\" ) )\n",
        "del train_m\n",
        "\n",
        "\n",
        "train_m = pickle.load( open('train_m_prepro.p', 'rb'))"
      ],
      "execution_count": null,
      "outputs": []
    },
    {
      "cell_type": "code",
      "metadata": {
        "id": "UHTk5RggKk53"
      },
      "source": [
        "import  pickle\n",
        "# #we need to temporarily remove the train_m datset from memory here so we do not run out of memory\n",
        "pickle.dump( train_m, open( \"train_m_prepro.p\", \"wb\" ) )"
      ],
      "execution_count": null,
      "outputs": []
    },
    {
      "cell_type": "code",
      "metadata": {
        "id": "YH4EKebMGvKF"
      },
      "source": [
        "# train_m[(train_m.meter==0) & (train_m.site_id ==0)][\"meter_reading\"]= train_m[(train_m.meter==0) & (train_m.site_id ==0)].apply(\n",
        "#     lambda x: x['meter_reading']*0.2931 \n",
        "#    )"
      ],
      "execution_count": null,
      "outputs": []
    },
    {
      "cell_type": "code",
      "metadata": {
        "trusted": true,
        "id": "9Lvs5wAYCpVZ"
      },
      "source": [
        "# train_m[(train_m ==0 ) &(train_m['site_id']==0)]"
      ],
      "execution_count": null,
      "outputs": []
    },
    {
      "cell_type": "markdown",
      "metadata": {
        "id": "5mecKta7CpVa"
      },
      "source": [
        "# outliers?"
      ]
    },
    {
      "cell_type": "markdown",
      "metadata": {
        "id": "lede-ONK69Td"
      },
      "source": [
        "\n",
        "\n",
        "Although we are to predict the load profile, let's take a look at the total energy use (sum of all meter readings for each building), and its correlations with other features from bldg_meta, to see if it may guide our feature selections for model training.\n"
      ]
    },
    {
      "cell_type": "code",
      "metadata": {
        "id": "duywuhcd68mz"
      },
      "source": [
        "\n",
        "tot_meter_per_bldng = train_m[[\"building_id\", \"meter_reading\"]].groupby(\"building_id\").sum()\n",
        "tot_meter_per_bldng = train_m.merge(tot_meter_per_bldng, on=\"building_id\")\n",
        "tot_meter_per_bldng.head(10)"
      ],
      "execution_count": null,
      "outputs": []
    },
    {
      "cell_type": "code",
      "metadata": {
        "id": "XJ11vb4q9hZJ"
      },
      "source": [
        "a"
      ],
      "execution_count": null,
      "outputs": []
    },
    {
      "cell_type": "code",
      "metadata": {
        "id": "_XRx2W3w4Mrv"
      },
      "source": [
        "import matplotlib.pyplot as plt\n",
        "# Make the plot.\n",
        "\n",
        "plt.ticklabel_format(style = 'plain')\n",
        "tot_meter_per_bldng.meter_reading_y.plot(logy=True, style='.', \n",
        "                                         title= \"Sum of meter readings per building in the training set\", \n",
        "                                         xlabel = 'building_id',\n",
        "                                         ylabel= 'total meter reading',\n",
        "                                         figsize = (10,5)\n",
        "                                          )\n",
        "plt.show()"
      ],
      "execution_count": null,
      "outputs": []
    },
    {
      "cell_type": "markdown",
      "metadata": {
        "id": "2fwv0EMXCwSv"
      },
      "source": [
        "\n",
        "\n",
        "We notice that most buildings have a total meter reading between 104\n",
        "to 108, but the minimum and maximum are rather far away from the rest. We will extract their building ID and note them down.\n",
        "\n",
        "\n",
        "\n",
        "It is clear that both of these buildings do not conform to the average Education load profiles.Building 740  has near-zero, perfectly flat energy use throughout the year, which doesn't   make  sense(Both are education buildings.). We will therefore drop these two buildings \n"
      ]
    },
    {
      "cell_type": "code",
      "metadata": {
        "id": "WsQodiLGC2Hw"
      },
      "source": [
        "\n",
        "min_id   = tot_meter_per_bldng.meter_reading_y.sort_values(ascending=True).index[0]\n",
        "max_id = tot_meter_per_bldng.meter_reading_y.sort_values(ascending=True).index[-1]\n",
        "tot_meter_per_bldng[(tot_meter_per_bldng.index==min_id) | (tot_meter_per_bldng.index ==max_id)]"
      ],
      "execution_count": null,
      "outputs": []
    },
    {
      "cell_type": "code",
      "metadata": {
        "id": "JZT3tWw_N1vP"
      },
      "source": [
        "train_m.shape"
      ],
      "execution_count": null,
      "outputs": []
    },
    {
      "cell_type": "code",
      "metadata": {
        "id": "pV9X9TFcFZkw"
      },
      "source": [
        "#RUN THIS ONLY\n",
        "#train_m.drop(train_m[(train_m[\"site_id\"]==0) & (train_m[\"timestamp\"]< \"2016-05-20 00:00:00\")  &(train_m[\"meter\"]==0) ].index, inplace=True)\n",
        "\n",
        "train_m.drop(train_m[(train_m[\"building_id\"]==740)|(train_m[\"building_id\"]==1099)].index, axis=0,inplace=True)"
      ],
      "execution_count": null,
      "outputs": []
    },
    {
      "cell_type": "code",
      "metadata": {
        "colab": {
          "base_uri": "https://localhost:8080/"
        },
        "id": "8eQ0Ti8hGce8",
        "outputId": "770ba36a-5ef1-445e-aed0-52614989fbda"
      },
      "source": [
        "train_m.shape"
      ],
      "execution_count": null,
      "outputs": [
        {
          "output_type": "execute_result",
          "data": {
            "text/plain": [
              "(19843638, 20)"
            ]
          },
          "metadata": {
            "tags": []
          },
          "execution_count": 74
        }
      ]
    },
    {
      "cell_type": "code",
      "metadata": {
        "id": "uG8LUC218j9T",
        "colab": {
          "base_uri": "https://localhost:8080/"
        },
        "outputId": "0fe0ff6c-718f-4f51-8b1d-cbfc0e416e2c"
      },
      "source": [
        "from google.colab import drive\n",
        "drive.mount(\"/content/colab/\")"
      ],
      "execution_count": null,
      "outputs": [
        {
          "output_type": "stream",
          "text": [
            "Mounted at /content/colab/\n"
          ],
          "name": "stdout"
        }
      ]
    },
    {
      "cell_type": "code",
      "metadata": {
        "colab": {
          "base_uri": "https://localhost:8080/"
        },
        "id": "8Ii4K53JzdA6",
        "outputId": "04fae2aa-2aad-48eb-fc91-7874bc5bd8a8"
      },
      "source": [
        "!ls \"colab/MyDrive/ML_Project\"\n"
      ],
      "execution_count": null,
      "outputs": [
        {
          "output_type": "stream",
          "text": [
            "train_m_preprocessed.p\n"
          ],
          "name": "stdout"
        }
      ]
    },
    {
      "cell_type": "markdown",
      "metadata": {
        "id": "iAHKnbEtHRYb"
      },
      "source": [
        "# Preparing    data for  ML models"
      ]
    },
    {
      "cell_type": "code",
      "metadata": {
        "id": "m40ZcXkwc2a_"
      },
      "source": [
        "import pickle\n",
        "#y  = np.log1p(train_m['meter_reading'])\n",
        "train_m = pickle.load( open('colab/MyDrive/ML_Project/train_m_preprocessed.p', 'rb')) #load back in the train data\n"
      ],
      "execution_count": null,
      "outputs": []
    },
    {
      "cell_type": "code",
      "metadata": {
        "id": "fMrK7-u51G6C"
      },
      "source": [
        "import numpy as np\n",
        "y  = np.log1p(train_m['meter_reading'])"
      ],
      "execution_count": null,
      "outputs": []
    },
    {
      "cell_type": "code",
      "metadata": {
        "colab": {
          "base_uri": "https://localhost:8080/",
          "height": 313
        },
        "id": "C9vVSpIb0AiG",
        "outputId": "f5d5e398-5c97-4ee1-8151-c59f061b77cc"
      },
      "source": [
        "train_m.head()"
      ],
      "execution_count": null,
      "outputs": [
        {
          "output_type": "execute_result",
          "data": {
            "text/html": [
              "<div>\n",
              "<style scoped>\n",
              "    .dataframe tbody tr th:only-of-type {\n",
              "        vertical-align: middle;\n",
              "    }\n",
              "\n",
              "    .dataframe tbody tr th {\n",
              "        vertical-align: top;\n",
              "    }\n",
              "\n",
              "    .dataframe thead th {\n",
              "        text-align: right;\n",
              "    }\n",
              "</style>\n",
              "<table border=\"1\" class=\"dataframe\">\n",
              "  <thead>\n",
              "    <tr style=\"text-align: right;\">\n",
              "      <th></th>\n",
              "      <th>building_id</th>\n",
              "      <th>meter</th>\n",
              "      <th>timestamp</th>\n",
              "      <th>meter_reading</th>\n",
              "      <th>site_id</th>\n",
              "      <th>primary_use</th>\n",
              "      <th>square_feet</th>\n",
              "      <th>air_temperature</th>\n",
              "      <th>cloud_coverage</th>\n",
              "      <th>dew_temperature</th>\n",
              "      <th>precip_depth_1_hr</th>\n",
              "      <th>sea_level_pressure</th>\n",
              "      <th>wind_direction</th>\n",
              "      <th>wind_speed</th>\n",
              "      <th>day</th>\n",
              "      <th>hour</th>\n",
              "      <th>month</th>\n",
              "      <th>day_of_year</th>\n",
              "      <th>is_weekend</th>\n",
              "      <th>part_of_day</th>\n",
              "    </tr>\n",
              "  </thead>\n",
              "  <tbody>\n",
              "    <tr>\n",
              "      <th>3360</th>\n",
              "      <td>0</td>\n",
              "      <td>0</td>\n",
              "      <td>2016-05-20 00:00:00</td>\n",
              "      <td>0.0</td>\n",
              "      <td>0</td>\n",
              "      <td>Education</td>\n",
              "      <td>7432</td>\n",
              "      <td>26.093750</td>\n",
              "      <td>6.0</td>\n",
              "      <td>22.796875</td>\n",
              "      <td>-1.0</td>\n",
              "      <td>1014.5</td>\n",
              "      <td>120.0</td>\n",
              "      <td>2.099609</td>\n",
              "      <td>20</td>\n",
              "      <td>0</td>\n",
              "      <td>5</td>\n",
              "      <td>140</td>\n",
              "      <td>0</td>\n",
              "      <td>1</td>\n",
              "    </tr>\n",
              "    <tr>\n",
              "      <th>3361</th>\n",
              "      <td>0</td>\n",
              "      <td>0</td>\n",
              "      <td>2016-05-20 01:00:00</td>\n",
              "      <td>0.0</td>\n",
              "      <td>0</td>\n",
              "      <td>Education</td>\n",
              "      <td>7432</td>\n",
              "      <td>25.000000</td>\n",
              "      <td>6.0</td>\n",
              "      <td>20.593750</td>\n",
              "      <td>13.0</td>\n",
              "      <td>1016.0</td>\n",
              "      <td>140.0</td>\n",
              "      <td>1.500000</td>\n",
              "      <td>20</td>\n",
              "      <td>1</td>\n",
              "      <td>5</td>\n",
              "      <td>140</td>\n",
              "      <td>0</td>\n",
              "      <td>1</td>\n",
              "    </tr>\n",
              "    <tr>\n",
              "      <th>3362</th>\n",
              "      <td>0</td>\n",
              "      <td>0</td>\n",
              "      <td>2016-05-20 02:00:00</td>\n",
              "      <td>0.0</td>\n",
              "      <td>0</td>\n",
              "      <td>Education</td>\n",
              "      <td>7432</td>\n",
              "      <td>22.796875</td>\n",
              "      <td>6.0</td>\n",
              "      <td>21.093750</td>\n",
              "      <td>0.0</td>\n",
              "      <td>1016.0</td>\n",
              "      <td>160.0</td>\n",
              "      <td>3.099609</td>\n",
              "      <td>20</td>\n",
              "      <td>2</td>\n",
              "      <td>5</td>\n",
              "      <td>140</td>\n",
              "      <td>0</td>\n",
              "      <td>1</td>\n",
              "    </tr>\n",
              "    <tr>\n",
              "      <th>3363</th>\n",
              "      <td>0</td>\n",
              "      <td>0</td>\n",
              "      <td>2016-05-20 03:00:00</td>\n",
              "      <td>0.0</td>\n",
              "      <td>0</td>\n",
              "      <td>Education</td>\n",
              "      <td>7432</td>\n",
              "      <td>22.796875</td>\n",
              "      <td>4.0</td>\n",
              "      <td>21.093750</td>\n",
              "      <td>0.0</td>\n",
              "      <td>1017.5</td>\n",
              "      <td>190.0</td>\n",
              "      <td>3.099609</td>\n",
              "      <td>20</td>\n",
              "      <td>3</td>\n",
              "      <td>5</td>\n",
              "      <td>140</td>\n",
              "      <td>0</td>\n",
              "      <td>1</td>\n",
              "    </tr>\n",
              "    <tr>\n",
              "      <th>3364</th>\n",
              "      <td>0</td>\n",
              "      <td>0</td>\n",
              "      <td>2016-05-20 04:00:00</td>\n",
              "      <td>0.0</td>\n",
              "      <td>0</td>\n",
              "      <td>Education</td>\n",
              "      <td>7432</td>\n",
              "      <td>22.796875</td>\n",
              "      <td>4.0</td>\n",
              "      <td>21.093750</td>\n",
              "      <td>0.0</td>\n",
              "      <td>1018.0</td>\n",
              "      <td>0.0</td>\n",
              "      <td>0.000000</td>\n",
              "      <td>20</td>\n",
              "      <td>4</td>\n",
              "      <td>5</td>\n",
              "      <td>140</td>\n",
              "      <td>0</td>\n",
              "      <td>2</td>\n",
              "    </tr>\n",
              "  </tbody>\n",
              "</table>\n",
              "</div>"
            ],
            "text/plain": [
              "      building_id  meter  ... is_weekend  part_of_day\n",
              "3360            0      0  ...          0            1\n",
              "3361            0      0  ...          0            1\n",
              "3362            0      0  ...          0            1\n",
              "3363            0      0  ...          0            1\n",
              "3364            0      0  ...          0            2\n",
              "\n",
              "[5 rows x 20 columns]"
            ]
          },
          "metadata": {
            "tags": []
          },
          "execution_count": 9
        }
      ]
    },
    {
      "cell_type": "code",
      "metadata": {
        "id": "tGRSdsCwz36i"
      },
      "source": [
        "# #MUST\n",
        "train_m.drop(['building_id', \"meter_reading\", \"timestamp\"], axis=1,inplace=True)"
      ],
      "execution_count": null,
      "outputs": []
    },
    {
      "cell_type": "code",
      "metadata": {
        "id": "iSwa7k5CrrlZ"
      },
      "source": [
        "train_m.drop(['sea_level_pressure'],axis=1,inplace=True)"
      ],
      "execution_count": null,
      "outputs": []
    },
    {
      "cell_type": "code",
      "metadata": {
        "id": "9p_aaO_BaZQl"
      },
      "source": [
        "#train_m.drop(['building_id'],axis=1,inplace=True)"
      ],
      "execution_count": null,
      "outputs": []
    },
    {
      "cell_type": "code",
      "metadata": {
        "id": "QPricgiEScz2"
      },
      "source": [
        "\n",
        "train_m.drop(['cloud_coverage'],axis=1,inplace=True)"
      ],
      "execution_count": null,
      "outputs": []
    },
    {
      "cell_type": "markdown",
      "metadata": {
        "id": "fpbsBQiNbilZ"
      },
      "source": [
        "# 1.Decision  tree regressor"
      ]
    },
    {
      "cell_type": "markdown",
      "metadata": {
        "id": "nzCf7rvcg3tC"
      },
      "source": [
        "Decision tree is a type of supervised learning algorithm that works for both categorical and continuous input and output variables. In this technique, we split the population or sample into two or more homogeneous sets (or sub-populations) based on most significant splitter / differentiator in input variables. Decision trees are easy to understand, require relatively little effort from users for data preparation."
      ]
    },
    {
      "cell_type": "markdown",
      "metadata": {
        "id": "RolVqLz8blyi"
      },
      "source": [
        "required preprocessing: categorical only"
      ]
    },
    {
      "cell_type": "code",
      "metadata": {
        "colab": {
          "base_uri": "https://localhost:8080/",
          "height": 226
        },
        "id": "5etVMBDdclIS",
        "outputId": "1e5bb662-b227-424c-ea16-4c91bfc10e21"
      },
      "source": [
        "train_m.head()"
      ],
      "execution_count": null,
      "outputs": [
        {
          "output_type": "execute_result",
          "data": {
            "text/html": [
              "<div>\n",
              "<style scoped>\n",
              "    .dataframe tbody tr th:only-of-type {\n",
              "        vertical-align: middle;\n",
              "    }\n",
              "\n",
              "    .dataframe tbody tr th {\n",
              "        vertical-align: top;\n",
              "    }\n",
              "\n",
              "    .dataframe thead th {\n",
              "        text-align: right;\n",
              "    }\n",
              "</style>\n",
              "<table border=\"1\" class=\"dataframe\">\n",
              "  <thead>\n",
              "    <tr style=\"text-align: right;\">\n",
              "      <th></th>\n",
              "      <th>building_id</th>\n",
              "      <th>meter</th>\n",
              "      <th>site_id</th>\n",
              "      <th>primary_use</th>\n",
              "      <th>square_feet</th>\n",
              "      <th>air_temperature</th>\n",
              "      <th>cloud_coverage</th>\n",
              "      <th>dew_temperature</th>\n",
              "      <th>precip_depth_1_hr</th>\n",
              "      <th>sea_level_pressure</th>\n",
              "      <th>wind_direction</th>\n",
              "      <th>wind_speed</th>\n",
              "      <th>day</th>\n",
              "      <th>hour</th>\n",
              "      <th>month</th>\n",
              "      <th>day_of_year</th>\n",
              "      <th>is_weekend</th>\n",
              "      <th>part_of_day</th>\n",
              "    </tr>\n",
              "  </thead>\n",
              "  <tbody>\n",
              "    <tr>\n",
              "      <th>3360</th>\n",
              "      <td>0</td>\n",
              "      <td>0</td>\n",
              "      <td>0</td>\n",
              "      <td>Education</td>\n",
              "      <td>7432</td>\n",
              "      <td>26.093750</td>\n",
              "      <td>6.0</td>\n",
              "      <td>22.796875</td>\n",
              "      <td>-1.0</td>\n",
              "      <td>1014.5</td>\n",
              "      <td>120.0</td>\n",
              "      <td>2.099609</td>\n",
              "      <td>20</td>\n",
              "      <td>0</td>\n",
              "      <td>5</td>\n",
              "      <td>140</td>\n",
              "      <td>0</td>\n",
              "      <td>1</td>\n",
              "    </tr>\n",
              "    <tr>\n",
              "      <th>3361</th>\n",
              "      <td>0</td>\n",
              "      <td>0</td>\n",
              "      <td>0</td>\n",
              "      <td>Education</td>\n",
              "      <td>7432</td>\n",
              "      <td>25.000000</td>\n",
              "      <td>6.0</td>\n",
              "      <td>20.593750</td>\n",
              "      <td>13.0</td>\n",
              "      <td>1016.0</td>\n",
              "      <td>140.0</td>\n",
              "      <td>1.500000</td>\n",
              "      <td>20</td>\n",
              "      <td>1</td>\n",
              "      <td>5</td>\n",
              "      <td>140</td>\n",
              "      <td>0</td>\n",
              "      <td>1</td>\n",
              "    </tr>\n",
              "    <tr>\n",
              "      <th>3362</th>\n",
              "      <td>0</td>\n",
              "      <td>0</td>\n",
              "      <td>0</td>\n",
              "      <td>Education</td>\n",
              "      <td>7432</td>\n",
              "      <td>22.796875</td>\n",
              "      <td>6.0</td>\n",
              "      <td>21.093750</td>\n",
              "      <td>0.0</td>\n",
              "      <td>1016.0</td>\n",
              "      <td>160.0</td>\n",
              "      <td>3.099609</td>\n",
              "      <td>20</td>\n",
              "      <td>2</td>\n",
              "      <td>5</td>\n",
              "      <td>140</td>\n",
              "      <td>0</td>\n",
              "      <td>1</td>\n",
              "    </tr>\n",
              "    <tr>\n",
              "      <th>3363</th>\n",
              "      <td>0</td>\n",
              "      <td>0</td>\n",
              "      <td>0</td>\n",
              "      <td>Education</td>\n",
              "      <td>7432</td>\n",
              "      <td>22.796875</td>\n",
              "      <td>4.0</td>\n",
              "      <td>21.093750</td>\n",
              "      <td>0.0</td>\n",
              "      <td>1017.5</td>\n",
              "      <td>190.0</td>\n",
              "      <td>3.099609</td>\n",
              "      <td>20</td>\n",
              "      <td>3</td>\n",
              "      <td>5</td>\n",
              "      <td>140</td>\n",
              "      <td>0</td>\n",
              "      <td>1</td>\n",
              "    </tr>\n",
              "    <tr>\n",
              "      <th>3364</th>\n",
              "      <td>0</td>\n",
              "      <td>0</td>\n",
              "      <td>0</td>\n",
              "      <td>Education</td>\n",
              "      <td>7432</td>\n",
              "      <td>22.796875</td>\n",
              "      <td>4.0</td>\n",
              "      <td>21.093750</td>\n",
              "      <td>0.0</td>\n",
              "      <td>1018.0</td>\n",
              "      <td>0.0</td>\n",
              "      <td>0.000000</td>\n",
              "      <td>20</td>\n",
              "      <td>4</td>\n",
              "      <td>5</td>\n",
              "      <td>140</td>\n",
              "      <td>0</td>\n",
              "      <td>2</td>\n",
              "    </tr>\n",
              "  </tbody>\n",
              "</table>\n",
              "</div>"
            ],
            "text/plain": [
              "      building_id  meter  site_id  ... day_of_year  is_weekend  part_of_day\n",
              "3360            0      0        0  ...         140           0            1\n",
              "3361            0      0        0  ...         140           0            1\n",
              "3362            0      0        0  ...         140           0            1\n",
              "3363            0      0        0  ...         140           0            1\n",
              "3364            0      0        0  ...         140           0            2\n",
              "\n",
              "[5 rows x 18 columns]"
            ]
          },
          "metadata": {
            "tags": []
          },
          "execution_count": 51
        }
      ]
    },
    {
      "cell_type": "code",
      "metadata": {
        "id": "K5pm5dzmepVv"
      },
      "source": [
        "#train_m.drop(\"building_id\")"
      ],
      "execution_count": null,
      "outputs": []
    },
    {
      "cell_type": "code",
      "metadata": {
        "id": "GOb_mpAae3BA"
      },
      "source": [
        "#Encode categorical variable \n",
        "from sklearn import preprocessing\n",
        "le =preprocessing.LabelEncoder()\n",
        "le = le.fit(train_m['primary_use'])\n",
        "train_m['primary_use'] = le.transform(train_m['primary_use'])"
      ],
      "execution_count": null,
      "outputs": []
    },
    {
      "cell_type": "code",
      "metadata": {
        "colab": {
          "base_uri": "https://localhost:8080/",
          "height": 226
        },
        "id": "49hbwqJJfOhO",
        "outputId": "677d7b7b-566b-4b17-de11-f06713021c5b"
      },
      "source": [
        "train_m.head()"
      ],
      "execution_count": null,
      "outputs": [
        {
          "output_type": "execute_result",
          "data": {
            "text/html": [
              "<div>\n",
              "<style scoped>\n",
              "    .dataframe tbody tr th:only-of-type {\n",
              "        vertical-align: middle;\n",
              "    }\n",
              "\n",
              "    .dataframe tbody tr th {\n",
              "        vertical-align: top;\n",
              "    }\n",
              "\n",
              "    .dataframe thead th {\n",
              "        text-align: right;\n",
              "    }\n",
              "</style>\n",
              "<table border=\"1\" class=\"dataframe\">\n",
              "  <thead>\n",
              "    <tr style=\"text-align: right;\">\n",
              "      <th></th>\n",
              "      <th>meter</th>\n",
              "      <th>site_id</th>\n",
              "      <th>primary_use</th>\n",
              "      <th>square_feet</th>\n",
              "      <th>air_temperature</th>\n",
              "      <th>dew_temperature</th>\n",
              "      <th>precip_depth_1_hr</th>\n",
              "      <th>sea_level_pressure</th>\n",
              "      <th>wind_direction</th>\n",
              "      <th>wind_speed</th>\n",
              "      <th>day</th>\n",
              "      <th>hour</th>\n",
              "      <th>month</th>\n",
              "      <th>day_of_year</th>\n",
              "      <th>is_weekend</th>\n",
              "      <th>part_of_day</th>\n",
              "    </tr>\n",
              "  </thead>\n",
              "  <tbody>\n",
              "    <tr>\n",
              "      <th>3360</th>\n",
              "      <td>0</td>\n",
              "      <td>0</td>\n",
              "      <td>0</td>\n",
              "      <td>7432</td>\n",
              "      <td>26.093750</td>\n",
              "      <td>22.796875</td>\n",
              "      <td>-1.0</td>\n",
              "      <td>1014.5</td>\n",
              "      <td>120.0</td>\n",
              "      <td>2.099609</td>\n",
              "      <td>20</td>\n",
              "      <td>0</td>\n",
              "      <td>5</td>\n",
              "      <td>140</td>\n",
              "      <td>0</td>\n",
              "      <td>1</td>\n",
              "    </tr>\n",
              "    <tr>\n",
              "      <th>3361</th>\n",
              "      <td>0</td>\n",
              "      <td>0</td>\n",
              "      <td>0</td>\n",
              "      <td>7432</td>\n",
              "      <td>25.000000</td>\n",
              "      <td>20.593750</td>\n",
              "      <td>13.0</td>\n",
              "      <td>1016.0</td>\n",
              "      <td>140.0</td>\n",
              "      <td>1.500000</td>\n",
              "      <td>20</td>\n",
              "      <td>1</td>\n",
              "      <td>5</td>\n",
              "      <td>140</td>\n",
              "      <td>0</td>\n",
              "      <td>1</td>\n",
              "    </tr>\n",
              "    <tr>\n",
              "      <th>3362</th>\n",
              "      <td>0</td>\n",
              "      <td>0</td>\n",
              "      <td>0</td>\n",
              "      <td>7432</td>\n",
              "      <td>22.796875</td>\n",
              "      <td>21.093750</td>\n",
              "      <td>0.0</td>\n",
              "      <td>1016.0</td>\n",
              "      <td>160.0</td>\n",
              "      <td>3.099609</td>\n",
              "      <td>20</td>\n",
              "      <td>2</td>\n",
              "      <td>5</td>\n",
              "      <td>140</td>\n",
              "      <td>0</td>\n",
              "      <td>1</td>\n",
              "    </tr>\n",
              "    <tr>\n",
              "      <th>3363</th>\n",
              "      <td>0</td>\n",
              "      <td>0</td>\n",
              "      <td>0</td>\n",
              "      <td>7432</td>\n",
              "      <td>22.796875</td>\n",
              "      <td>21.093750</td>\n",
              "      <td>0.0</td>\n",
              "      <td>1017.5</td>\n",
              "      <td>190.0</td>\n",
              "      <td>3.099609</td>\n",
              "      <td>20</td>\n",
              "      <td>3</td>\n",
              "      <td>5</td>\n",
              "      <td>140</td>\n",
              "      <td>0</td>\n",
              "      <td>1</td>\n",
              "    </tr>\n",
              "    <tr>\n",
              "      <th>3364</th>\n",
              "      <td>0</td>\n",
              "      <td>0</td>\n",
              "      <td>0</td>\n",
              "      <td>7432</td>\n",
              "      <td>22.796875</td>\n",
              "      <td>21.093750</td>\n",
              "      <td>0.0</td>\n",
              "      <td>1018.0</td>\n",
              "      <td>0.0</td>\n",
              "      <td>0.000000</td>\n",
              "      <td>20</td>\n",
              "      <td>4</td>\n",
              "      <td>5</td>\n",
              "      <td>140</td>\n",
              "      <td>0</td>\n",
              "      <td>2</td>\n",
              "    </tr>\n",
              "  </tbody>\n",
              "</table>\n",
              "</div>"
            ],
            "text/plain": [
              "      meter  site_id  primary_use  ...  day_of_year  is_weekend  part_of_day\n",
              "3360      0        0            0  ...          140           0            1\n",
              "3361      0        0            0  ...          140           0            1\n",
              "3362      0        0            0  ...          140           0            1\n",
              "3363      0        0            0  ...          140           0            1\n",
              "3364      0        0            0  ...          140           0            2\n",
              "\n",
              "[5 rows x 16 columns]"
            ]
          },
          "metadata": {
            "tags": []
          },
          "execution_count": 10
        }
      ]
    },
    {
      "cell_type": "code",
      "metadata": {
        "id": "M1XEaVQGZfQN"
      },
      "source": [
        "#y = np.log1p(y)"
      ],
      "execution_count": null,
      "outputs": []
    },
    {
      "cell_type": "code",
      "metadata": {
        "id": "C2iuRpmOfSkA"
      },
      "source": [
        "#divide training and test data\n",
        "from sklearn.model_selection import train_test_split\n",
        "xtrain, xval, ytrain, yval = train_test_split(train_m, y, test_size=0.3, random_state=42)"
      ],
      "execution_count": null,
      "outputs": []
    },
    {
      "cell_type": "code",
      "metadata": {
        "id": "m-ww8QWnfgwI"
      },
      "source": [
        "del train_m"
      ],
      "execution_count": null,
      "outputs": []
    },
    {
      "cell_type": "code",
      "metadata": {
        "id": "mwC9R86AUQdC"
      },
      "source": [
        "# xtrain.drop(['sea_level_pressure'],axis=1,inplace=True)\n",
        "# xval.drop(['sea_level_pressure'],axis=1,inplace=True)"
      ],
      "execution_count": null,
      "outputs": []
    },
    {
      "cell_type": "code",
      "metadata": {
        "colab": {
          "base_uri": "https://localhost:8080/"
        },
        "id": "i7RML7KpVmCd",
        "outputId": "b61c3c45-d16f-459d-9fd7-96870ba90b78"
      },
      "source": [
        "#xtrain.drop(['wind_direction','precip_depth_1_hr'],axis=1,inplace=True)\n",
        "#xval.drop(['wind_direction','precip_depth_1_hr'],axis=1,inplace=True)"
      ],
      "execution_count": null,
      "outputs": [
        {
          "output_type": "stream",
          "text": [
            "/usr/local/lib/python3.7/dist-packages/pandas/core/frame.py:4174: SettingWithCopyWarning: \n",
            "A value is trying to be set on a copy of a slice from a DataFrame\n",
            "\n",
            "See the caveats in the documentation: https://pandas.pydata.org/pandas-docs/stable/user_guide/indexing.html#returning-a-view-versus-a-copy\n",
            "  errors=errors,\n"
          ],
          "name": "stderr"
        }
      ]
    },
    {
      "cell_type": "code",
      "metadata": {
        "colab": {
          "base_uri": "https://localhost:8080/",
          "height": 226
        },
        "id": "OZKF2GgVUaj9",
        "outputId": "8f5e7e7f-410b-409e-f142-23dfeaf872ff"
      },
      "source": [
        "xtrain.head()"
      ],
      "execution_count": null,
      "outputs": [
        {
          "output_type": "execute_result",
          "data": {
            "text/html": [
              "<div>\n",
              "<style scoped>\n",
              "    .dataframe tbody tr th:only-of-type {\n",
              "        vertical-align: middle;\n",
              "    }\n",
              "\n",
              "    .dataframe tbody tr th {\n",
              "        vertical-align: top;\n",
              "    }\n",
              "\n",
              "    .dataframe thead th {\n",
              "        text-align: right;\n",
              "    }\n",
              "</style>\n",
              "<table border=\"1\" class=\"dataframe\">\n",
              "  <thead>\n",
              "    <tr style=\"text-align: right;\">\n",
              "      <th></th>\n",
              "      <th>meter</th>\n",
              "      <th>site_id</th>\n",
              "      <th>primary_use</th>\n",
              "      <th>square_feet</th>\n",
              "      <th>air_temperature</th>\n",
              "      <th>dew_temperature</th>\n",
              "      <th>wind_speed</th>\n",
              "      <th>day</th>\n",
              "      <th>hour</th>\n",
              "      <th>month</th>\n",
              "      <th>day_of_year</th>\n",
              "      <th>is_weekend</th>\n",
              "      <th>part_of_day</th>\n",
              "    </tr>\n",
              "  </thead>\n",
              "  <tbody>\n",
              "    <tr>\n",
              "      <th>4762523</th>\n",
              "      <td>0</td>\n",
              "      <td>3</td>\n",
              "      <td>0</td>\n",
              "      <td>69600</td>\n",
              "      <td>6.699219</td>\n",
              "      <td>5.601562</td>\n",
              "      <td>3.099609</td>\n",
              "      <td>16</td>\n",
              "      <td>8</td>\n",
              "      <td>1</td>\n",
              "      <td>15</td>\n",
              "      <td>1</td>\n",
              "      <td>3</td>\n",
              "    </tr>\n",
              "    <tr>\n",
              "      <th>2188977</th>\n",
              "      <td>0</td>\n",
              "      <td>2</td>\n",
              "      <td>10</td>\n",
              "      <td>1629</td>\n",
              "      <td>13.296875</td>\n",
              "      <td>11.703125</td>\n",
              "      <td>1.500000</td>\n",
              "      <td>23</td>\n",
              "      <td>6</td>\n",
              "      <td>12</td>\n",
              "      <td>357</td>\n",
              "      <td>0</td>\n",
              "      <td>2</td>\n",
              "    </tr>\n",
              "    <tr>\n",
              "      <th>13204785</th>\n",
              "      <td>0</td>\n",
              "      <td>13</td>\n",
              "      <td>4</td>\n",
              "      <td>230747</td>\n",
              "      <td>23.296875</td>\n",
              "      <td>19.406250</td>\n",
              "      <td>3.099609</td>\n",
              "      <td>20</td>\n",
              "      <td>8</td>\n",
              "      <td>6</td>\n",
              "      <td>171</td>\n",
              "      <td>0</td>\n",
              "      <td>3</td>\n",
              "    </tr>\n",
              "    <tr>\n",
              "      <th>8858679</th>\n",
              "      <td>3</td>\n",
              "      <td>7</td>\n",
              "      <td>0</td>\n",
              "      <td>387500</td>\n",
              "      <td>-11.000000</td>\n",
              "      <td>-13.601562</td>\n",
              "      <td>5.699219</td>\n",
              "      <td>20</td>\n",
              "      <td>5</td>\n",
              "      <td>1</td>\n",
              "      <td>19</td>\n",
              "      <td>0</td>\n",
              "      <td>2</td>\n",
              "    </tr>\n",
              "    <tr>\n",
              "      <th>19580940</th>\n",
              "      <td>0</td>\n",
              "      <td>15</td>\n",
              "      <td>4</td>\n",
              "      <td>96336</td>\n",
              "      <td>-8.296875</td>\n",
              "      <td>-15.601562</td>\n",
              "      <td>10.296875</td>\n",
              "      <td>18</td>\n",
              "      <td>17</td>\n",
              "      <td>1</td>\n",
              "      <td>17</td>\n",
              "      <td>0</td>\n",
              "      <td>5</td>\n",
              "    </tr>\n",
              "  </tbody>\n",
              "</table>\n",
              "</div>"
            ],
            "text/plain": [
              "          meter  site_id  primary_use  ...  day_of_year  is_weekend  part_of_day\n",
              "4762523       0        3            0  ...           15           1            3\n",
              "2188977       0        2           10  ...          357           0            2\n",
              "13204785      0       13            4  ...          171           0            3\n",
              "8858679       3        7            0  ...           19           0            2\n",
              "19580940      0       15            4  ...           17           0            5\n",
              "\n",
              "[5 rows x 13 columns]"
            ]
          },
          "metadata": {
            "tags": []
          },
          "execution_count": 29
        }
      ]
    },
    {
      "cell_type": "markdown",
      "metadata": {
        "id": "8rsKqsJ2ycdZ"
      },
      "source": [
        "We don't need to take log y here cuz we're using RMSLE"
      ]
    },
    {
      "cell_type": "code",
      "metadata": {
        "id": "AslAp5gZyjGp"
      },
      "source": [
        "#ytrain = np.expm1(ytrain)\n",
        "#yval = np.expm1(yval)"
      ],
      "execution_count": null,
      "outputs": []
    },
    {
      "cell_type": "code",
      "metadata": {
        "id": "njg4-KREnhT0"
      },
      "source": [
        "from sklearn.tree import DecisionTreeRegressor"
      ],
      "execution_count": null,
      "outputs": []
    },
    {
      "cell_type": "code",
      "metadata": {
        "colab": {
          "base_uri": "https://localhost:8080/"
        },
        "id": "GDmF9G4Yfjms",
        "outputId": "a8a5a353-74fe-407c-d32b-75698bcf289a"
      },
      "source": [
        "\n",
        "\n",
        "model = DecisionTreeRegressor(max_depth=30)\n",
        "model.fit(xtrain, ytrain)\n",
        "# This takes around ... minutes to run"
      ],
      "execution_count": null,
      "outputs": [
        {
          "output_type": "execute_result",
          "data": {
            "text/plain": [
              "DecisionTreeRegressor(ccp_alpha=0.0, criterion='mse', max_depth=30,\n",
              "                      max_features=None, max_leaf_nodes=None,\n",
              "                      min_impurity_decrease=0.0, min_impurity_split=None,\n",
              "                      min_samples_leaf=1, min_samples_split=2,\n",
              "                      min_weight_fraction_leaf=0.0, presort='deprecated',\n",
              "                      random_state=None, splitter='best')"
            ]
          },
          "metadata": {
            "tags": []
          },
          "execution_count": 17
        }
      ]
    },
    {
      "cell_type": "code",
      "metadata": {
        "id": "lqu_89cA3Los"
      },
      "source": [
        "import numpy as np"
      ],
      "execution_count": null,
      "outputs": []
    },
    {
      "cell_type": "code",
      "metadata": {
        "id": "gztTxTN5iOea"
      },
      "source": [
        "#Compute the RMSLE\n",
        "\n",
        "def RMSLE(pred,actual):\n",
        "  return np.sqrt(np.sum(np.log(pred+1) - np.log(actual + 1))**2/len(actual))"
      ],
      "execution_count": null,
      "outputs": []
    },
    {
      "cell_type": "code",
      "metadata": {
        "id": "koSlogjLcK9t"
      },
      "source": [
        "from sklearn.metrics import mean_squared_error"
      ],
      "execution_count": null,
      "outputs": []
    },
    {
      "cell_type": "code",
      "metadata": {
        "id": "1_0CPojxiy0O"
      },
      "source": [
        "ypred = model.predict(xtrain)"
      ],
      "execution_count": null,
      "outputs": []
    },
    {
      "cell_type": "code",
      "metadata": {
        "colab": {
          "base_uri": "https://localhost:8080/"
        },
        "id": "cy2sXBKgYCt1",
        "outputId": "1bcc68bf-b40a-455a-cf4a-1c57e258915e"
      },
      "source": [
        "ytrain.head()"
      ],
      "execution_count": null,
      "outputs": [
        {
          "output_type": "execute_result",
          "data": {
            "text/plain": [
              "4762523     3.957570\n",
              "2188977     0.783902\n",
              "13204785    4.499810\n",
              "8858679     8.092539\n",
              "19580940    2.769459\n",
              "Name: meter_reading, dtype: float64"
            ]
          },
          "metadata": {
            "tags": []
          },
          "execution_count": 21
        }
      ]
    },
    {
      "cell_type": "code",
      "metadata": {
        "colab": {
          "base_uri": "https://localhost:8080/"
        },
        "id": "VRVsyD29X3hq",
        "outputId": "68197d1d-0d78-4c3c-ad1c-d87f6f69a549"
      },
      "source": [
        "ypred[1]"
      ],
      "execution_count": null,
      "outputs": [
        {
          "output_type": "execute_result",
          "data": {
            "text/plain": [
              "0.7839015699564725"
            ]
          },
          "metadata": {
            "tags": []
          },
          "execution_count": 22
        }
      ]
    },
    {
      "cell_type": "code",
      "metadata": {
        "colab": {
          "base_uri": "https://localhost:8080/"
        },
        "id": "Tc15rOYMcaK1",
        "outputId": "097ae880-eb91-4f48-8529-ce74c08064d1"
      },
      "source": [
        "# calculating MSE cuz it's more interpretable\n",
        "print('Mean Squared Error for train:', mean_squared_error(ytrain,ypred))"
      ],
      "execution_count": null,
      "outputs": [
        {
          "output_type": "stream",
          "text": [
            "Mean Squared Error: 0.045849506500902706\n"
          ],
          "name": "stdout"
        }
      ]
    },
    {
      "cell_type": "code",
      "metadata": {
        "id": "FFxdlm1pe00W"
      },
      "source": [
        "ypred_val = model.predict(xval)"
      ],
      "execution_count": null,
      "outputs": []
    },
    {
      "cell_type": "code",
      "metadata": {
        "id": "M24OafbUeuER",
        "colab": {
          "base_uri": "https://localhost:8080/"
        },
        "outputId": "488a015b-0822-4207-857e-46ab5bdfca8e"
      },
      "source": [
        "print('Mean Squared Error for val:', mean_squared_error(yval,ypred_val))"
      ],
      "execution_count": null,
      "outputs": [
        {
          "output_type": "stream",
          "text": [
            "Mean Squared Error for val: 0.39271767864416923\n"
          ],
          "name": "stdout"
        }
      ]
    },
    {
      "cell_type": "markdown",
      "metadata": {
        "id": "8xgOjvtKlhTa"
      },
      "source": [
        "On average, the model predicts the meter reading with +- 0.39 KWH"
      ]
    },
    {
      "cell_type": "code",
      "metadata": {
        "colab": {
          "base_uri": "https://localhost:8080/",
          "height": 368
        },
        "id": "0w32ViI0YpBz",
        "outputId": "ed5e64d8-bd9c-4ff7-eb72-998447c71662"
      },
      "source": [
        "import matplotlib.pyplot as plt \n",
        "plt.figure(figsize=(10, 5))\n",
        "plt.scatter(yval[0:10000], ypred_val[0:10000], s=30)\n",
        "plt.title('Predicted vs. Actual meter reading')\n",
        "plt.xlabel('Actual meter reading')\n",
        "plt.ylabel('Predicted meter reading')\n",
        "\n",
        "#plt.plot([min(y_valid), max(y_valid)], [min(y_valid), max(y_valid)])\n",
        "#plt.tight_layout()"
      ],
      "execution_count": null,
      "outputs": [
        {
          "output_type": "execute_result",
          "data": {
            "text/plain": [
              "Text(0, 0.5, 'Predicted meter reading')"
            ]
          },
          "metadata": {
            "tags": []
          },
          "execution_count": 38
        },
        {
          "output_type": "display_data",
          "data": {
            "image/png": "[encoded data removed]",
            "text/plain": [
              "<Figure size 720x360 with 1 Axes>"
            ]
          },
          "metadata": {
            "tags": [],
            "needs_background": "light"
          }
        }
      ]
    },
    {
      "cell_type": "markdown",
      "metadata": {
        "id": "P84w5jLwj2l6"
      },
      "source": [
        "Clearly, the model fails to predict 0 readings correctly>> **back to data cleaning**"
      ]
    },
    {
      "cell_type": "code",
      "metadata": {
        "colab": {
          "base_uri": "https://localhost:8080/"
        },
        "id": "EYZK8Kf-S6xY",
        "outputId": "acc90b1a-c59d-48ea-a959-bd9b87da76ab"
      },
      "source": [
        "#evaluate on train data;  no log for y, variables; no cloud coverage\n",
        "RMSLE_DT = RMSLE(ypred, ytrain)\n",
        "RMSLE_DT\n"
      ],
      "execution_count": null,
      "outputs": [
        {
          "output_type": "execute_result",
          "data": {
            "text/plain": [
              "8.415610075339812"
            ]
          },
          "metadata": {
            "tags": []
          },
          "execution_count": 31
        }
      ]
    },
    {
      "cell_type": "code",
      "metadata": {
        "id": "44jA4k3Fi2yr"
      },
      "source": [
        ""
      ],
      "execution_count": null,
      "outputs": []
    },
    {
      "cell_type": "code",
      "metadata": {
        "colab": {
          "base_uri": "https://localhost:8080/"
        },
        "id": "S7v__Xuci8et",
        "outputId": "52b06a1b-7cee-4e3a-e911-47658b1f60f1"
      },
      "source": [
        "#evaluate on train data;  no log for y, all variables\n",
        "RMSLE_DT = RMSLE(ypred, ytrain)\n",
        "RMSLE_DT\n"
      ],
      "execution_count": null,
      "outputs": [
        {
          "output_type": "execute_result",
          "data": {
            "text/plain": [
              "115.47106022825247"
            ]
          },
          "metadata": {
            "tags": []
          },
          "execution_count": 25
        }
      ]
    },
    {
      "cell_type": "markdown",
      "metadata": {
        "id": "tkahnYcUqzcS"
      },
      "source": [
        "https://www.kaggle.com/carlolepelaars/understanding-the-metric-rmsle"
      ]
    },
    {
      "cell_type": "code",
      "metadata": {
        "colab": {
          "base_uri": "https://localhost:8080/",
          "height": 171
        },
        "id": "j3Om0vbEkGpH",
        "outputId": "e4da6868-cdd2-417e-997a-4d2f0b6ffa9e"
      },
      "source": [
        "ypred_val[0]"
      ],
      "execution_count": null,
      "outputs": [
        {
          "output_type": "error",
          "ename": "NameError",
          "evalue": "ignored",
          "traceback": [
            "\u001b[0;31m---------------------------------------------------------------------------\u001b[0m",
            "\u001b[0;31mNameError\u001b[0m                                 Traceback (most recent call last)",
            "\u001b[0;32m<ipython-input-35-c369313492a8>\u001b[0m in \u001b[0;36m<module>\u001b[0;34m()\u001b[0m\n\u001b[0;32m----> 1\u001b[0;31m \u001b[0mypred_val\u001b[0m\u001b[0;34m[\u001b[0m\u001b[0;36m0\u001b[0m\u001b[0;34m]\u001b[0m\u001b[0;34m\u001b[0m\u001b[0;34m\u001b[0m\u001b[0m\n\u001b[0m",
            "\u001b[0;31mNameError\u001b[0m: name 'ypred_val' is not defined"
          ]
        }
      ]
    },
    {
      "cell_type": "code",
      "metadata": {
        "colab": {
          "base_uri": "https://localhost:8080/"
        },
        "id": "TYh0aJnNj8CO",
        "outputId": "4bf5df24-14cf-4e28-e7cc-091db492f2b5"
      },
      "source": [
        "yval.head()"
      ],
      "execution_count": null,
      "outputs": [
        {
          "output_type": "execute_result",
          "data": {
            "text/plain": [
              "5465837      62.349998\n",
              "3086121       2.810000\n",
              "11849950    375.915985\n",
              "16794220     70.968697\n",
              "541203      180.852664\n",
              "Name: meter_reading, dtype: float64"
            ]
          },
          "metadata": {
            "tags": []
          },
          "execution_count": 28
        }
      ]
    },
    {
      "cell_type": "markdown",
      "metadata": {
        "id": "DG5Ph7FVXJ4R"
      },
      "source": [
        "I tried dropping some variables but the error didn't change"
      ]
    },
    {
      "cell_type": "code",
      "metadata": {
        "colab": {
          "base_uri": "https://localhost:8080/"
        },
        "id": "LmTzKADBj4lZ",
        "outputId": "e7100ed0-b47e-4032-dd01-4962f0536fae"
      },
      "source": [
        "RMSLE_DT = RMSLE(ypred_val, yval)\n",
        "RMSLE_DT"
      ],
      "execution_count": null,
      "outputs": [
        {
          "output_type": "execute_result",
          "data": {
            "text/plain": [
              "4.420563897983105"
            ]
          },
          "metadata": {
            "tags": []
          },
          "execution_count": 34
        }
      ]
    },
    {
      "cell_type": "code",
      "metadata": {
        "colab": {
          "base_uri": "https://localhost:8080/"
        },
        "id": "XY7XxkqGoySm",
        "outputId": "82bc1f71-4559-4f71-e084-b721c86b0def"
      },
      "source": [
        "RMSLE_DT"
      ],
      "execution_count": null,
      "outputs": [
        {
          "output_type": "execute_result",
          "data": {
            "text/plain": [
              "4.335609036917774"
            ]
          },
          "metadata": {
            "tags": []
          },
          "execution_count": 102
        }
      ]
    },
    {
      "cell_type": "markdown",
      "metadata": {
        "id": "P61oSfonxrPk"
      },
      "source": [
        "Is this a normal value for RMSLE? I don't think so ."
      ]
    },
    {
      "cell_type": "markdown",
      "metadata": {
        "id": "4ewbfv-hoXRm"
      },
      "source": [
        "# Try diff. max depth!>> draw the tree"
      ]
    },
    {
      "cell_type": "markdown",
      "metadata": {
        "id": "o6Hr_Vi6luFM"
      },
      "source": [
        "# Evaluating on test data"
      ]
    },
    {
      "cell_type": "code",
      "metadata": {
        "id": "redTg3bblwsj"
      },
      "source": [
        ""
      ],
      "execution_count": null,
      "outputs": []
    },
    {
      "cell_type": "markdown",
      "metadata": {
        "id": "v4-dOLH1lyA7"
      },
      "source": [
        "## D.T Reg- Cross validation; k-fold"
      ]
    },
    {
      "cell_type": "code",
      "metadata": {
        "id": "nhBFzTbHmnmb"
      },
      "source": [
        "\n",
        "# model = DecisionTreeRegressor(max_depth=30)\n",
        "# dt_fit = model.fit(xtrain, ytrain)"
      ],
      "execution_count": null,
      "outputs": []
    },
    {
      "cell_type": "code",
      "metadata": {
        "colab": {
          "base_uri": "https://localhost:8080/"
        },
        "id": "dR3zomRupbLH",
        "outputId": "2e62df7c-bd1d-4a28-badd-bc4f5022822f"
      },
      "source": [
        "# from sklearn.model_selection import cross_val_score\n",
        "# dt_scores = cross_val_score(dt_fit, xtrain, ytrain, cv=5)\n",
        "# print(\"mean cross validation score: {}\".format(np.mean(dt_scores)))\n",
        "# print(\"score without cv: {}\".format(dt_fit.score(xtrain, ytrain)))"
      ],
      "execution_count": null,
      "outputs": [
        {
          "output_type": "stream",
          "text": [
            "mean cross validation score: 0.9032910385372922\n",
            "score without cv: 0.9893891870849932\n"
          ],
          "name": "stdout"
        }
      ]
    },
    {
      "cell_type": "code",
      "metadata": {
        "colab": {
          "base_uri": "https://localhost:8080/",
          "height": 226
        },
        "id": "yDeGPPa-7VHX",
        "outputId": "15d5c099-9d28-4e73-b97e-812b45850869"
      },
      "source": [
        "xtrain.head()"
      ],
      "execution_count": null,
      "outputs": [
        {
          "output_type": "execute_result",
          "data": {
            "text/html": [
              "<div>\n",
              "<style scoped>\n",
              "    .dataframe tbody tr th:only-of-type {\n",
              "        vertical-align: middle;\n",
              "    }\n",
              "\n",
              "    .dataframe tbody tr th {\n",
              "        vertical-align: top;\n",
              "    }\n",
              "\n",
              "    .dataframe thead th {\n",
              "        text-align: right;\n",
              "    }\n",
              "</style>\n",
              "<table border=\"1\" class=\"dataframe\">\n",
              "  <thead>\n",
              "    <tr style=\"text-align: right;\">\n",
              "      <th></th>\n",
              "      <th>meter</th>\n",
              "      <th>site_id</th>\n",
              "      <th>primary_use</th>\n",
              "      <th>square_feet</th>\n",
              "      <th>air_temperature</th>\n",
              "      <th>cloud_coverage</th>\n",
              "      <th>dew_temperature</th>\n",
              "      <th>precip_depth_1_hr</th>\n",
              "      <th>wind_direction</th>\n",
              "      <th>wind_speed</th>\n",
              "      <th>day</th>\n",
              "      <th>hour</th>\n",
              "      <th>month</th>\n",
              "      <th>day_of_year</th>\n",
              "      <th>is_weekend</th>\n",
              "      <th>part_of_day</th>\n",
              "    </tr>\n",
              "  </thead>\n",
              "  <tbody>\n",
              "    <tr>\n",
              "      <th>4762523</th>\n",
              "      <td>0</td>\n",
              "      <td>3</td>\n",
              "      <td>0</td>\n",
              "      <td>69600</td>\n",
              "      <td>6.699219</td>\n",
              "      <td>8.000000</td>\n",
              "      <td>5.601562</td>\n",
              "      <td>-1.000000</td>\n",
              "      <td>350.0</td>\n",
              "      <td>3.099609</td>\n",
              "      <td>16</td>\n",
              "      <td>8</td>\n",
              "      <td>1</td>\n",
              "      <td>15</td>\n",
              "      <td>1</td>\n",
              "      <td>3</td>\n",
              "    </tr>\n",
              "    <tr>\n",
              "      <th>2188977</th>\n",
              "      <td>0</td>\n",
              "      <td>2</td>\n",
              "      <td>10</td>\n",
              "      <td>1629</td>\n",
              "      <td>13.296875</td>\n",
              "      <td>6.000000</td>\n",
              "      <td>11.703125</td>\n",
              "      <td>0.000000</td>\n",
              "      <td>210.0</td>\n",
              "      <td>1.500000</td>\n",
              "      <td>23</td>\n",
              "      <td>6</td>\n",
              "      <td>12</td>\n",
              "      <td>357</td>\n",
              "      <td>0</td>\n",
              "      <td>2</td>\n",
              "    </tr>\n",
              "    <tr>\n",
              "      <th>13204785</th>\n",
              "      <td>0</td>\n",
              "      <td>13</td>\n",
              "      <td>4</td>\n",
              "      <td>230747</td>\n",
              "      <td>23.296875</td>\n",
              "      <td>8.000000</td>\n",
              "      <td>19.406250</td>\n",
              "      <td>0.000000</td>\n",
              "      <td>330.0</td>\n",
              "      <td>3.099609</td>\n",
              "      <td>20</td>\n",
              "      <td>8</td>\n",
              "      <td>6</td>\n",
              "      <td>171</td>\n",
              "      <td>0</td>\n",
              "      <td>3</td>\n",
              "    </tr>\n",
              "    <tr>\n",
              "      <th>8858679</th>\n",
              "      <td>3</td>\n",
              "      <td>7</td>\n",
              "      <td>0</td>\n",
              "      <td>387500</td>\n",
              "      <td>-11.000000</td>\n",
              "      <td>2.242188</td>\n",
              "      <td>-13.601562</td>\n",
              "      <td>4.320312</td>\n",
              "      <td>280.0</td>\n",
              "      <td>5.699219</td>\n",
              "      <td>20</td>\n",
              "      <td>5</td>\n",
              "      <td>1</td>\n",
              "      <td>19</td>\n",
              "      <td>0</td>\n",
              "      <td>2</td>\n",
              "    </tr>\n",
              "    <tr>\n",
              "      <th>19580940</th>\n",
              "      <td>0</td>\n",
              "      <td>15</td>\n",
              "      <td>4</td>\n",
              "      <td>96336</td>\n",
              "      <td>-8.296875</td>\n",
              "      <td>2.000000</td>\n",
              "      <td>-15.601562</td>\n",
              "      <td>-1.000000</td>\n",
              "      <td>280.0</td>\n",
              "      <td>10.296875</td>\n",
              "      <td>18</td>\n",
              "      <td>17</td>\n",
              "      <td>1</td>\n",
              "      <td>17</td>\n",
              "      <td>0</td>\n",
              "      <td>5</td>\n",
              "    </tr>\n",
              "  </tbody>\n",
              "</table>\n",
              "</div>"
            ],
            "text/plain": [
              "          meter  site_id  primary_use  ...  day_of_year  is_weekend  part_of_day\n",
              "4762523       0        3            0  ...           15           1            3\n",
              "2188977       0        2           10  ...          357           0            2\n",
              "13204785      0       13            4  ...          171           0            3\n",
              "8858679       3        7            0  ...           19           0            2\n",
              "19580940      0       15            4  ...           17           0            5\n",
              "\n",
              "[5 rows x 16 columns]"
            ]
          },
          "metadata": {
            "tags": []
          },
          "execution_count": 44
        }
      ]
    },
    {
      "cell_type": "code",
      "metadata": {
        "id": "3ewKvV217oq3"
      },
      "source": [
        "from sklearn.model_selection import cross_validate\n",
        "scores = cross_validate(model, xtrain, ytrain, cv=3,\n",
        "                        scoring=(\"neg_root_mean_squared_error\", \"neg_mean_squared_log_error\"),\n",
        "                        return_train_score= True)"
      ],
      "execution_count": null,
      "outputs": []
    },
    {
      "cell_type": "code",
      "metadata": {
        "id": "jxizU9aR_h54",
        "colab": {
          "base_uri": "https://localhost:8080/"
        },
        "outputId": "abcfc817-fdf9-4936-abc9-cdf58419f69b"
      },
      "source": [
        "print(scores['test_neg_root_mean_squared_error'])"
      ],
      "execution_count": null,
      "outputs": [
        {
          "output_type": "stream",
          "text": [
            "[-0.66408326 -0.66306911 -0.6606813 ]\n"
          ],
          "name": "stdout"
        }
      ]
    },
    {
      "cell_type": "code",
      "metadata": {
        "colab": {
          "base_uri": "https://localhost:8080/",
          "height": 171
        },
        "id": "tJ4c6eb4Fsfc",
        "outputId": "811c2483-4a79-4aef-df93-0932300b77dd"
      },
      "source": [
        "print(scores['test_neg_mean_squared_log_error'])"
      ],
      "execution_count": null,
      "outputs": [
        {
          "output_type": "error",
          "ename": "NameError",
          "evalue": "ignored",
          "traceback": [
            "\u001b[0;31m---------------------------------------------------------------------------\u001b[0m",
            "\u001b[0;31mNameError\u001b[0m                                 Traceback (most recent call last)",
            "\u001b[0;32m<ipython-input-1-761a0309c0e6>\u001b[0m in \u001b[0;36m<module>\u001b[0;34m()\u001b[0m\n\u001b[0;32m----> 1\u001b[0;31m \u001b[0mprint\u001b[0m\u001b[0;34m(\u001b[0m\u001b[0mscores\u001b[0m\u001b[0;34m[\u001b[0m\u001b[0;34m'test_neg_mean_squared_log_error'\u001b[0m\u001b[0;34m]\u001b[0m\u001b[0;34m)\u001b[0m\u001b[0;34m\u001b[0m\u001b[0;34m\u001b[0m\u001b[0m\n\u001b[0m",
            "\u001b[0;31mNameError\u001b[0m: name 'scores' is not defined"
          ]
        }
      ]
    },
    {
      "cell_type": "markdown",
      "metadata": {
        "id": "EgEUvpZlGD2E"
      },
      "source": [
        "# then what??"
      ]
    },
    {
      "cell_type": "code",
      "metadata": {
        "id": "XXDyS7In1kE1"
      },
      "source": [
        "# k=4\n",
        "# num_validation_samples = len(xtrain)//k\n",
        "# np.random.shuffle(xtrain)\n",
        "# validation_scores = []\n",
        "# for fold in range(k):\n",
        "#   validation_data = xtrain[num_validation_samples*fold: num_validation_samples*(fold+1)]\n",
        "#   training_data = xtrain[:num_validation_samples * fold] + xtrain[num_validation_samples*(fold+1):]\n",
        "#   model = DecisionTreeRegressor(max_depth=30)\n",
        "#   model.fit(xtrain, ytrain)\n",
        "#   validation_scores.append( model.evaluate(xval))\n",
        "\n",
        "# #final_score = \n",
        "# np.mean(validation_scores)\n"
      ],
      "execution_count": null,
      "outputs": []
    },
    {
      "cell_type": "markdown",
      "metadata": {
        "id": "hs4_SD2he7E8"
      },
      "source": [
        "## DT- Random search"
      ]
    },
    {
      "cell_type": "code",
      "metadata": {
        "id": "CbfBgbFxYzpJ"
      },
      "source": [
        "from sklearn.model_selection import KFold\n",
        "from sklearn import metrics\n",
        "\n"
      ],
      "execution_count": null,
      "outputs": []
    },
    {
      "cell_type": "code",
      "metadata": {
        "id": "bIOZ4a4oe9xt"
      },
      "source": [
        "from sklearn.model_selection import RandomizedSearchCV\n",
        "model = DecisionTreeRegressor(max_depth=30)\n",
        "distributions = dict(criterion = [\"mse\", \"mae\"],\n",
        "                     min_samples_split= [ 20, 40], \n",
        "                     max_depth = [2, 6, 8],\n",
        "                     min_samples_leaf=[20,40,100],\n",
        "                     max_leaf_nodes= [5, 20, 100])\n",
        "clf = RandomizedSearchCV(model, distributions, random_state=42)\n",
        "search = clf.fit(xtrain, ytrain)\n",
        "search.best_params_\n"
      ],
      "execution_count": null,
      "outputs": []
    },
    {
      "cell_type": "markdown",
      "metadata": {
        "id": "DY2Mq5VKwOIf"
      },
      "source": [
        "**More than 30 minutes>> decrease num of param's**>> fy el A5er :\")"
      ]
    },
    {
      "cell_type": "markdown",
      "metadata": {
        "id": "3_djJdrsevoa"
      },
      "source": [
        "## DT-Grid search"
      ]
    },
    {
      "cell_type": "code",
      "metadata": {
        "colab": {
          "base_uri": "https://localhost:8080/",
          "height": 413
        },
        "id": "9QVaTpdJ79-f",
        "outputId": "26c69a86-86bb-46b0-a42b-5d3d775e28d9"
      },
      "source": [
        "from sklearn.model_selection import GridSearchCV\n",
        "parameters ={\"criterion\" : [\"mse\", \"mae\"],\n",
        "                     \"min_samples_split\":[ 20, 40], \n",
        "                     \"max_depth\" : [2, 8]}\n",
        "model = DecisionTreeRegressor()\n",
        "clf = GridSearchCV(model, parameters)\n",
        "clf.fit(xtrain, ytrain)\n",
        "\n",
        "\n",
        "sorted(clf.cv_results_.keys())"
      ],
      "execution_count": null,
      "outputs": [
        {
          "output_type": "error",
          "ename": "KeyboardInterrupt",
          "evalue": "ignored",
          "traceback": [
            "\u001b[0;31m---------------------------------------------------------------------------\u001b[0m",
            "\u001b[0;31mKeyboardInterrupt\u001b[0m                         Traceback (most recent call last)",
            "\u001b[0;32m<ipython-input-32-a4e74b891f54>\u001b[0m in \u001b[0;36m<module>\u001b[0;34m()\u001b[0m\n\u001b[1;32m      5\u001b[0m \u001b[0mmodel\u001b[0m \u001b[0;34m=\u001b[0m \u001b[0mDecisionTreeRegressor\u001b[0m\u001b[0;34m(\u001b[0m\u001b[0;34m)\u001b[0m\u001b[0;34m\u001b[0m\u001b[0;34m\u001b[0m\u001b[0m\n\u001b[1;32m      6\u001b[0m \u001b[0mclf\u001b[0m \u001b[0;34m=\u001b[0m \u001b[0mGridSearchCV\u001b[0m\u001b[0;34m(\u001b[0m\u001b[0mmodel\u001b[0m\u001b[0;34m,\u001b[0m \u001b[0mparameters\u001b[0m\u001b[0;34m)\u001b[0m\u001b[0;34m\u001b[0m\u001b[0;34m\u001b[0m\u001b[0m\n\u001b[0;32m----> 7\u001b[0;31m \u001b[0mclf\u001b[0m\u001b[0;34m.\u001b[0m\u001b[0mfit\u001b[0m\u001b[0;34m(\u001b[0m\u001b[0mxtrain\u001b[0m\u001b[0;34m,\u001b[0m \u001b[0mytrain\u001b[0m\u001b[0;34m)\u001b[0m\u001b[0;34m\u001b[0m\u001b[0;34m\u001b[0m\u001b[0m\n\u001b[0m\u001b[1;32m      8\u001b[0m \u001b[0;34m\u001b[0m\u001b[0m\n\u001b[1;32m      9\u001b[0m \u001b[0;34m\u001b[0m\u001b[0m\n",
            "\u001b[0;32m/usr/local/lib/python3.7/dist-packages/sklearn/model_selection/_search.py\u001b[0m in \u001b[0;36mfit\u001b[0;34m(self, X, y, groups, **fit_params)\u001b[0m\n\u001b[1;32m    708\u001b[0m                 \u001b[0;32mreturn\u001b[0m \u001b[0mresults\u001b[0m\u001b[0;34m\u001b[0m\u001b[0;34m\u001b[0m\u001b[0m\n\u001b[1;32m    709\u001b[0m \u001b[0;34m\u001b[0m\u001b[0m\n\u001b[0;32m--> 710\u001b[0;31m             \u001b[0mself\u001b[0m\u001b[0;34m.\u001b[0m\u001b[0m_run_search\u001b[0m\u001b[0;34m(\u001b[0m\u001b[0mevaluate_candidates\u001b[0m\u001b[0;34m)\u001b[0m\u001b[0;34m\u001b[0m\u001b[0;34m\u001b[0m\u001b[0m\n\u001b[0m\u001b[1;32m    711\u001b[0m \u001b[0;34m\u001b[0m\u001b[0m\n\u001b[1;32m    712\u001b[0m         \u001b[0;31m# For multi-metric evaluation, store the best_index_, best_params_ and\u001b[0m\u001b[0;34m\u001b[0m\u001b[0;34m\u001b[0m\u001b[0;34m\u001b[0m\u001b[0m\n",
            "\u001b[0;32m/usr/local/lib/python3.7/dist-packages/sklearn/model_selection/_search.py\u001b[0m in \u001b[0;36m_run_search\u001b[0;34m(self, evaluate_candidates)\u001b[0m\n\u001b[1;32m   1149\u001b[0m     \u001b[0;32mdef\u001b[0m \u001b[0m_run_search\u001b[0m\u001b[0;34m(\u001b[0m\u001b[0mself\u001b[0m\u001b[0;34m,\u001b[0m \u001b[0mevaluate_candidates\u001b[0m\u001b[0;34m)\u001b[0m\u001b[0;34m:\u001b[0m\u001b[0;34m\u001b[0m\u001b[0;34m\u001b[0m\u001b[0m\n\u001b[1;32m   1150\u001b[0m         \u001b[0;34m\"\"\"Search all candidates in param_grid\"\"\"\u001b[0m\u001b[0;34m\u001b[0m\u001b[0;34m\u001b[0m\u001b[0m\n\u001b[0;32m-> 1151\u001b[0;31m         \u001b[0mevaluate_candidates\u001b[0m\u001b[0;34m(\u001b[0m\u001b[0mParameterGrid\u001b[0m\u001b[0;34m(\u001b[0m\u001b[0mself\u001b[0m\u001b[0;34m.\u001b[0m\u001b[0mparam_grid\u001b[0m\u001b[0;34m)\u001b[0m\u001b[0;34m)\u001b[0m\u001b[0;34m\u001b[0m\u001b[0;34m\u001b[0m\u001b[0m\n\u001b[0m\u001b[1;32m   1152\u001b[0m \u001b[0;34m\u001b[0m\u001b[0m\n\u001b[1;32m   1153\u001b[0m \u001b[0;34m\u001b[0m\u001b[0m\n",
            "\u001b[0;32m/usr/local/lib/python3.7/dist-packages/sklearn/model_selection/_search.py\u001b[0m in \u001b[0;36mevaluate_candidates\u001b[0;34m(candidate_params)\u001b[0m\n\u001b[1;32m    687\u001b[0m                                \u001b[0;32mfor\u001b[0m \u001b[0mparameters\u001b[0m\u001b[0;34m,\u001b[0m \u001b[0;34m(\u001b[0m\u001b[0mtrain\u001b[0m\u001b[0;34m,\u001b[0m \u001b[0mtest\u001b[0m\u001b[0;34m)\u001b[0m\u001b[0;34m\u001b[0m\u001b[0;34m\u001b[0m\u001b[0m\n\u001b[1;32m    688\u001b[0m                                in product(candidate_params,\n\u001b[0;32m--> 689\u001b[0;31m                                           cv.split(X, y, groups)))\n\u001b[0m\u001b[1;32m    690\u001b[0m \u001b[0;34m\u001b[0m\u001b[0m\n\u001b[1;32m    691\u001b[0m                 \u001b[0;32mif\u001b[0m \u001b[0mlen\u001b[0m\u001b[0;34m(\u001b[0m\u001b[0mout\u001b[0m\u001b[0;34m)\u001b[0m \u001b[0;34m<\u001b[0m \u001b[0;36m1\u001b[0m\u001b[0;34m:\u001b[0m\u001b[0;34m\u001b[0m\u001b[0;34m\u001b[0m\u001b[0m\n",
            "\u001b[0;32m/usr/local/lib/python3.7/dist-packages/joblib/parallel.py\u001b[0m in \u001b[0;36m__call__\u001b[0;34m(self, iterable)\u001b[0m\n\u001b[1;32m   1042\u001b[0m                 \u001b[0mself\u001b[0m\u001b[0;34m.\u001b[0m\u001b[0m_iterating\u001b[0m \u001b[0;34m=\u001b[0m \u001b[0mself\u001b[0m\u001b[0;34m.\u001b[0m\u001b[0m_original_iterator\u001b[0m \u001b[0;32mis\u001b[0m \u001b[0;32mnot\u001b[0m \u001b[0;32mNone\u001b[0m\u001b[0;34m\u001b[0m\u001b[0;34m\u001b[0m\u001b[0m\n\u001b[1;32m   1043\u001b[0m \u001b[0;34m\u001b[0m\u001b[0m\n\u001b[0;32m-> 1044\u001b[0;31m             \u001b[0;32mwhile\u001b[0m \u001b[0mself\u001b[0m\u001b[0;34m.\u001b[0m\u001b[0mdispatch_one_batch\u001b[0m\u001b[0;34m(\u001b[0m\u001b[0miterator\u001b[0m\u001b[0;34m)\u001b[0m\u001b[0;34m:\u001b[0m\u001b[0;34m\u001b[0m\u001b[0;34m\u001b[0m\u001b[0m\n\u001b[0m\u001b[1;32m   1045\u001b[0m                 \u001b[0;32mpass\u001b[0m\u001b[0;34m\u001b[0m\u001b[0;34m\u001b[0m\u001b[0m\n\u001b[1;32m   1046\u001b[0m \u001b[0;34m\u001b[0m\u001b[0m\n",
            "\u001b[0;32m/usr/local/lib/python3.7/dist-packages/joblib/parallel.py\u001b[0m in \u001b[0;36mdispatch_one_batch\u001b[0;34m(self, iterator)\u001b[0m\n\u001b[1;32m    857\u001b[0m                 \u001b[0;32mreturn\u001b[0m \u001b[0;32mFalse\u001b[0m\u001b[0;34m\u001b[0m\u001b[0;34m\u001b[0m\u001b[0m\n\u001b[1;32m    858\u001b[0m             \u001b[0;32melse\u001b[0m\u001b[0;34m:\u001b[0m\u001b[0;34m\u001b[0m\u001b[0;34m\u001b[0m\u001b[0m\n\u001b[0;32m--> 859\u001b[0;31m                 \u001b[0mself\u001b[0m\u001b[0;34m.\u001b[0m\u001b[0m_dispatch\u001b[0m\u001b[0;34m(\u001b[0m\u001b[0mtasks\u001b[0m\u001b[0;34m)\u001b[0m\u001b[0;34m\u001b[0m\u001b[0;34m\u001b[0m\u001b[0m\n\u001b[0m\u001b[1;32m    860\u001b[0m                 \u001b[0;32mreturn\u001b[0m \u001b[0;32mTrue\u001b[0m\u001b[0;34m\u001b[0m\u001b[0;34m\u001b[0m\u001b[0m\n\u001b[1;32m    861\u001b[0m \u001b[0;34m\u001b[0m\u001b[0m\n",
            "\u001b[0;32m/usr/local/lib/python3.7/dist-packages/joblib/parallel.py\u001b[0m in \u001b[0;36m_dispatch\u001b[0;34m(self, batch)\u001b[0m\n\u001b[1;32m    775\u001b[0m         \u001b[0;32mwith\u001b[0m \u001b[0mself\u001b[0m\u001b[0;34m.\u001b[0m\u001b[0m_lock\u001b[0m\u001b[0;34m:\u001b[0m\u001b[0;34m\u001b[0m\u001b[0;34m\u001b[0m\u001b[0m\n\u001b[1;32m    776\u001b[0m             \u001b[0mjob_idx\u001b[0m \u001b[0;34m=\u001b[0m \u001b[0mlen\u001b[0m\u001b[0;34m(\u001b[0m\u001b[0mself\u001b[0m\u001b[0;34m.\u001b[0m\u001b[0m_jobs\u001b[0m\u001b[0;34m)\u001b[0m\u001b[0;34m\u001b[0m\u001b[0;34m\u001b[0m\u001b[0m\n\u001b[0;32m--> 777\u001b[0;31m             \u001b[0mjob\u001b[0m \u001b[0;34m=\u001b[0m \u001b[0mself\u001b[0m\u001b[0;34m.\u001b[0m\u001b[0m_backend\u001b[0m\u001b[0;34m.\u001b[0m\u001b[0mapply_async\u001b[0m\u001b[0;34m(\u001b[0m\u001b[0mbatch\u001b[0m\u001b[0;34m,\u001b[0m \u001b[0mcallback\u001b[0m\u001b[0;34m=\u001b[0m\u001b[0mcb\u001b[0m\u001b[0;34m)\u001b[0m\u001b[0;34m\u001b[0m\u001b[0;34m\u001b[0m\u001b[0m\n\u001b[0m\u001b[1;32m    778\u001b[0m             \u001b[0;31m# A job can complete so quickly than its callback is\u001b[0m\u001b[0;34m\u001b[0m\u001b[0;34m\u001b[0m\u001b[0;34m\u001b[0m\u001b[0m\n\u001b[1;32m    779\u001b[0m             \u001b[0;31m# called before we get here, causing self._jobs to\u001b[0m\u001b[0;34m\u001b[0m\u001b[0;34m\u001b[0m\u001b[0;34m\u001b[0m\u001b[0m\n",
            "\u001b[0;32m/usr/local/lib/python3.7/dist-packages/joblib/_parallel_backends.py\u001b[0m in \u001b[0;36mapply_async\u001b[0;34m(self, func, callback)\u001b[0m\n\u001b[1;32m    206\u001b[0m     \u001b[0;32mdef\u001b[0m \u001b[0mapply_async\u001b[0m\u001b[0;34m(\u001b[0m\u001b[0mself\u001b[0m\u001b[0;34m,\u001b[0m \u001b[0mfunc\u001b[0m\u001b[0;34m,\u001b[0m \u001b[0mcallback\u001b[0m\u001b[0;34m=\u001b[0m\u001b[0;32mNone\u001b[0m\u001b[0;34m)\u001b[0m\u001b[0;34m:\u001b[0m\u001b[0;34m\u001b[0m\u001b[0;34m\u001b[0m\u001b[0m\n\u001b[1;32m    207\u001b[0m         \u001b[0;34m\"\"\"Schedule a func to be run\"\"\"\u001b[0m\u001b[0;34m\u001b[0m\u001b[0;34m\u001b[0m\u001b[0m\n\u001b[0;32m--> 208\u001b[0;31m         \u001b[0mresult\u001b[0m \u001b[0;34m=\u001b[0m \u001b[0mImmediateResult\u001b[0m\u001b[0;34m(\u001b[0m\u001b[0mfunc\u001b[0m\u001b[0;34m)\u001b[0m\u001b[0;34m\u001b[0m\u001b[0;34m\u001b[0m\u001b[0m\n\u001b[0m\u001b[1;32m    209\u001b[0m         \u001b[0;32mif\u001b[0m \u001b[0mcallback\u001b[0m\u001b[0;34m:\u001b[0m\u001b[0;34m\u001b[0m\u001b[0;34m\u001b[0m\u001b[0m\n\u001b[1;32m    210\u001b[0m             \u001b[0mcallback\u001b[0m\u001b[0;34m(\u001b[0m\u001b[0mresult\u001b[0m\u001b[0;34m)\u001b[0m\u001b[0;34m\u001b[0m\u001b[0;34m\u001b[0m\u001b[0m\n",
            "\u001b[0;32m/usr/local/lib/python3.7/dist-packages/joblib/_parallel_backends.py\u001b[0m in \u001b[0;36m__init__\u001b[0;34m(self, batch)\u001b[0m\n\u001b[1;32m    570\u001b[0m         \u001b[0;31m# Don't delay the application, to avoid keeping the input\u001b[0m\u001b[0;34m\u001b[0m\u001b[0;34m\u001b[0m\u001b[0;34m\u001b[0m\u001b[0m\n\u001b[1;32m    571\u001b[0m         \u001b[0;31m# arguments in memory\u001b[0m\u001b[0;34m\u001b[0m\u001b[0;34m\u001b[0m\u001b[0;34m\u001b[0m\u001b[0m\n\u001b[0;32m--> 572\u001b[0;31m         \u001b[0mself\u001b[0m\u001b[0;34m.\u001b[0m\u001b[0mresults\u001b[0m \u001b[0;34m=\u001b[0m \u001b[0mbatch\u001b[0m\u001b[0;34m(\u001b[0m\u001b[0;34m)\u001b[0m\u001b[0;34m\u001b[0m\u001b[0;34m\u001b[0m\u001b[0m\n\u001b[0m\u001b[1;32m    573\u001b[0m \u001b[0;34m\u001b[0m\u001b[0m\n\u001b[1;32m    574\u001b[0m     \u001b[0;32mdef\u001b[0m \u001b[0mget\u001b[0m\u001b[0;34m(\u001b[0m\u001b[0mself\u001b[0m\u001b[0;34m)\u001b[0m\u001b[0;34m:\u001b[0m\u001b[0;34m\u001b[0m\u001b[0;34m\u001b[0m\u001b[0m\n",
            "\u001b[0;32m/usr/local/lib/python3.7/dist-packages/joblib/parallel.py\u001b[0m in \u001b[0;36m__call__\u001b[0;34m(self)\u001b[0m\n\u001b[1;32m    261\u001b[0m         \u001b[0;32mwith\u001b[0m \u001b[0mparallel_backend\u001b[0m\u001b[0;34m(\u001b[0m\u001b[0mself\u001b[0m\u001b[0;34m.\u001b[0m\u001b[0m_backend\u001b[0m\u001b[0;34m,\u001b[0m \u001b[0mn_jobs\u001b[0m\u001b[0;34m=\u001b[0m\u001b[0mself\u001b[0m\u001b[0;34m.\u001b[0m\u001b[0m_n_jobs\u001b[0m\u001b[0;34m)\u001b[0m\u001b[0;34m:\u001b[0m\u001b[0;34m\u001b[0m\u001b[0;34m\u001b[0m\u001b[0m\n\u001b[1;32m    262\u001b[0m             return [func(*args, **kwargs)\n\u001b[0;32m--> 263\u001b[0;31m                     for func, args, kwargs in self.items]\n\u001b[0m\u001b[1;32m    264\u001b[0m \u001b[0;34m\u001b[0m\u001b[0m\n\u001b[1;32m    265\u001b[0m     \u001b[0;32mdef\u001b[0m \u001b[0m__reduce__\u001b[0m\u001b[0;34m(\u001b[0m\u001b[0mself\u001b[0m\u001b[0;34m)\u001b[0m\u001b[0;34m:\u001b[0m\u001b[0;34m\u001b[0m\u001b[0;34m\u001b[0m\u001b[0m\n",
            "\u001b[0;32m/usr/local/lib/python3.7/dist-packages/joblib/parallel.py\u001b[0m in \u001b[0;36m<listcomp>\u001b[0;34m(.0)\u001b[0m\n\u001b[1;32m    261\u001b[0m         \u001b[0;32mwith\u001b[0m \u001b[0mparallel_backend\u001b[0m\u001b[0;34m(\u001b[0m\u001b[0mself\u001b[0m\u001b[0;34m.\u001b[0m\u001b[0m_backend\u001b[0m\u001b[0;34m,\u001b[0m \u001b[0mn_jobs\u001b[0m\u001b[0;34m=\u001b[0m\u001b[0mself\u001b[0m\u001b[0;34m.\u001b[0m\u001b[0m_n_jobs\u001b[0m\u001b[0;34m)\u001b[0m\u001b[0;34m:\u001b[0m\u001b[0;34m\u001b[0m\u001b[0;34m\u001b[0m\u001b[0m\n\u001b[1;32m    262\u001b[0m             return [func(*args, **kwargs)\n\u001b[0;32m--> 263\u001b[0;31m                     for func, args, kwargs in self.items]\n\u001b[0m\u001b[1;32m    264\u001b[0m \u001b[0;34m\u001b[0m\u001b[0m\n\u001b[1;32m    265\u001b[0m     \u001b[0;32mdef\u001b[0m \u001b[0m__reduce__\u001b[0m\u001b[0;34m(\u001b[0m\u001b[0mself\u001b[0m\u001b[0;34m)\u001b[0m\u001b[0;34m:\u001b[0m\u001b[0;34m\u001b[0m\u001b[0;34m\u001b[0m\u001b[0m\n",
            "\u001b[0;32m/usr/local/lib/python3.7/dist-packages/sklearn/model_selection/_validation.py\u001b[0m in \u001b[0;36m_fit_and_score\u001b[0;34m(estimator, X, y, scorer, train, test, verbose, parameters, fit_params, return_train_score, return_parameters, return_n_test_samples, return_times, return_estimator, error_score)\u001b[0m\n\u001b[1;32m    513\u001b[0m             \u001b[0mestimator\u001b[0m\u001b[0;34m.\u001b[0m\u001b[0mfit\u001b[0m\u001b[0;34m(\u001b[0m\u001b[0mX_train\u001b[0m\u001b[0;34m,\u001b[0m \u001b[0;34m**\u001b[0m\u001b[0mfit_params\u001b[0m\u001b[0;34m)\u001b[0m\u001b[0;34m\u001b[0m\u001b[0;34m\u001b[0m\u001b[0m\n\u001b[1;32m    514\u001b[0m         \u001b[0;32melse\u001b[0m\u001b[0;34m:\u001b[0m\u001b[0;34m\u001b[0m\u001b[0;34m\u001b[0m\u001b[0m\n\u001b[0;32m--> 515\u001b[0;31m             \u001b[0mestimator\u001b[0m\u001b[0;34m.\u001b[0m\u001b[0mfit\u001b[0m\u001b[0;34m(\u001b[0m\u001b[0mX_train\u001b[0m\u001b[0;34m,\u001b[0m \u001b[0my_train\u001b[0m\u001b[0;34m,\u001b[0m \u001b[0;34m**\u001b[0m\u001b[0mfit_params\u001b[0m\u001b[0;34m)\u001b[0m\u001b[0;34m\u001b[0m\u001b[0;34m\u001b[0m\u001b[0m\n\u001b[0m\u001b[1;32m    516\u001b[0m \u001b[0;34m\u001b[0m\u001b[0m\n\u001b[1;32m    517\u001b[0m     \u001b[0;32mexcept\u001b[0m \u001b[0mException\u001b[0m \u001b[0;32mas\u001b[0m \u001b[0me\u001b[0m\u001b[0;34m:\u001b[0m\u001b[0;34m\u001b[0m\u001b[0;34m\u001b[0m\u001b[0m\n",
            "\u001b[0;32m/usr/local/lib/python3.7/dist-packages/sklearn/tree/_classes.py\u001b[0m in \u001b[0;36mfit\u001b[0;34m(self, X, y, sample_weight, check_input, X_idx_sorted)\u001b[0m\n\u001b[1;32m   1223\u001b[0m             \u001b[0msample_weight\u001b[0m\u001b[0;34m=\u001b[0m\u001b[0msample_weight\u001b[0m\u001b[0;34m,\u001b[0m\u001b[0;34m\u001b[0m\u001b[0;34m\u001b[0m\u001b[0m\n\u001b[1;32m   1224\u001b[0m             \u001b[0mcheck_input\u001b[0m\u001b[0;34m=\u001b[0m\u001b[0mcheck_input\u001b[0m\u001b[0;34m,\u001b[0m\u001b[0;34m\u001b[0m\u001b[0;34m\u001b[0m\u001b[0m\n\u001b[0;32m-> 1225\u001b[0;31m             X_idx_sorted=X_idx_sorted)\n\u001b[0m\u001b[1;32m   1226\u001b[0m         \u001b[0;32mreturn\u001b[0m \u001b[0mself\u001b[0m\u001b[0;34m\u001b[0m\u001b[0;34m\u001b[0m\u001b[0m\n\u001b[1;32m   1227\u001b[0m \u001b[0;34m\u001b[0m\u001b[0m\n",
            "\u001b[0;32m/usr/local/lib/python3.7/dist-packages/sklearn/tree/_classes.py\u001b[0m in \u001b[0;36mfit\u001b[0;34m(self, X, y, sample_weight, check_input, X_idx_sorted)\u001b[0m\n\u001b[1;32m    365\u001b[0m                                            min_impurity_split)\n\u001b[1;32m    366\u001b[0m \u001b[0;34m\u001b[0m\u001b[0m\n\u001b[0;32m--> 367\u001b[0;31m         \u001b[0mbuilder\u001b[0m\u001b[0;34m.\u001b[0m\u001b[0mbuild\u001b[0m\u001b[0;34m(\u001b[0m\u001b[0mself\u001b[0m\u001b[0;34m.\u001b[0m\u001b[0mtree_\u001b[0m\u001b[0;34m,\u001b[0m \u001b[0mX\u001b[0m\u001b[0;34m,\u001b[0m \u001b[0my\u001b[0m\u001b[0;34m,\u001b[0m \u001b[0msample_weight\u001b[0m\u001b[0;34m,\u001b[0m \u001b[0mX_idx_sorted\u001b[0m\u001b[0;34m)\u001b[0m\u001b[0;34m\u001b[0m\u001b[0;34m\u001b[0m\u001b[0m\n\u001b[0m\u001b[1;32m    368\u001b[0m \u001b[0;34m\u001b[0m\u001b[0m\n\u001b[1;32m    369\u001b[0m         \u001b[0;32mif\u001b[0m \u001b[0mself\u001b[0m\u001b[0;34m.\u001b[0m\u001b[0mn_outputs_\u001b[0m \u001b[0;34m==\u001b[0m \u001b[0;36m1\u001b[0m \u001b[0;32mand\u001b[0m \u001b[0mis_classifier\u001b[0m\u001b[0;34m(\u001b[0m\u001b[0mself\u001b[0m\u001b[0;34m)\u001b[0m\u001b[0;34m:\u001b[0m\u001b[0;34m\u001b[0m\u001b[0;34m\u001b[0m\u001b[0m\n",
            "\u001b[0;31mKeyboardInterrupt\u001b[0m: "
          ]
        }
      ]
    },
    {
      "cell_type": "markdown",
      "metadata": {
        "id": "pZmkoXhJ7-4A"
      },
      "source": [
        "# 2. Linear regression"
      ]
    },
    {
      "cell_type": "code",
      "metadata": {
        "colab": {
          "base_uri": "https://localhost:8080/"
        },
        "id": "CR1xGZ068CTS",
        "outputId": "3c6f4365-d8ca-4d14-f9b4-42e6c8b21b54"
      },
      "source": [
        "\n",
        "train_m.corr()[\"meter_reading\"].sort_values(ascending = False)"
      ],
      "execution_count": null,
      "outputs": [
        {
          "output_type": "execute_result",
          "data": {
            "text/plain": [
              "meter_reading         1.000000\n",
              "square_feet           0.128625\n",
              "meter                 0.077655\n",
              "site_id               0.047013\n",
              "building_id           0.043261\n",
              "cloud_coverage        0.012345\n",
              "sea_level_pressure    0.006329\n",
              "wind_direction        0.005849\n",
              "wind_speed            0.005640\n",
              "part_of_day           0.003426\n",
              "hour                  0.003388\n",
              "precip_depth_1_hr     0.002318\n",
              "day_of_year           0.001688\n",
              "month                 0.001630\n",
              "day                   0.000104\n",
              "is_weekend           -0.004150\n",
              "dew_temperature      -0.022305\n",
              "air_temperature      -0.031970\n",
              "Name: meter_reading, dtype: float64"
            ]
          },
          "metadata": {
            "tags": []
          },
          "execution_count": 3
        }
      ]
    },
    {
      "cell_type": "code",
      "metadata": {
        "colab": {
          "base_uri": "https://localhost:8080/"
        },
        "id": "BhPkqZcr9ma0",
        "outputId": "3c77da0c-529e-4f35-b72c-dc3297adcba2"
      },
      "source": [
        "\n",
        "# Multicollinearity\n",
        "\n",
        "#one of the linear regression's assumptions: there isn't colinearity between input features\n",
        "\n",
        "cor_pairs = train_m.select_dtypes(exclude  = [\"object\"]).corr().unstack()\n",
        "strong_pairs = cor_pairs[((cor_pairs) > 0.8) & ((cor_pairs) < 1.0)]\n",
        "strong_pairs\n",
        "# Here are variables that are contenders to be cut due to being close to perfectly correlated:"
      ],
      "execution_count": null,
      "outputs": [
        {
          "output_type": "execute_result",
          "data": {
            "text/plain": [
              "building_id  site_id        0.980445\n",
              "site_id      building_id    0.980445\n",
              "hour         part_of_day    0.986869\n",
              "month        day_of_year    0.980618\n",
              "day_of_year  month          0.980618\n",
              "part_of_day  hour           0.986869\n",
              "dtype: float64"
            ]
          },
          "metadata": {
            "tags": []
          },
          "execution_count": 4
        }
      ]
    },
    {
      "cell_type": "code",
      "metadata": {
        "id": "2VMCwAMe9-9v"
      },
      "source": [
        "# For these variables, the best alternative would be to drop one of the highly correlated variables.\n",
        "train_m.drop([\"building_id\",  \"hour\",\"day_of_year\"], axis=1,  inplace=True)"
      ],
      "execution_count": null,
      "outputs": []
    },
    {
      "cell_type": "code",
      "metadata": {
        "id": "yAMOKJGtENXl"
      },
      "source": [
        "#droppigcorrelated  variables that was illustrated at the beginning of this notebook\n",
        "train_m.drop([\"cloud_coverage\", \"air_temperature\"], axis=1, inplace=True)\n"
      ],
      "execution_count": null,
      "outputs": []
    },
    {
      "cell_type": "code",
      "metadata": {
        "id": "0yADdXURFiju"
      },
      "source": [
        "#droppigcorrelated  variables that was illustrated at the beginning of this notebook\n",
        "#wind  speed is correlated with wind direction; dropping wind direction\n",
        "train_m.drop([\"wind_direction\"], axis=1, inplace=True)\n"
      ],
      "execution_count": null,
      "outputs": []
    },
    {
      "cell_type": "markdown",
      "metadata": {
        "id": "HcjzgwFIBe6s"
      },
      "source": [
        "I'll use the SGD version of linear regression, because it's faster."
      ]
    },
    {
      "cell_type": "markdown",
      "metadata": {
        "id": "fqDYAysNCZ1y"
      },
      "source": [
        "## SGDRegressor is\n",
        " a Linear model fitted by minimizing a regularized empirical loss with SGD\n",
        "\n",
        "Some of the mainn differennces :\n",
        "\n",
        "    SGD Regressor uses GD to find the parameters\n",
        "    SGD regressor doesn't use MSE, because it needs to know the direction of the error in order to adjust the line properly.\n",
        "\n"
      ]
    },
    {
      "cell_type": "markdown",
      "metadata": {
        "id": "CBpJuUsQCjEc"
      },
      "source": [
        "\n",
        "\n",
        "Since the algorithm depends on Gradient descent, numerical features must be scaled.\n"
      ]
    },
    {
      "cell_type": "code",
      "metadata": {
        "id": "BgM6ivex-8g3"
      },
      "source": [
        "#Encode categorical variable \n",
        "from sklearn import preprocessing\n",
        "le =preprocessing.LabelEncoder()\n",
        "le = le.fit(train_m['primary_use'])\n",
        "train_m['primary_use'] = le.transform(train_m['primary_use'])"
      ],
      "execution_count": null,
      "outputs": []
    },
    {
      "cell_type": "markdown",
      "metadata": {
        "id": "5eD3kadbo5nW"
      },
      "source": [
        "## - Scaling\n",
        "scaling numerical features is mandatory in NN's, "
      ]
    },
    {
      "cell_type": "code",
      "metadata": {
        "id": "wNiGr0FqG74Z"
      },
      "source": [
        "train_m.drop(\"timestamp\", axis=1, inplace=True)"
      ],
      "execution_count": null,
      "outputs": []
    },
    {
      "cell_type": "code",
      "metadata": {
        "id": "fzJg9dBIHKIJ"
      },
      "source": [
        "import numpy as np"
      ],
      "execution_count": null,
      "outputs": []
    },
    {
      "cell_type": "code",
      "metadata": {
        "id": "nDsuXyXtHFAB"
      },
      "source": [
        "y = np.log1p(train_m[\"meter_reading\"])"
      ],
      "execution_count": null,
      "outputs": []
    },
    {
      "cell_type": "code",
      "metadata": {
        "id": "LAkSNZHsHK2f"
      },
      "source": [
        "# train_m.drop(\"meter_reading\", axis=1, inplace=True)"
      ],
      "execution_count": null,
      "outputs": []
    },
    {
      "cell_type": "code",
      "metadata": {
        "id": "xWzArngEryxA"
      },
      "source": [
        ""
      ],
      "execution_count": null,
      "outputs": []
    },
    {
      "cell_type": "code",
      "metadata": {
        "id": "M9DeZ_gxC5sH"
      },
      "source": [
        "#note that we need to save the mean and std of the train data, to use it in the pipeline when testing\n",
        "#but we'll skip this now for saving memory\n",
        "features_numeric = [\"meter\", \"site_id\", \"square_feet\", \"dew_temperature\", \"precip_depth_1_hr\", \"sea_level_pressure\", \"wind_speed\", \"day\", \"month\",\"is_weekend\", \"part_of_day\"  ]"
      ],
      "execution_count": null,
      "outputs": []
    },
    {
      "cell_type": "code",
      "metadata": {
        "id": "sb7IRhpQGGPE",
        "colab": {
          "base_uri": "https://localhost:8080/",
          "height": 225
        },
        "outputId": "aae07233-5904-4799-d497-46e8bdfb75c1"
      },
      "source": [
        "from sklearn.preprocessing import StandardScaler\n",
        "#note that we need to save the mean and std of the train data, to use it in the pipeline when testing\n",
        "#but we'll skip this now for saving memory\n",
        "features_numeric = [\"meter\", \"site_id\", \"square_feet\", \"dew_temperature\", \"precip_depth_1_hr\", \"sea_level_pressure\", \"wind_speed\", \"day\", \"month\",\"is_weekend\", \"part_of_day\"  ]\n",
        "scaler = StandardScaler().fit(train_m[features_numeric]) #.select_dtypes(include =  [\"int64\", \"float64\"])\n",
        "x_scaled = scaler.transform(train_m[features_numeric])"
      ],
      "execution_count": null,
      "outputs": [
        {
          "output_type": "error",
          "ename": "NameError",
          "evalue": "ignored",
          "traceback": [
            "\u001b[0;31m---------------------------------------------------------------------------\u001b[0m",
            "\u001b[0;31mNameError\u001b[0m                                 Traceback (most recent call last)",
            "\u001b[0;32m<ipython-input-11-0b15bad85781>\u001b[0m in \u001b[0;36m<module>\u001b[0;34m()\u001b[0m\n\u001b[1;32m      1\u001b[0m \u001b[0;32mfrom\u001b[0m \u001b[0msklearn\u001b[0m\u001b[0;34m.\u001b[0m\u001b[0mpreprocessing\u001b[0m \u001b[0;32mimport\u001b[0m \u001b[0mStandardScaler\u001b[0m\u001b[0;34m\u001b[0m\u001b[0;34m\u001b[0m\u001b[0m\n\u001b[0;32m----> 2\u001b[0;31m \u001b[0mscaler\u001b[0m \u001b[0;34m=\u001b[0m \u001b[0mStandardScaler\u001b[0m\u001b[0;34m(\u001b[0m\u001b[0;34m)\u001b[0m\u001b[0;34m.\u001b[0m\u001b[0mfit\u001b[0m\u001b[0;34m(\u001b[0m\u001b[0mtrain_m\u001b[0m\u001b[0;34m[\u001b[0m\u001b[0mfeatures_numeric\u001b[0m\u001b[0;34m]\u001b[0m\u001b[0;34m)\u001b[0m \u001b[0;31m#.select_dtypes(include =  [\"int64\", \"float64\"])\u001b[0m\u001b[0;34m\u001b[0m\u001b[0;34m\u001b[0m\u001b[0m\n\u001b[0m\u001b[1;32m      3\u001b[0m \u001b[0mx_scaled\u001b[0m \u001b[0;34m=\u001b[0m \u001b[0mscaler\u001b[0m\u001b[0;34m.\u001b[0m\u001b[0mtransform\u001b[0m\u001b[0;34m(\u001b[0m\u001b[0mtrain_m\u001b[0m\u001b[0;34m[\u001b[0m\u001b[0mfeatures_numeric\u001b[0m\u001b[0;34m]\u001b[0m\u001b[0;34m)\u001b[0m\u001b[0;34m\u001b[0m\u001b[0;34m\u001b[0m\u001b[0m\n",
            "\u001b[0;31mNameError\u001b[0m: name 'features_numeric' is not defined"
          ]
        }
      ]
    },
    {
      "cell_type": "code",
      "metadata": {
        "colab": {
          "base_uri": "https://localhost:8080/"
        },
        "id": "upQeaw5wGuZ7",
        "outputId": "2c352d4e-4575-49c6-9c5c-ad482de6c4d1"
      },
      "source": [
        "x_scaled[0]"
      ],
      "execution_count": null,
      "outputs": [
        {
          "output_type": "execute_result",
          "data": {
            "text/plain": [
              "array([-0.72091803, -1.61509357, -0.85844313,  1.48541958, -0.2829493 ,\n",
              "       -0.22013357, -0.56178524,  0.47862244, -0.47981701, -0.63370479,\n",
              "       -1.46423298])"
            ]
          },
          "metadata": {
            "tags": []
          },
          "execution_count": 15
        }
      ]
    },
    {
      "cell_type": "code",
      "metadata": {
        "id": "kEi4RTIkGyKC"
      },
      "source": [
        "del  train_m"
      ],
      "execution_count": null,
      "outputs": []
    },
    {
      "cell_type": "code",
      "metadata": {
        "colab": {
          "base_uri": "https://localhost:8080/"
        },
        "id": "sJQK2bPEnzpM",
        "outputId": "d0c67848-10c1-4115-af5e-a3c11c262b8e"
      },
      "source": [
        "x_scaled[0]"
      ],
      "execution_count": null,
      "outputs": [
        {
          "output_type": "execute_result",
          "data": {
            "text/plain": [
              "array([-0.72091803, -1.61509357, -0.85844313,  1.48541958, -0.2829493 ,\n",
              "       -0.22013357, -0.56178524,  0.47862244, -0.47981701, -0.63370479,\n",
              "       -1.46423298])"
            ]
          },
          "metadata": {
            "tags": []
          },
          "execution_count": 47
        }
      ]
    },
    {
      "cell_type": "code",
      "metadata": {
        "id": "Ae20NstEGyW_"
      },
      "source": [
        "\n",
        "from sklearn.model_selection import train_test_split\n",
        "xtrain, xval, ytrain, yval = train_test_split(x_scaled, y, test_size=0.5, random_state=42)"
      ],
      "execution_count": null,
      "outputs": []
    },
    {
      "cell_type": "code",
      "metadata": {
        "colab": {
          "base_uri": "https://localhost:8080/",
          "height": 225
        },
        "id": "QXqRDdDwMvg-",
        "outputId": "c64cb309-27f0-40f8-e366-c02f91fc72c1"
      },
      "source": [
        "from sklearn.linear_model  import SGDRegressor\n",
        "from sklearn.metrics import  mean_absolute_error\n",
        "# The default loss funnction is ‘squared_loss’, which refers to the ordinary least squares fit in Model 1. \n",
        "SGDreg   =  SGDRegressor(random_state = 42)\n",
        "SGDreg.fit(xtrain, ytrain.ravel())\n",
        "y_pred=SGDreg.predict(xval)\n"
      ],
      "execution_count": null,
      "outputs": [
        {
          "output_type": "error",
          "ename": "NameError",
          "evalue": "ignored",
          "traceback": [
            "\u001b[0;31m---------------------------------------------------------------------------\u001b[0m",
            "\u001b[0;31mNameError\u001b[0m                                 Traceback (most recent call last)",
            "\u001b[0;32m<ipython-input-19-e7f57f44c3fd>\u001b[0m in \u001b[0;36m<module>\u001b[0;34m()\u001b[0m\n\u001b[1;32m      6\u001b[0m \u001b[0my_pred\u001b[0m\u001b[0;34m=\u001b[0m\u001b[0mSGDreg\u001b[0m\u001b[0;34m.\u001b[0m\u001b[0mpredict\u001b[0m\u001b[0;34m(\u001b[0m\u001b[0mxval\u001b[0m\u001b[0;34m)\u001b[0m\u001b[0;34m\u001b[0m\u001b[0;34m\u001b[0m\u001b[0m\n\u001b[1;32m      7\u001b[0m \u001b[0;34m\u001b[0m\u001b[0m\n\u001b[0;32m----> 8\u001b[0;31m \u001b[0mprint\u001b[0m\u001b[0;34m(\u001b[0m\u001b[0;34m' Mean Squared Error:'\u001b[0m\u001b[0;34m,\u001b[0m \u001b[0mnp\u001b[0m\u001b[0;34m.\u001b[0m\u001b[0msqrt\u001b[0m\u001b[0;34m(\u001b[0m\u001b[0mmetrics\u001b[0m\u001b[0;34m.\u001b[0m\u001b[0mmean_squared_error\u001b[0m\u001b[0;34m(\u001b[0m\u001b[0my_valid\u001b[0m\u001b[0;34m,\u001b[0m \u001b[0;34m(\u001b[0m\u001b[0my_pred\u001b[0m\u001b[0;34m)\u001b[0m\u001b[0;34m)\u001b[0m\u001b[0;34m)\u001b[0m\u001b[0;34m)\u001b[0m\u001b[0;34m\u001b[0m\u001b[0;34m\u001b[0m\u001b[0m\n\u001b[0m\u001b[1;32m      9\u001b[0m \u001b[0mprint\u001b[0m\u001b[0;34m(\u001b[0m\u001b[0;34m' Mean absolute Error:'\u001b[0m\u001b[0;34m,\u001b[0m \u001b[0mnp\u001b[0m\u001b[0;34m.\u001b[0m\u001b[0msqrt\u001b[0m\u001b[0;34m(\u001b[0m\u001b[0mmetrics\u001b[0m\u001b[0;34m.\u001b[0m\u001b[0mmean_squared_error\u001b[0m\u001b[0;34m(\u001b[0m\u001b[0my_valid\u001b[0m\u001b[0;34m,\u001b[0m \u001b[0;34m(\u001b[0m\u001b[0my_pred\u001b[0m\u001b[0;34m)\u001b[0m\u001b[0;34m)\u001b[0m\u001b[0;34m)\u001b[0m\u001b[0;34m)\u001b[0m\u001b[0;34m\u001b[0m\u001b[0;34m\u001b[0m\u001b[0m\n",
            "\u001b[0;31mNameError\u001b[0m: name 'metrics' is not defined"
          ]
        }
      ]
    },
    {
      "cell_type": "code",
      "metadata": {
        "colab": {
          "base_uri": "https://localhost:8080/"
        },
        "id": "iYfIwjnpNjs1",
        "outputId": "1c1619e6-bd69-41b0-871d-16466fcc9224"
      },
      "source": [
        "\n",
        "print(' Mean Squared Error:', np.sqrt(metrics.mean_squared_error(yval, (y_pred))))\n",
        "print(' Mean absolute Error:', np.sqrt(metrics.mean_squared_error(yval, (y_pred))))"
      ],
      "execution_count": null,
      "outputs": [
        {
          "output_type": "stream",
          "text": [
            " Mean Squared Error: 1.9128682940413277\n",
            " Mean absolute Error: 1.9128682940413277\n"
          ],
          "name": "stdout"
        }
      ]
    },
    {
      "cell_type": "code",
      "metadata": {
        "colab": {
          "base_uri": "https://localhost:8080/"
        },
        "id": "kGJz7e1oOS2j",
        "outputId": "41a14d4e-61c8-4d7c-e325-a277c7db1972"
      },
      "source": [
        "print(' Root Mean Squared Log Error:', RMSLE(y_pred, yval))"
      ],
      "execution_count": null,
      "outputs": [
        {
          "output_type": "stream",
          "text": [
            " Root Mean Squared Log Error: 357.89915493163886\n"
          ],
          "name": "stdout"
        }
      ]
    },
    {
      "cell_type": "code",
      "metadata": {
        "colab": {
          "base_uri": "https://localhost:8080/",
          "height": 368
        },
        "id": "b7qaJC2BOYTg",
        "outputId": "0b0fd85e-54c2-435e-e614-4c49f4625306"
      },
      "source": [
        "import matplotlib.pyplot as plt \n",
        "plt.figure(figsize=(10, 5))\n",
        "plt.scatter(yval[0:10000], y_pred[0:10000], s=30)\n",
        "plt.title('Predicted vs. Actual meter reading')\n",
        "plt.xlabel('Actual meter reading')\n",
        "plt.ylabel('Predicted meter reading')\n",
        "\n",
        "#plt.plot([min(y_valid), max(y_valid)], [min(y_valid), max(y_valid)])\n",
        "#plt.tight_layout()"
      ],
      "execution_count": null,
      "outputs": [
        {
          "output_type": "execute_result",
          "data": {
            "text/plain": [
              "Text(0, 0.5, 'Predicted meter reading')"
            ]
          },
          "metadata": {
            "tags": []
          },
          "execution_count": 27
        },
        {
          "output_type": "display_data",
          "data": {
            "image/png": "[encoded data removed]",
            "text/plain": [
              "<Figure size 720x360 with 1 Axes>"
            ]
          },
          "metadata": {
            "tags": [],
            "needs_background": "light"
          }
        }
      ]
    },
    {
      "cell_type": "markdown",
      "metadata": {
        "id": "Ntn-VNZJOqfW"
      },
      "source": [
        "SGD regressor performed alot worse than DT regressor. This could be due to the followig reason:\n",
        " input variables aren't strongly correlated with the target variable; the model failed to find a   linear  seperator"
      ]
    },
    {
      "cell_type": "code",
      "metadata": {
        "id": "5sOLdXrLOpkN"
      },
      "source": [
        ""
      ],
      "execution_count": null,
      "outputs": []
    },
    {
      "cell_type": "markdown",
      "metadata": {
        "id": "sboWXJKLNQtN"
      },
      "source": [
        "Time: "
      ]
    },
    {
      "cell_type": "code",
      "metadata": {
        "id": "fACGeri6Mvlm"
      },
      "source": [
        ""
      ],
      "execution_count": null,
      "outputs": []
    },
    {
      "cell_type": "markdown",
      "metadata": {
        "id": "ry0wIBMvJSyz"
      },
      "source": [
        "# 3. Neural Network"
      ]
    },
    {
      "cell_type": "markdown",
      "metadata": {
        "id": "Y2kssHxZRvVt"
      },
      "source": [
        "\n",
        "Artificial Neural Network consists of inputs, hidden layers, activation funtion, bias and output. Each connection is weighted by previous learning events and with each new input of data more learning takes place. ANNs have the ability to learn and model non-linear and complex relationships. It can generalize and it doesn't impose restrictions on the input"
      ]
    },
    {
      "cell_type": "code",
      "metadata": {
        "colab": {
          "base_uri": "https://localhost:8080/",
          "height": 444
        },
        "id": "rPVIMD__TSFs",
        "outputId": "cee997df-8fae-4469-d695-556dbeffc949"
      },
      "source": [
        "train_m"
      ],
      "execution_count": null,
      "outputs": [
        {
          "output_type": "execute_result",
          "data": {
            "text/html": [
              "<div>\n",
              "<style scoped>\n",
              "    .dataframe tbody tr th:only-of-type {\n",
              "        vertical-align: middle;\n",
              "    }\n",
              "\n",
              "    .dataframe tbody tr th {\n",
              "        vertical-align: top;\n",
              "    }\n",
              "\n",
              "    .dataframe thead th {\n",
              "        text-align: right;\n",
              "    }\n",
              "</style>\n",
              "<table border=\"1\" class=\"dataframe\">\n",
              "  <thead>\n",
              "    <tr style=\"text-align: right;\">\n",
              "      <th></th>\n",
              "      <th>meter</th>\n",
              "      <th>site_id</th>\n",
              "      <th>primary_use</th>\n",
              "      <th>square_feet</th>\n",
              "      <th>air_temperature</th>\n",
              "      <th>dew_temperature</th>\n",
              "      <th>precip_depth_1_hr</th>\n",
              "      <th>wind_direction</th>\n",
              "      <th>wind_speed</th>\n",
              "      <th>day</th>\n",
              "      <th>hour</th>\n",
              "      <th>month</th>\n",
              "      <th>day_of_year</th>\n",
              "      <th>is_weekend</th>\n",
              "      <th>part_of_day</th>\n",
              "    </tr>\n",
              "  </thead>\n",
              "  <tbody>\n",
              "    <tr>\n",
              "      <th>3360</th>\n",
              "      <td>0</td>\n",
              "      <td>0</td>\n",
              "      <td>Education</td>\n",
              "      <td>7432</td>\n",
              "      <td>26.093750</td>\n",
              "      <td>22.796875</td>\n",
              "      <td>-1.0</td>\n",
              "      <td>120.0</td>\n",
              "      <td>2.099609</td>\n",
              "      <td>20</td>\n",
              "      <td>0</td>\n",
              "      <td>5</td>\n",
              "      <td>140</td>\n",
              "      <td>0</td>\n",
              "      <td>1</td>\n",
              "    </tr>\n",
              "    <tr>\n",
              "      <th>3361</th>\n",
              "      <td>0</td>\n",
              "      <td>0</td>\n",
              "      <td>Education</td>\n",
              "      <td>7432</td>\n",
              "      <td>25.000000</td>\n",
              "      <td>20.593750</td>\n",
              "      <td>13.0</td>\n",
              "      <td>140.0</td>\n",
              "      <td>1.500000</td>\n",
              "      <td>20</td>\n",
              "      <td>1</td>\n",
              "      <td>5</td>\n",
              "      <td>140</td>\n",
              "      <td>0</td>\n",
              "      <td>1</td>\n",
              "    </tr>\n",
              "    <tr>\n",
              "      <th>3362</th>\n",
              "      <td>0</td>\n",
              "      <td>0</td>\n",
              "      <td>Education</td>\n",
              "      <td>7432</td>\n",
              "      <td>22.796875</td>\n",
              "      <td>21.093750</td>\n",
              "      <td>0.0</td>\n",
              "      <td>160.0</td>\n",
              "      <td>3.099609</td>\n",
              "      <td>20</td>\n",
              "      <td>2</td>\n",
              "      <td>5</td>\n",
              "      <td>140</td>\n",
              "      <td>0</td>\n",
              "      <td>1</td>\n",
              "    </tr>\n",
              "    <tr>\n",
              "      <th>3363</th>\n",
              "      <td>0</td>\n",
              "      <td>0</td>\n",
              "      <td>Education</td>\n",
              "      <td>7432</td>\n",
              "      <td>22.796875</td>\n",
              "      <td>21.093750</td>\n",
              "      <td>0.0</td>\n",
              "      <td>190.0</td>\n",
              "      <td>3.099609</td>\n",
              "      <td>20</td>\n",
              "      <td>3</td>\n",
              "      <td>5</td>\n",
              "      <td>140</td>\n",
              "      <td>0</td>\n",
              "      <td>1</td>\n",
              "    </tr>\n",
              "    <tr>\n",
              "      <th>3364</th>\n",
              "      <td>0</td>\n",
              "      <td>0</td>\n",
              "      <td>Education</td>\n",
              "      <td>7432</td>\n",
              "      <td>22.796875</td>\n",
              "      <td>21.093750</td>\n",
              "      <td>0.0</td>\n",
              "      <td>0.0</td>\n",
              "      <td>0.000000</td>\n",
              "      <td>20</td>\n",
              "      <td>4</td>\n",
              "      <td>5</td>\n",
              "      <td>140</td>\n",
              "      <td>0</td>\n",
              "      <td>2</td>\n",
              "    </tr>\n",
              "    <tr>\n",
              "      <th>...</th>\n",
              "      <td>...</td>\n",
              "      <td>...</td>\n",
              "      <td>...</td>\n",
              "      <td>...</td>\n",
              "      <td>...</td>\n",
              "      <td>...</td>\n",
              "      <td>...</td>\n",
              "      <td>...</td>\n",
              "      <td>...</td>\n",
              "      <td>...</td>\n",
              "      <td>...</td>\n",
              "      <td>...</td>\n",
              "      <td>...</td>\n",
              "      <td>...</td>\n",
              "      <td>...</td>\n",
              "    </tr>\n",
              "    <tr>\n",
              "      <th>20216095</th>\n",
              "      <td>0</td>\n",
              "      <td>15</td>\n",
              "      <td>Office</td>\n",
              "      <td>92271</td>\n",
              "      <td>3.000000</td>\n",
              "      <td>-8.000000</td>\n",
              "      <td>-1.0</td>\n",
              "      <td>180.0</td>\n",
              "      <td>5.699219</td>\n",
              "      <td>31</td>\n",
              "      <td>19</td>\n",
              "      <td>12</td>\n",
              "      <td>0</td>\n",
              "      <td>1</td>\n",
              "      <td>5</td>\n",
              "    </tr>\n",
              "    <tr>\n",
              "      <th>20216096</th>\n",
              "      <td>0</td>\n",
              "      <td>15</td>\n",
              "      <td>Office</td>\n",
              "      <td>92271</td>\n",
              "      <td>2.800781</td>\n",
              "      <td>-8.898438</td>\n",
              "      <td>-1.0</td>\n",
              "      <td>180.0</td>\n",
              "      <td>7.699219</td>\n",
              "      <td>31</td>\n",
              "      <td>20</td>\n",
              "      <td>12</td>\n",
              "      <td>0</td>\n",
              "      <td>1</td>\n",
              "      <td>6</td>\n",
              "    </tr>\n",
              "    <tr>\n",
              "      <th>20216097</th>\n",
              "      <td>0</td>\n",
              "      <td>15</td>\n",
              "      <td>Office</td>\n",
              "      <td>92271</td>\n",
              "      <td>2.800781</td>\n",
              "      <td>-7.199219</td>\n",
              "      <td>-1.0</td>\n",
              "      <td>180.0</td>\n",
              "      <td>5.101562</td>\n",
              "      <td>31</td>\n",
              "      <td>21</td>\n",
              "      <td>12</td>\n",
              "      <td>0</td>\n",
              "      <td>1</td>\n",
              "      <td>6</td>\n",
              "    </tr>\n",
              "    <tr>\n",
              "      <th>20216098</th>\n",
              "      <td>0</td>\n",
              "      <td>15</td>\n",
              "      <td>Office</td>\n",
              "      <td>92271</td>\n",
              "      <td>2.199219</td>\n",
              "      <td>-6.699219</td>\n",
              "      <td>-1.0</td>\n",
              "      <td>170.0</td>\n",
              "      <td>4.601562</td>\n",
              "      <td>31</td>\n",
              "      <td>22</td>\n",
              "      <td>12</td>\n",
              "      <td>0</td>\n",
              "      <td>1</td>\n",
              "      <td>6</td>\n",
              "    </tr>\n",
              "    <tr>\n",
              "      <th>20216099</th>\n",
              "      <td>0</td>\n",
              "      <td>15</td>\n",
              "      <td>Office</td>\n",
              "      <td>92271</td>\n",
              "      <td>1.700195</td>\n",
              "      <td>-5.601562</td>\n",
              "      <td>-1.0</td>\n",
              "      <td>180.0</td>\n",
              "      <td>8.796875</td>\n",
              "      <td>31</td>\n",
              "      <td>23</td>\n",
              "      <td>12</td>\n",
              "      <td>0</td>\n",
              "      <td>1</td>\n",
              "      <td>6</td>\n",
              "    </tr>\n",
              "  </tbody>\n",
              "</table>\n",
              "<p>19843638 rows × 15 columns</p>\n",
              "</div>"
            ],
            "text/plain": [
              "          meter  site_id primary_use  ...  day_of_year  is_weekend  part_of_day\n",
              "3360          0        0   Education  ...          140           0            1\n",
              "3361          0        0   Education  ...          140           0            1\n",
              "3362          0        0   Education  ...          140           0            1\n",
              "3363          0        0   Education  ...          140           0            1\n",
              "3364          0        0   Education  ...          140           0            2\n",
              "...         ...      ...         ...  ...          ...         ...          ...\n",
              "20216095      0       15      Office  ...            0           1            5\n",
              "20216096      0       15      Office  ...            0           1            6\n",
              "20216097      0       15      Office  ...            0           1            6\n",
              "20216098      0       15      Office  ...            0           1            6\n",
              "20216099      0       15      Office  ...            0           1            6\n",
              "\n",
              "[19843638 rows x 15 columns]"
            ]
          },
          "metadata": {
            "tags": []
          },
          "execution_count": 7
        }
      ]
    },
    {
      "cell_type": "code",
      "metadata": {
        "id": "oBjwslF9sdaD"
      },
      "source": [
        "from sklearn.preprocessing import StandardScaler\n",
        "#note that we need to save the mean and std of the train data, to use it in the pipeline when testing\n",
        "#but we'll skip this now for saving memory\n",
        "features_numeric = [\"meter\", \"site_id\", \"square_feet\", \"dew_temperature\", \"precip_depth_1_hr\", \"wind_speed\",\"wind_direction\", \"day\", \"hour\",\"month\", \"day_of_year\",\"is_weekend\", \"part_of_day\"  ]\n",
        "scaler = StandardScaler().fit(train_m[features_numeric]) #.select_dtypes(include =  [\"int64\", \"float64\"])\n",
        "x_scaled = scaler.transform(train_m[features_numeric])"
      ],
      "execution_count": null,
      "outputs": []
    },
    {
      "cell_type": "code",
      "metadata": {
        "colab": {
          "base_uri": "https://localhost:8080/"
        },
        "id": "z2XyM0TcwH31",
        "outputId": "ace8c48d-185c-4cd3-c68b-f3a046fe6c21"
      },
      "source": [
        "x_scaled.shape"
      ],
      "execution_count": null,
      "outputs": [
        {
          "output_type": "execute_result",
          "data": {
            "text/plain": [
              "(19843638, 13)"
            ]
          },
          "metadata": {
            "tags": []
          },
          "execution_count": 16
        }
      ]
    },
    {
      "cell_type": "code",
      "metadata": {
        "id": "glbMEIxNTWqb"
      },
      "source": [
        "import numpy as np\n",
        "import pandas as pd\n",
        "import gc\n",
        "from keras.models import Sequential\n",
        "from keras.layers import Dense\n",
        "from keras.optimizers import Adam\n",
        "from keras.layers import BatchNormalization\n",
        "from keras.layers import Dropout\n",
        "from keras import backend as K\n",
        "import datetime\n",
        "from sklearn.preprocessing import LabelEncoder\n",
        "import keras\n",
        "import tensorflow as tf"
      ],
      "execution_count": null,
      "outputs": []
    },
    {
      "cell_type": "code",
      "metadata": {
        "id": "tc0KnbfHf8kV"
      },
      "source": [
        "def RMSLE_(pred,act): \n",
        "    return K.sqrt(K.mean(K.square(pred - act),axis = 0))"
      ],
      "execution_count": null,
      "outputs": []
    },
    {
      "cell_type": "code",
      "metadata": {
        "colab": {
          "base_uri": "https://localhost:8080/"
        },
        "id": "-Mtpi6Wlfk36",
        "outputId": "8801f509-681a-4db4-a93b-16dd89589890"
      },
      "source": [
        "\n",
        "model = Sequential()\n",
        "model.add(Dense(128, input_shape = (13, ), activation = \"relu\", name = \"fc1\"))\n",
        "model.add(Dense(64, activation=\"relu\"), name = \"fc2\")\n",
        "model.add(Dense(32, activation=\"relu\"), name = \"fc3\")\n",
        "model.add(Dense(16, activation=\"relu\"), name = \"fc4\")\n",
        "model.add(Dense(1, activation=\"linear\"), name = \"output\")\n",
        "\n",
        "optimizer = Adam(lr = 0.001)\n",
        "model.compile(optimizer, loss = [\"mean_squared_error\"], metrics = [RMSLE_model])\n",
        "model.summary()"
      ],
      "execution_count": null,
      "outputs": [
        {
          "output_type": "stream",
          "text": [
            "Model: \"sequential_1\"\n",
            "_________________________________________________________________\n",
            "Layer (type)                 Output Shape              Param #   \n",
            "=================================================================\n",
            "fc1 (Dense)                  (None, 128)               1792      \n",
            "_________________________________________________________________\n",
            "fc2 (Dense)                  (None, 64)                8256      \n",
            "_________________________________________________________________\n",
            "fc3 (Dense)                  (None, 32)                2080      \n",
            "_________________________________________________________________\n",
            "fc4 (Dense)                  (None, 16)                528       \n",
            "_________________________________________________________________\n",
            "output (Dense)               (None, 1)                 17        \n",
            "=================================================================\n",
            "Total params: 12,673\n",
            "Trainable params: 12,673\n",
            "Non-trainable params: 0\n",
            "_________________________________________________________________\n"
          ],
          "name": "stdout"
        }
      ]
    },
    {
      "cell_type": "code",
      "metadata": {
        "id": "Ym9zFR81l_ev"
      },
      "source": [
        "#split\n",
        "#divide training and test data\n",
        "from sklearn.model_selection import train_test_split\n",
        "xtrain, xval, ytrain, yval = train_test_split(x_scaled, y, test_size=0.5, random_state=42)"
      ],
      "execution_count": null,
      "outputs": []
    },
    {
      "cell_type": "code",
      "metadata": {
        "colab": {
          "base_uri": "https://localhost:8080/"
        },
        "id": "K25CmjNCm7BU",
        "outputId": "2506106a-c195-4226-a379-385f97824e98"
      },
      "source": [
        "xtrain.shape"
      ],
      "execution_count": null,
      "outputs": [
        {
          "output_type": "execute_result",
          "data": {
            "text/plain": [
              "(9921819, 13)"
            ]
          },
          "metadata": {
            "tags": []
          },
          "execution_count": 15
        }
      ]
    },
    {
      "cell_type": "code",
      "metadata": {
        "colab": {
          "base_uri": "https://localhost:8080/"
        },
        "id": "TJ8UTB1bgDC7",
        "outputId": "a390cd82-d2e9-4951-dd23-5f1a7d52f3de"
      },
      "source": [
        "history = model.fit(xtrain,ytrain,validation_data=(xval, yval),verbose=2, batch_size = 3000, epochs = 20)\n",
        "model.save(\"Model_20.h5\") "
      ],
      "execution_count": null,
      "outputs": [
        {
          "output_type": "stream",
          "text": [
            "Epoch 1/20\n",
            "3308/3308 - 17s - loss: 2.6788 - RMSLE_model: 1.6234 - val_loss: 2.3733 - val_RMSLE_model: 1.5403\n",
            "Epoch 2/20\n",
            "3308/3308 - 13s - loss: 2.2784 - RMSLE_model: 1.5090 - val_loss: 2.1708 - val_RMSLE_model: 1.4731\n",
            "Epoch 3/20\n",
            "3308/3308 - 13s - loss: 2.1013 - RMSLE_model: 1.4492 - val_loss: 2.0700 - val_RMSLE_model: 1.4384\n",
            "Epoch 4/20\n",
            "3308/3308 - 13s - loss: 2.0364 - RMSLE_model: 1.4266 - val_loss: 2.0217 - val_RMSLE_model: 1.4215\n",
            "Epoch 5/20\n",
            "3308/3308 - 13s - loss: 1.9991 - RMSLE_model: 1.4136 - val_loss: 1.9907 - val_RMSLE_model: 1.4106\n",
            "Epoch 6/20\n",
            "3308/3308 - 13s - loss: 1.9698 - RMSLE_model: 1.4031 - val_loss: 1.9572 - val_RMSLE_model: 1.3987\n",
            "Epoch 7/20\n",
            "3308/3308 - 13s - loss: 1.9446 - RMSLE_model: 1.3941 - val_loss: 1.9409 - val_RMSLE_model: 1.3928\n",
            "Epoch 8/20\n",
            "3308/3308 - 13s - loss: 1.9208 - RMSLE_model: 1.3856 - val_loss: 1.9167 - val_RMSLE_model: 1.3841\n",
            "Epoch 9/20\n",
            "3308/3308 - 13s - loss: 1.8975 - RMSLE_model: 1.3772 - val_loss: 1.9015 - val_RMSLE_model: 1.3786\n",
            "Epoch 10/20\n",
            "3308/3308 - 13s - loss: 1.8792 - RMSLE_model: 1.3705 - val_loss: 1.8735 - val_RMSLE_model: 1.3684\n",
            "Epoch 11/20\n",
            "3308/3308 - 13s - loss: 1.8619 - RMSLE_model: 1.3642 - val_loss: 1.8519 - val_RMSLE_model: 1.3605\n",
            "Epoch 12/20\n",
            "3308/3308 - 13s - loss: 1.8493 - RMSLE_model: 1.3595 - val_loss: 1.8380 - val_RMSLE_model: 1.3554\n",
            "Epoch 13/20\n",
            "3308/3308 - 13s - loss: 1.8362 - RMSLE_model: 1.3547 - val_loss: 1.8361 - val_RMSLE_model: 1.3547\n",
            "Epoch 14/20\n",
            "3308/3308 - 13s - loss: 1.8259 - RMSLE_model: 1.3509 - val_loss: 1.8265 - val_RMSLE_model: 1.3512\n",
            "Epoch 15/20\n",
            "3308/3308 - 13s - loss: 1.8151 - RMSLE_model: 1.3469 - val_loss: 1.8077 - val_RMSLE_model: 1.3442\n",
            "Epoch 16/20\n",
            "3308/3308 - 13s - loss: 1.8049 - RMSLE_model: 1.3431 - val_loss: 1.8129 - val_RMSLE_model: 1.3461\n",
            "Epoch 17/20\n",
            "3308/3308 - 13s - loss: 1.7949 - RMSLE_model: 1.3394 - val_loss: 1.7905 - val_RMSLE_model: 1.3377\n",
            "Epoch 18/20\n",
            "3308/3308 - 13s - loss: 1.7852 - RMSLE_model: 1.3358 - val_loss: 1.7934 - val_RMSLE_model: 1.3388\n",
            "Epoch 19/20\n",
            "3308/3308 - 13s - loss: 1.7762 - RMSLE_model: 1.3324 - val_loss: 1.7711 - val_RMSLE_model: 1.3305\n",
            "Epoch 20/20\n",
            "3308/3308 - 13s - loss: 1.7679 - RMSLE_model: 1.3293 - val_loss: 1.7715 - val_RMSLE_model: 1.3307\n"
          ],
          "name": "stdout"
        }
      ]
    },
    {
      "cell_type": "code",
      "metadata": {
        "id": "yKsLKZ9cfk_c"
      },
      "source": [
        "model.load_weights(\"Model_20.h5\") "
      ],
      "execution_count": null,
      "outputs": []
    },
    {
      "cell_type": "code",
      "metadata": {
        "id": "X1ScQ7Ym2iiN"
      },
      "source": [
        "xval"
      ],
      "execution_count": null,
      "outputs": []
    },
    {
      "cell_type": "code",
      "metadata": {
        "colab": {
          "base_uri": "https://localhost:8080/"
        },
        "id": "jFpk-eRcxn9w",
        "outputId": "565338d4-a541-4528-f30e-f784cc849dc4"
      },
      "source": [
        "ypred_val = model.evaluate(xval, yval, batch_size = 3000)\n",
        "#Returns the loss value & metrics values for the model in test mode"
      ],
      "execution_count": null,
      "outputs": [
        {
          "output_type": "stream",
          "text": [
            "310057/310057 [==============================] - 513s 2ms/step - loss: 0.0000e+00 - RMSLE_model: 0.0000e+00\n"
          ],
          "name": "stdout"
        }
      ]
    },
    {
      "cell_type": "code",
      "metadata": {
        "colab": {
          "base_uri": "https://localhost:8080/"
        },
        "id": "TOfxcb1Q1Rq_",
        "outputId": "44c30861-2d80-44c1-8740-f3a45dd87ceb"
      },
      "source": [
        "len(ypred_val)"
      ],
      "execution_count": null,
      "outputs": [
        {
          "output_type": "execute_result",
          "data": {
            "text/plain": [
              "2"
            ]
          },
          "metadata": {
            "tags": []
          },
          "execution_count": 29
        }
      ]
    },
    {
      "cell_type": "code",
      "metadata": {
        "id": "lJfpRXUZ174Q"
      },
      "source": [
        "predictions = model.predict(xval)"
      ],
      "execution_count": null,
      "outputs": []
    },
    {
      "cell_type": "code",
      "metadata": {
        "colab": {
          "base_uri": "https://localhost:8080/"
        },
        "id": "uhdaGooN3dZs",
        "outputId": "709c7058-c26a-4911-c21d-2c87192ee4cc"
      },
      "source": [
        "predictions.shape"
      ],
      "execution_count": null,
      "outputs": [
        {
          "output_type": "execute_result",
          "data": {
            "text/plain": [
              "(9921819, 1)"
            ]
          },
          "metadata": {
            "tags": []
          },
          "execution_count": 32
        }
      ]
    },
    {
      "cell_type": "code",
      "metadata": {
        "colab": {
          "base_uri": "https://localhost:8080/"
        },
        "id": "OuLTJ3z83nfi",
        "outputId": "9d20e48e-ac39-423d-f1f5-1951fa379049"
      },
      "source": [
        "yval.shape"
      ],
      "execution_count": null,
      "outputs": [
        {
          "output_type": "execute_result",
          "data": {
            "text/plain": [
              "(9921819,)"
            ]
          },
          "metadata": {
            "tags": []
          },
          "execution_count": 33
        }
      ]
    },
    {
      "cell_type": "code",
      "metadata": {
        "id": "coAiS7wy3uE5"
      },
      "source": [
        "del   train_m"
      ],
      "execution_count": null,
      "outputs": []
    },
    {
      "cell_type": "code",
      "metadata": {
        "colab": {
          "base_uri": "https://localhost:8080/",
          "height": 431
        },
        "id": "5fIaBxYO3oO5",
        "outputId": "dc09059f-c4f9-4ac2-fbe4-59c14b200a91"
      },
      "source": [
        "\n",
        "RMSLE_NN=RMSLE_(predictions,yval)\n",
        "RMSLE_NN"
      ],
      "execution_count": null,
      "outputs": [
        {
          "output_type": "error",
          "ename": "MemoryError",
          "evalue": "ignored",
          "traceback": [
            "\u001b[0;31m---------------------------------------------------------------------------\u001b[0m",
            "\u001b[0;31mMemoryError\u001b[0m                               Traceback (most recent call last)",
            "\u001b[0;32m<ipython-input-36-cf1e39a1c477>\u001b[0m in \u001b[0;36m<module>\u001b[0;34m()\u001b[0m\n\u001b[1;32m      1\u001b[0m \u001b[0;34m\u001b[0m\u001b[0m\n\u001b[0;32m----> 2\u001b[0;31m \u001b[0mRMSLE_NN\u001b[0m\u001b[0;34m=\u001b[0m\u001b[0mRMSLE_\u001b[0m\u001b[0;34m(\u001b[0m\u001b[0mpredictions\u001b[0m\u001b[0;34m,\u001b[0m\u001b[0myval\u001b[0m\u001b[0;34m)\u001b[0m\u001b[0;34m\u001b[0m\u001b[0;34m\u001b[0m\u001b[0m\n\u001b[0m\u001b[1;32m      3\u001b[0m \u001b[0mRMSLE_NN\u001b[0m\u001b[0;34m\u001b[0m\u001b[0;34m\u001b[0m\u001b[0m\n",
            "\u001b[0;32m<ipython-input-23-d66f6bb607fe>\u001b[0m in \u001b[0;36mRMSLE_\u001b[0;34m(pred, act)\u001b[0m\n\u001b[1;32m      1\u001b[0m \u001b[0;32mdef\u001b[0m \u001b[0mRMSLE_\u001b[0m\u001b[0;34m(\u001b[0m\u001b[0mpred\u001b[0m\u001b[0;34m,\u001b[0m\u001b[0mact\u001b[0m\u001b[0;34m)\u001b[0m\u001b[0;34m:\u001b[0m\u001b[0;34m\u001b[0m\u001b[0;34m\u001b[0m\u001b[0m\n\u001b[0;32m----> 2\u001b[0;31m     \u001b[0;32mreturn\u001b[0m \u001b[0mK\u001b[0m\u001b[0;34m.\u001b[0m\u001b[0msqrt\u001b[0m\u001b[0;34m(\u001b[0m\u001b[0mK\u001b[0m\u001b[0;34m.\u001b[0m\u001b[0mmean\u001b[0m\u001b[0;34m(\u001b[0m\u001b[0mK\u001b[0m\u001b[0;34m.\u001b[0m\u001b[0msquare\u001b[0m\u001b[0;34m(\u001b[0m\u001b[0mpred\u001b[0m \u001b[0;34m-\u001b[0m \u001b[0mact\u001b[0m\u001b[0;34m)\u001b[0m\u001b[0;34m,\u001b[0m\u001b[0maxis\u001b[0m \u001b[0;34m=\u001b[0m \u001b[0;36m0\u001b[0m\u001b[0;34m)\u001b[0m\u001b[0;34m)\u001b[0m\u001b[0;34m\u001b[0m\u001b[0;34m\u001b[0m\u001b[0m\n\u001b[0m",
            "\u001b[0;32m/usr/local/lib/python3.7/dist-packages/pandas/core/series.py\u001b[0m in \u001b[0;36m__array_ufunc__\u001b[0;34m(self, ufunc, method, *inputs, **kwargs)\u001b[0m\n\u001b[1;32m    681\u001b[0m         \u001b[0;31m# for binary ops, use our custom dunder methods\u001b[0m\u001b[0;34m\u001b[0m\u001b[0;34m\u001b[0m\u001b[0;34m\u001b[0m\u001b[0m\n\u001b[1;32m    682\u001b[0m         result = ops.maybe_dispatch_ufunc_to_dunder_op(\n\u001b[0;32m--> 683\u001b[0;31m             \u001b[0mself\u001b[0m\u001b[0;34m,\u001b[0m \u001b[0mufunc\u001b[0m\u001b[0;34m,\u001b[0m \u001b[0mmethod\u001b[0m\u001b[0;34m,\u001b[0m \u001b[0;34m*\u001b[0m\u001b[0minputs\u001b[0m\u001b[0;34m,\u001b[0m \u001b[0;34m**\u001b[0m\u001b[0mkwargs\u001b[0m\u001b[0;34m\u001b[0m\u001b[0;34m\u001b[0m\u001b[0m\n\u001b[0m\u001b[1;32m    684\u001b[0m         )\n\u001b[1;32m    685\u001b[0m         \u001b[0;32mif\u001b[0m \u001b[0mresult\u001b[0m \u001b[0;32mis\u001b[0m \u001b[0;32mnot\u001b[0m \u001b[0mNotImplemented\u001b[0m\u001b[0;34m:\u001b[0m\u001b[0;34m\u001b[0m\u001b[0;34m\u001b[0m\u001b[0m\n",
            "\u001b[0;32mpandas/_libs/ops_dispatch.pyx\u001b[0m in \u001b[0;36mpandas._libs.ops_dispatch.maybe_dispatch_ufunc_to_dunder_op\u001b[0;34m()\u001b[0m\n",
            "\u001b[0;32m/usr/local/lib/python3.7/dist-packages/pandas/core/ops/common.py\u001b[0m in \u001b[0;36mnew_method\u001b[0;34m(self, other)\u001b[0m\n\u001b[1;32m     63\u001b[0m         \u001b[0mother\u001b[0m \u001b[0;34m=\u001b[0m \u001b[0mitem_from_zerodim\u001b[0m\u001b[0;34m(\u001b[0m\u001b[0mother\u001b[0m\u001b[0;34m)\u001b[0m\u001b[0;34m\u001b[0m\u001b[0;34m\u001b[0m\u001b[0m\n\u001b[1;32m     64\u001b[0m \u001b[0;34m\u001b[0m\u001b[0m\n\u001b[0;32m---> 65\u001b[0;31m         \u001b[0;32mreturn\u001b[0m \u001b[0mmethod\u001b[0m\u001b[0;34m(\u001b[0m\u001b[0mself\u001b[0m\u001b[0;34m,\u001b[0m \u001b[0mother\u001b[0m\u001b[0;34m)\u001b[0m\u001b[0;34m\u001b[0m\u001b[0;34m\u001b[0m\u001b[0m\n\u001b[0m\u001b[1;32m     66\u001b[0m \u001b[0;34m\u001b[0m\u001b[0m\n\u001b[1;32m     67\u001b[0m     \u001b[0;32mreturn\u001b[0m \u001b[0mnew_method\u001b[0m\u001b[0;34m\u001b[0m\u001b[0;34m\u001b[0m\u001b[0m\n",
            "\u001b[0;32m/usr/local/lib/python3.7/dist-packages/pandas/core/ops/__init__.py\u001b[0m in \u001b[0;36mwrapper\u001b[0;34m(left, right)\u001b[0m\n\u001b[1;32m    341\u001b[0m         \u001b[0mlvalues\u001b[0m \u001b[0;34m=\u001b[0m \u001b[0mextract_array\u001b[0m\u001b[0;34m(\u001b[0m\u001b[0mleft\u001b[0m\u001b[0;34m,\u001b[0m \u001b[0mextract_numpy\u001b[0m\u001b[0;34m=\u001b[0m\u001b[0;32mTrue\u001b[0m\u001b[0;34m)\u001b[0m\u001b[0;34m\u001b[0m\u001b[0;34m\u001b[0m\u001b[0m\n\u001b[1;32m    342\u001b[0m         \u001b[0mrvalues\u001b[0m \u001b[0;34m=\u001b[0m \u001b[0mextract_array\u001b[0m\u001b[0;34m(\u001b[0m\u001b[0mright\u001b[0m\u001b[0;34m,\u001b[0m \u001b[0mextract_numpy\u001b[0m\u001b[0;34m=\u001b[0m\u001b[0;32mTrue\u001b[0m\u001b[0;34m)\u001b[0m\u001b[0;34m\u001b[0m\u001b[0;34m\u001b[0m\u001b[0m\n\u001b[0;32m--> 343\u001b[0;31m         \u001b[0mresult\u001b[0m \u001b[0;34m=\u001b[0m \u001b[0marithmetic_op\u001b[0m\u001b[0;34m(\u001b[0m\u001b[0mlvalues\u001b[0m\u001b[0;34m,\u001b[0m \u001b[0mrvalues\u001b[0m\u001b[0;34m,\u001b[0m \u001b[0mop\u001b[0m\u001b[0;34m)\u001b[0m\u001b[0;34m\u001b[0m\u001b[0;34m\u001b[0m\u001b[0m\n\u001b[0m\u001b[1;32m    344\u001b[0m \u001b[0;34m\u001b[0m\u001b[0m\n\u001b[1;32m    345\u001b[0m         \u001b[0;32mreturn\u001b[0m \u001b[0mleft\u001b[0m\u001b[0;34m.\u001b[0m\u001b[0m_construct_result\u001b[0m\u001b[0;34m(\u001b[0m\u001b[0mresult\u001b[0m\u001b[0;34m,\u001b[0m \u001b[0mname\u001b[0m\u001b[0;34m=\u001b[0m\u001b[0mres_name\u001b[0m\u001b[0;34m)\u001b[0m\u001b[0;34m\u001b[0m\u001b[0;34m\u001b[0m\u001b[0m\n",
            "\u001b[0;32m/usr/local/lib/python3.7/dist-packages/pandas/core/ops/array_ops.py\u001b[0m in \u001b[0;36marithmetic_op\u001b[0;34m(left, right, op)\u001b[0m\n\u001b[1;32m    188\u001b[0m     \u001b[0;32melse\u001b[0m\u001b[0;34m:\u001b[0m\u001b[0;34m\u001b[0m\u001b[0;34m\u001b[0m\u001b[0m\n\u001b[1;32m    189\u001b[0m         \u001b[0;32mwith\u001b[0m \u001b[0mnp\u001b[0m\u001b[0;34m.\u001b[0m\u001b[0merrstate\u001b[0m\u001b[0;34m(\u001b[0m\u001b[0mall\u001b[0m\u001b[0;34m=\u001b[0m\u001b[0;34m\"ignore\"\u001b[0m\u001b[0;34m)\u001b[0m\u001b[0;34m:\u001b[0m\u001b[0;34m\u001b[0m\u001b[0;34m\u001b[0m\u001b[0m\n\u001b[0;32m--> 190\u001b[0;31m             \u001b[0mres_values\u001b[0m \u001b[0;34m=\u001b[0m \u001b[0mna_arithmetic_op\u001b[0m\u001b[0;34m(\u001b[0m\u001b[0mlvalues\u001b[0m\u001b[0;34m,\u001b[0m \u001b[0mrvalues\u001b[0m\u001b[0;34m,\u001b[0m \u001b[0mop\u001b[0m\u001b[0;34m)\u001b[0m\u001b[0;34m\u001b[0m\u001b[0;34m\u001b[0m\u001b[0m\n\u001b[0m\u001b[1;32m    191\u001b[0m \u001b[0;34m\u001b[0m\u001b[0m\n\u001b[1;32m    192\u001b[0m     \u001b[0;32mreturn\u001b[0m \u001b[0mres_values\u001b[0m\u001b[0;34m\u001b[0m\u001b[0;34m\u001b[0m\u001b[0m\n",
            "\u001b[0;32m/usr/local/lib/python3.7/dist-packages/pandas/core/ops/array_ops.py\u001b[0m in \u001b[0;36mna_arithmetic_op\u001b[0;34m(left, right, op, is_cmp)\u001b[0m\n\u001b[1;32m    141\u001b[0m \u001b[0;34m\u001b[0m\u001b[0m\n\u001b[1;32m    142\u001b[0m     \u001b[0;32mtry\u001b[0m\u001b[0;34m:\u001b[0m\u001b[0;34m\u001b[0m\u001b[0;34m\u001b[0m\u001b[0m\n\u001b[0;32m--> 143\u001b[0;31m         \u001b[0mresult\u001b[0m \u001b[0;34m=\u001b[0m \u001b[0mexpressions\u001b[0m\u001b[0;34m.\u001b[0m\u001b[0mevaluate\u001b[0m\u001b[0;34m(\u001b[0m\u001b[0mop\u001b[0m\u001b[0;34m,\u001b[0m \u001b[0mleft\u001b[0m\u001b[0;34m,\u001b[0m \u001b[0mright\u001b[0m\u001b[0;34m)\u001b[0m\u001b[0;34m\u001b[0m\u001b[0;34m\u001b[0m\u001b[0m\n\u001b[0m\u001b[1;32m    144\u001b[0m     \u001b[0;32mexcept\u001b[0m \u001b[0mTypeError\u001b[0m\u001b[0;34m:\u001b[0m\u001b[0;34m\u001b[0m\u001b[0;34m\u001b[0m\u001b[0m\n\u001b[1;32m    145\u001b[0m         \u001b[0;32mif\u001b[0m \u001b[0mis_cmp\u001b[0m\u001b[0;34m:\u001b[0m\u001b[0;34m\u001b[0m\u001b[0;34m\u001b[0m\u001b[0m\n",
            "\u001b[0;32m/usr/local/lib/python3.7/dist-packages/pandas/core/computation/expressions.py\u001b[0m in \u001b[0;36mevaluate\u001b[0;34m(op, a, b, use_numexpr)\u001b[0m\n\u001b[1;32m    231\u001b[0m         \u001b[0muse_numexpr\u001b[0m \u001b[0;34m=\u001b[0m \u001b[0muse_numexpr\u001b[0m \u001b[0;32mand\u001b[0m \u001b[0m_bool_arith_check\u001b[0m\u001b[0;34m(\u001b[0m\u001b[0mop_str\u001b[0m\u001b[0;34m,\u001b[0m \u001b[0ma\u001b[0m\u001b[0;34m,\u001b[0m \u001b[0mb\u001b[0m\u001b[0;34m)\u001b[0m\u001b[0;34m\u001b[0m\u001b[0;34m\u001b[0m\u001b[0m\n\u001b[1;32m    232\u001b[0m         \u001b[0;32mif\u001b[0m \u001b[0muse_numexpr\u001b[0m\u001b[0;34m:\u001b[0m\u001b[0;34m\u001b[0m\u001b[0;34m\u001b[0m\u001b[0m\n\u001b[0;32m--> 233\u001b[0;31m             \u001b[0;32mreturn\u001b[0m \u001b[0m_evaluate\u001b[0m\u001b[0;34m(\u001b[0m\u001b[0mop\u001b[0m\u001b[0;34m,\u001b[0m \u001b[0mop_str\u001b[0m\u001b[0;34m,\u001b[0m \u001b[0ma\u001b[0m\u001b[0;34m,\u001b[0m \u001b[0mb\u001b[0m\u001b[0;34m)\u001b[0m  \u001b[0;31m# type: ignore\u001b[0m\u001b[0;34m\u001b[0m\u001b[0;34m\u001b[0m\u001b[0m\n\u001b[0m\u001b[1;32m    234\u001b[0m     \u001b[0;32mreturn\u001b[0m \u001b[0m_evaluate_standard\u001b[0m\u001b[0;34m(\u001b[0m\u001b[0mop\u001b[0m\u001b[0;34m,\u001b[0m \u001b[0mop_str\u001b[0m\u001b[0;34m,\u001b[0m \u001b[0ma\u001b[0m\u001b[0;34m,\u001b[0m \u001b[0mb\u001b[0m\u001b[0;34m)\u001b[0m\u001b[0;34m\u001b[0m\u001b[0;34m\u001b[0m\u001b[0m\n\u001b[1;32m    235\u001b[0m \u001b[0;34m\u001b[0m\u001b[0m\n",
            "\u001b[0;32m/usr/local/lib/python3.7/dist-packages/pandas/core/computation/expressions.py\u001b[0m in \u001b[0;36m_evaluate_numexpr\u001b[0;34m(op, op_str, a, b)\u001b[0m\n\u001b[1;32m    110\u001b[0m             \u001b[0;34mf\"a_value {op_str} b_value\"\u001b[0m\u001b[0;34m,\u001b[0m\u001b[0;34m\u001b[0m\u001b[0;34m\u001b[0m\u001b[0m\n\u001b[1;32m    111\u001b[0m             \u001b[0mlocal_dict\u001b[0m\u001b[0;34m=\u001b[0m\u001b[0;34m{\u001b[0m\u001b[0;34m\"a_value\"\u001b[0m\u001b[0;34m:\u001b[0m \u001b[0ma_value\u001b[0m\u001b[0;34m,\u001b[0m \u001b[0;34m\"b_value\"\u001b[0m\u001b[0;34m:\u001b[0m \u001b[0mb_value\u001b[0m\u001b[0;34m}\u001b[0m\u001b[0;34m,\u001b[0m\u001b[0;34m\u001b[0m\u001b[0;34m\u001b[0m\u001b[0m\n\u001b[0;32m--> 112\u001b[0;31m             \u001b[0mcasting\u001b[0m\u001b[0;34m=\u001b[0m\u001b[0;34m\"safe\"\u001b[0m\u001b[0;34m,\u001b[0m\u001b[0;34m\u001b[0m\u001b[0;34m\u001b[0m\u001b[0m\n\u001b[0m\u001b[1;32m    113\u001b[0m         )\n\u001b[1;32m    114\u001b[0m \u001b[0;34m\u001b[0m\u001b[0m\n",
            "\u001b[0;32m/usr/local/lib/python3.7/dist-packages/numexpr/necompiler.py\u001b[0m in \u001b[0;36mevaluate\u001b[0;34m(ex, local_dict, global_dict, out, order, casting, **kwargs)\u001b[0m\n\u001b[1;32m    834\u001b[0m     \u001b[0m_numexpr_last\u001b[0m \u001b[0;34m=\u001b[0m \u001b[0mdict\u001b[0m\u001b[0;34m(\u001b[0m\u001b[0mex\u001b[0m\u001b[0;34m=\u001b[0m\u001b[0mcompiled_ex\u001b[0m\u001b[0;34m,\u001b[0m \u001b[0margnames\u001b[0m\u001b[0;34m=\u001b[0m\u001b[0mnames\u001b[0m\u001b[0;34m,\u001b[0m \u001b[0mkwargs\u001b[0m\u001b[0;34m=\u001b[0m\u001b[0mkwargs\u001b[0m\u001b[0;34m)\u001b[0m\u001b[0;34m\u001b[0m\u001b[0;34m\u001b[0m\u001b[0m\n\u001b[1;32m    835\u001b[0m     \u001b[0;32mwith\u001b[0m \u001b[0mevaluate_lock\u001b[0m\u001b[0;34m:\u001b[0m\u001b[0;34m\u001b[0m\u001b[0;34m\u001b[0m\u001b[0m\n\u001b[0;32m--> 836\u001b[0;31m         \u001b[0;32mreturn\u001b[0m \u001b[0mcompiled_ex\u001b[0m\u001b[0;34m(\u001b[0m\u001b[0;34m*\u001b[0m\u001b[0marguments\u001b[0m\u001b[0;34m,\u001b[0m \u001b[0;34m**\u001b[0m\u001b[0mkwargs\u001b[0m\u001b[0;34m)\u001b[0m\u001b[0;34m\u001b[0m\u001b[0;34m\u001b[0m\u001b[0m\n\u001b[0m\u001b[1;32m    837\u001b[0m \u001b[0;34m\u001b[0m\u001b[0m\n\u001b[1;32m    838\u001b[0m \u001b[0;34m\u001b[0m\u001b[0m\n",
            "\u001b[0;31mMemoryError\u001b[0m: Unable to allocate 716. TiB for an array with shape (9921819, 9921819) and data type float64"
          ]
        }
      ]
    },
    {
      "cell_type": "code",
      "metadata": {
        "colab": {
          "base_uri": "https://localhost:8080/",
          "height": 368
        },
        "id": "s_449As1xlob",
        "outputId": "04a06f30-9a2a-4d82-af82-2f6df5e61c49"
      },
      "source": [
        "import matplotlib.pyplot as plt \n",
        "plt.figure(figsize=(10, 5))\n",
        "plt.scatter(np.expm1(yval), np.expm1(predictions), s=30)\n",
        "plt.title('Predicted vs. Actual meter reading(NN model)')\n",
        "plt.xlabel('Actual meter reading')\n",
        "plt.ylabel('Predicted meter reading')\n",
        "\n",
        "#plt.plot([min(y_valid), max(y_valid)], [min(y_valid), max(y_valid)])\n",
        "#plt.tight_layout()"
      ],
      "execution_count": null,
      "outputs": [
        {
          "output_type": "execute_result",
          "data": {
            "text/plain": [
              "Text(0, 0.5, 'Predicted meter reading')"
            ]
          },
          "metadata": {
            "tags": []
          },
          "execution_count": 41
        },
        {
          "output_type": "display_data",
          "data": {
            "image/png": "[encoded data removed]",
            "text/plain": [
              "<Figure size 720x360 with 1 Axes>"
            ]
          },
          "metadata": {
            "tags": [],
            "needs_background": "light"
          }
        }
      ]
    },
    {
      "cell_type": "markdown",
      "metadata": {
        "id": "rf3uj-3O4h1t"
      },
      "source": [
        "Clearly,  the network predicts 0's when it shouldn't, and fails to predict large numbers. This is expected since we trained on a small number of epochs; better results could be achieved if we increased the number of epochs."
      ]
    },
    {
      "cell_type": "markdown",
      "metadata": {
        "id": "k6cng5aQzmR1"
      },
      "source": [
        "# Visualizing val. loss: does the model overfit?"
      ]
    },
    {
      "cell_type": "code",
      "metadata": {
        "id": "jtBZlY69xlwl"
      },
      "source": [
        "import matplotlib.pyplot  as  plt\n",
        "train_loss =     history.history[\"loss\"]\n",
        "val_loss = history.history[\"val_loss\"]\n",
        "plt.plot(range(5,200),  train_loss[5:200],  \"bo\", label = \"Trainninng   loss\")\n",
        "plt.plot(range(5,200), val_loss[5:200], \"b\", label =  \"val_loss\")\n",
        "plt.xlabel(\"Epochs\")\n",
        "plt.ylabel(\"Loss\")\n",
        "plt.legend()\n",
        "plt.show()"
      ],
      "execution_count": null,
      "outputs": []
    },
    {
      "cell_type": "markdown",
      "metadata": {
        "id": "XerJaTi3z4rD"
      },
      "source": [
        "# Building the pipeline"
      ]
    },
    {
      "cell_type": "markdown",
      "metadata": {
        "id": "9b0hGaW00QQs"
      },
      "source": [
        "Now let's build a pipeline for preprocessing the numerical attributes:"
      ]
    },
    {
      "cell_type": "code",
      "metadata": {
        "id": "Y1f4_DtPEj4q"
      },
      "source": [
        "def fill_na_num_weather():\n",
        "  #Train data\n",
        "\n",
        "fill_lib = round(weather_train_f.groupby([\"site_id\",\"day\"])[\"cloud_coverage\"].transform(\"mean\") )\n",
        "weather_train_f[\"cloud_coverage\"].fillna(fill_lib, inplace=True)\n",
        "\n",
        "#mean of day, per site id\n",
        "#Test data\n",
        "\n"
      ],
      "execution_count": null,
      "outputs": []
    },
    {
      "cell_type": "code",
      "metadata": {
        "id": "2r0CU2YMEprG"
      },
      "source": [
        ""
      ],
      "execution_count": null,
      "outputs": []
    },
    {
      "cell_type": "code",
      "metadata": {
        "id": "yvjRpu3_zxXG"
      },
      "source": [
        "from sklearn.pipeline import Pipeline\n",
        "from sklearn.preprocessing import StandardScaler\n",
        "\n",
        "num_pipeline = Pipeline([\n",
        "        ('imputer', SimpleImputer(strategy=\"median\")),\n",
        "        ('attribs_adder', CombinedAttributesAdder()),\n",
        "        ('std_scaler', StandardScaler()),\n",
        "    ])\n",
        "\n",
        "housing_num_tr = num_pipeline.fit_transform(housing_num)\n",
        "#\n",
        "num_pipeline = Pipeline([\n",
        "                         (\"imputer\",   )\n",
        "])"
      ],
      "execution_count": null,
      "outputs": []
    },
    {
      "cell_type": "code",
      "metadata": {
        "id": "S7RFnqVvzxet"
      },
      "source": [
        ""
      ],
      "execution_count": null,
      "outputs": []
    },
    {
      "cell_type": "code",
      "metadata": {
        "id": "U3dZXeFdCpVb"
      },
      "source": [
        "submission = pd.read_csv('sample_submission.csv')\n",
        "submission['meter_reading'] = res\n",
        "submission.loc[submission['meter_reading']<0, 'meter_reading'] = 0\n",
        "submission.to_csv('my_submission1.csv', index=False)\n",
        "submission"
      ],
      "execution_count": null,
      "outputs": []
    }
  ]
}